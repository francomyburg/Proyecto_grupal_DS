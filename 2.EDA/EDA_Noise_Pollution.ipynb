{
 "cells": [
  {
   "attachments": {},
   "cell_type": "markdown",
   "metadata": {},
   "source": [
    "<h1 align=\"center\">Contaminación Sonora</h1>"
   ]
  },
  {
   "attachments": {},
   "cell_type": "markdown",
   "metadata": {},
   "source": [
    "Los niveles de sonido permitidos en la ciudad de Nueva York están regulados por la Agencia de Protección Ambiental de los Estados Unidos (EPA, por sus siglas en inglés) y la Ley de Control de Ruido de la Ciudad de Nueva York.\n",
    "\n",
    "Según la EPA, la exposición prolongada a niveles de sonido superiores a 70 decibeles (dB) puede causar daño auditivo. En Nueva York, la Ley de Control de Ruido establece que el límite máximo de ruido permitido en áreas residenciales durante el día es de 45 dB y de 42 dB durante la noche. En áreas comerciales, el límite máximo de ruido durante el día es de 85 dB y de 80 dB durante la noche.\n",
    "\n",
    "La ciudad de Nueva York también cuenta con un programa de monitoreo de ruido en toda la ciudad, que tiene como objetivo proteger la salud y el bienestar de los residentes de la ciudad, así como reducir la contaminación acústica. El programa de monitoreo de ruido utiliza equipos de medición de sonido para medir los niveles de ruido en áreas específicas de la ciudad y se lleva a cabo en colaboración con varias agencias de la ciudad, incluida la Junta de Normas de Ruido de la Ciudad de Nueva York.\n",
    "\n",
    "En conclusión, los niveles de sonido permitidos por el oído humano en Nueva York están regulados por la EPA y la Ley de Control de Ruido de la Ciudad de Nueva York. Los límites máximos de ruido permitidos varían según la zona y el horario del día. Además, la ciudad cuenta con un programa de monitoreo de ruido en toda la ciudad para proteger la salud y el bienestar de los residentes."
   ]
  },
  {
   "cell_type": "code",
   "execution_count": 1,
   "metadata": {},
   "outputs": [],
   "source": [
    "%load_ext autoreload\n",
    "%autoreload 2\n",
    "# Gestion de rutas\n",
    "import utils.paths as path\n",
    "# Importacion de librerías\n",
    "import pandas as pd\n",
    "import numpy as np\n",
    "import seaborn as sns\n",
    "import matplotlib.pyplot as plt\n",
    "import matplotlib.dates as mdates\n",
    "\n",
    "import requests\n",
    "import os\n",
    "import re\n",
    "\n",
    "# Directorio de los datos crudos / raw data\n",
    "\n",
    "raw_data_dir = path.make_dir_function(['datasets', 'raw'])\n",
    "proc_data_dir = path.make_dir_function(['datasets', 'processed'])\n",
    "inte_data_dir = path.make_dir_function(['datasets', 'interim'])\n",
    "roy_data_dir = path.make_dir_function(['roy','datasets','prosseced'])\n",
    "\n",
    "roy_data_dir = path.make_dir_function(['roy','datasets','prosseced'])\n",
    "jaime_dir = path.make_dir_function(['jaime','data','finale_dataset'])"
   ]
  },
  {
   "cell_type": "code",
   "execution_count": 2,
   "metadata": {},
   "outputs": [],
   "source": [
    "# Formato para el Backgound del grafico\n",
    "# sns.set_style(\"darkgrid\", {\"grid.color\": \".6\", \"grid.linestyle\": \":\"})"
   ]
  },
  {
   "attachments": {},
   "cell_type": "markdown",
   "metadata": {},
   "source": [
    "<!-- <h2 align=\"center\">1. Descarga de registros de presencia de tipos de sonidos en NYC</h2> -->\n",
    "## 1. Descarga de registros de presencia de tipos de sonidos en NYC"
   ]
  },
  {
   "cell_type": "code",
   "execution_count": 3,
   "metadata": {},
   "outputs": [],
   "source": [
    "# Funcion para descargar el dataset\n",
    "def download_file(url, file_name):\n",
    "    # Ruta para guardar el archivo\n",
    "    file_path = raw_data_dir(raw_data_dir(), file_name)\n",
    "    \n",
    "    # Verifica si el archivo ya existe en la ruta especificada\n",
    "    if os.path.exists(file_path):\n",
    "        print(f\"{file_name} ya existe en la ruta especificada.\")\n",
    "        return\n",
    "    \n",
    "    try:\n",
    "        # Solicitud GET para descargar el archivo\n",
    "        response = requests.get(url)\n",
    "        if response.status_code == 200:\n",
    "            with open(file_path, \"wb\") as f:\n",
    "                f.write(response.content)\n",
    "            print(f\"{file_name} ha sido descargado y guardado en {raw_data_dir()}\")\n",
    "        else:\n",
    "            print(f\"No se pudo descargar {file_name}. El código de estado d la solicitud es {response.status_code}.\")\n",
    "    except requests.exceptions.RequestException as e:\n",
    "        print(f\"No se pudo descargar {file_name}. Se produjo un error de red: {e}\")\n",
    "\n",
    "# URL del dataset\n",
    "url = \"https://zenodo.org/record/3966543/files/annotations.csv?download=1\"\n",
    "\n",
    "# Descargar el dataset\n",
    "# download_file(url, 'noise_pollution.csv')"
   ]
  },
  {
   "cell_type": "code",
   "execution_count": 4,
   "metadata": {},
   "outputs": [
    {
     "data": {
      "text/html": [
       "<div>\n",
       "<style scoped>\n",
       "    .dataframe tbody tr th:only-of-type {\n",
       "        vertical-align: middle;\n",
       "    }\n",
       "\n",
       "    .dataframe tbody tr th {\n",
       "        vertical-align: top;\n",
       "    }\n",
       "\n",
       "    .dataframe thead th {\n",
       "        text-align: right;\n",
       "    }\n",
       "</style>\n",
       "<table border=\"1\" class=\"dataframe\">\n",
       "  <thead>\n",
       "    <tr style=\"text-align: right;\">\n",
       "      <th></th>\n",
       "      <th>split</th>\n",
       "      <th>sensor_id</th>\n",
       "      <th>audio_filename</th>\n",
       "      <th>annotator_id</th>\n",
       "      <th>borough</th>\n",
       "      <th>block</th>\n",
       "      <th>latitude</th>\n",
       "      <th>longitude</th>\n",
       "      <th>year</th>\n",
       "      <th>week</th>\n",
       "      <th>...</th>\n",
       "      <th>7-X_other-unknown-human-voice_proximity</th>\n",
       "      <th>8-1_dog-barking-whining_proximity</th>\n",
       "      <th>1_engine_presence</th>\n",
       "      <th>2_machinery-impact_presence</th>\n",
       "      <th>3_non-machinery-impact_presence</th>\n",
       "      <th>4_powered-saw_presence</th>\n",
       "      <th>5_alert-signal_presence</th>\n",
       "      <th>6_music_presence</th>\n",
       "      <th>7_human-voice_presence</th>\n",
       "      <th>8_dog_presence</th>\n",
       "    </tr>\n",
       "  </thead>\n",
       "  <tbody>\n",
       "    <tr>\n",
       "      <th>0</th>\n",
       "      <td>test</td>\n",
       "      <td>0</td>\n",
       "      <td>00_026884.wav</td>\n",
       "      <td>-6</td>\n",
       "      <td>1</td>\n",
       "      <td>547</td>\n",
       "      <td>40.72951</td>\n",
       "      <td>-73.99388</td>\n",
       "      <td>2019</td>\n",
       "      <td>43</td>\n",
       "      <td>...</td>\n",
       "      <td>-1</td>\n",
       "      <td>-1</td>\n",
       "      <td>-1</td>\n",
       "      <td>1</td>\n",
       "      <td>0</td>\n",
       "      <td>-1</td>\n",
       "      <td>-1</td>\n",
       "      <td>-1</td>\n",
       "      <td>-1</td>\n",
       "      <td>-1</td>\n",
       "    </tr>\n",
       "    <tr>\n",
       "      <th>1</th>\n",
       "      <td>test</td>\n",
       "      <td>0</td>\n",
       "      <td>00_026884.wav</td>\n",
       "      <td>-4</td>\n",
       "      <td>1</td>\n",
       "      <td>547</td>\n",
       "      <td>40.72951</td>\n",
       "      <td>-73.99388</td>\n",
       "      <td>2019</td>\n",
       "      <td>43</td>\n",
       "      <td>...</td>\n",
       "      <td>-1</td>\n",
       "      <td>-1</td>\n",
       "      <td>1</td>\n",
       "      <td>-1</td>\n",
       "      <td>-1</td>\n",
       "      <td>-1</td>\n",
       "      <td>-1</td>\n",
       "      <td>-1</td>\n",
       "      <td>-1</td>\n",
       "      <td>-1</td>\n",
       "    </tr>\n",
       "  </tbody>\n",
       "</table>\n",
       "<p>2 rows × 78 columns</p>\n",
       "</div>"
      ],
      "text/plain": [
       "  split  sensor_id audio_filename  annotator_id  borough  block  latitude  \\\n",
       "0  test          0  00_026884.wav            -6        1    547  40.72951   \n",
       "1  test          0  00_026884.wav            -4        1    547  40.72951   \n",
       "\n",
       "   longitude  year  week  ...  7-X_other-unknown-human-voice_proximity  \\\n",
       "0  -73.99388  2019    43  ...                                       -1   \n",
       "1  -73.99388  2019    43  ...                                       -1   \n",
       "\n",
       "   8-1_dog-barking-whining_proximity  1_engine_presence  \\\n",
       "0                                 -1                 -1   \n",
       "1                                 -1                  1   \n",
       "\n",
       "   2_machinery-impact_presence  3_non-machinery-impact_presence  \\\n",
       "0                            1                                0   \n",
       "1                           -1                               -1   \n",
       "\n",
       "   4_powered-saw_presence  5_alert-signal_presence  6_music_presence  \\\n",
       "0                      -1                       -1                -1   \n",
       "1                      -1                       -1                -1   \n",
       "\n",
       "   7_human-voice_presence  8_dog_presence  \n",
       "0                      -1              -1  \n",
       "1                      -1              -1  \n",
       "\n",
       "[2 rows x 78 columns]"
      ]
     },
     "execution_count": 4,
     "metadata": {},
     "output_type": "execute_result"
    }
   ],
   "source": [
    "# Lectura del dataset\n",
    "noise_pollution_v0 = pd.read_csv(raw_data_dir('noise_pollution.csv')) # Usando la librería pathlib\n",
    "# noise_pollution_v0 = pd.read_sv('../../roy/datasets/prosseced/noise_pollution.csv') # Ruta directa\n",
    "noise_pollution_v0.head(2)"
   ]
  },
  {
   "attachments": {},
   "cell_type": "markdown",
   "metadata": {},
   "source": [
    "### 1.1. Descripción general de las variables del dataset original (raw data)"
   ]
  },
  {
   "attachments": {},
   "cell_type": "markdown",
   "metadata": {},
   "source": [
    "**Estructuras generales de las variables del dataset original:**\n",
    "\n",
    "\n",
    "* ***<coarse_id>-<fine_id>_<fine_name>_presence***\n",
    "\n",
    "Las columnas de esta forma indican la presencia de clase de nivel fino. 1si está presente, 0si no está presente. Si -1, entonces la clase no se etiquetó en esta anotación porque la anotación la realizó un miembro del equipo de SONYC que solo anotó un grupo aproximado de clases a la vez cuando anotaba el subconjunto verificado.\n",
    "\n",
    "* ***<coarse_id>_<coarse_name>_presence***\n",
    "\n",
    "Las columnas de esta forma indican la presencia de una clase de nivel bajo. 1si está presente, 0si no está presente. Si -1, entonces la clase no se etiquetó en esta anotación porque la anotación la realizó un miembro del equipo de SONYC que solo anotó un grupo aproximado de clases a la vez cuando anotaba el subconjunto verificado. Estas columnas se calculan a partir de las columnas de presencia de clase de nivel fino y se presentan aquí para mayor comodidad cuando se entrena solo en clases de nivel bajo.\n",
    "* ***<coarse_id>-<fine_id>_<fine_name>_proximity***\n",
    "\n",
    "Las columnas de esta forma indican la proximidad de una clase de nivel fino. Después de indicar la presencia de una clase de nivel fino, se pidió a los anotadores de ciencia ciudadana que indicaran la proximidad del evento sonoro al sensor. Solo los voluntarios de ciencia ciudadana realizaron esta tarea, por lo que estos datos no se incluyen en las anotaciones verificadas. Esta columna puede tomar uno de los cuatro valores siguientes: ( near, far, notsure, -1). Si -1, la proximidad no se anotó porque la anotación no la realizó un voluntario de ciencia ciudadana o el voluntario de ciencia"
   ]
  },
  {
   "attachments": {},
   "cell_type": "markdown",
   "metadata": {},
   "source": [
    "### 1.2. Selección de variables de tipos de sonidos"
   ]
  },
  {
   "attachments": {},
   "cell_type": "markdown",
   "metadata": {},
   "source": [
    "Las variables que corresponden a los sonidos emitidos por los vehículos de transporte en NYC son:\n",
    "\n",
    "1. ``1-1_small-sounding-engine_presence``: Indica si un vehículo tiene un motor de sonido pequeño o no.\n",
    "2. ``1-2_medium-sounding-engine_presence``: Indica si un vehículo tiene un motor de sonido medio o no.\n",
    "3. ``1-3_large-sounding-engine_presence``: Indica si un vehículo tiene un motor de sonido grande o no.\n",
    "4. ``1-X_engine-of-uncertain-size_presence``: Indica si hay un motor en el vehículo cuyo tamaño de sonido no se puede determinar con certeza.\n",
    "5. ``5-1_car-horn_presence``: Indica si un vehículo tiene una bocina o claxon.\n",
    "6. ``5-2_car-alarm_presence``: Indica si un vehículo tiene una alarma antirrobo.\n",
    "7. ``5-3_siren_presence:`` Indica si un vehículo tiene una sirena, que generalmente se asocia con vehículos de emergencia como ambulancias y patrullas.\n",
    "8. ``5-4_reverse-beeper_presence``: Indica si un vehículo tiene un dispositivo de señalización de marcha atrás, que suena cuando el vehículo se mueve hacia atrás.\n",
    "9. ``5-X_other-unknown-alert-signal_presence``: Indica si hay algún otro tipo de señal de alerta en el vehículo cuyo tipo no se puede determinar con certeza."
   ]
  },
  {
   "attachments": {},
   "cell_type": "markdown",
   "metadata": {},
   "source": [
    "### 1.3. Renombramiento de las variables seleecionadas"
   ]
  },
  {
   "cell_type": "code",
   "execution_count": 5,
   "metadata": {},
   "outputs": [],
   "source": [
    "# Variables seleccionados\n",
    "selected_cols = [\n",
    "    'borough',\n",
    "    'block', \n",
    "    'latitude',\n",
    "    'longitude',\n",
    "    'year',\n",
    "    'week',\n",
    "    'day',\n",
    "    'hour',\n",
    "    '1-1_small-sounding-engine_presence',\n",
    "    '1-2_medium-sounding-engine_presence',\n",
    "    '1-3_large-sounding-engine_presence',\n",
    "    '1-X_engine-of-uncertain-size_presence',\n",
    "    '5-1_car-horn_presence',\n",
    "    '5-2_car-alarm_presence',\n",
    "    '5-3_siren_presence',\n",
    "    '5-4_reverse-beeper_presence',\n",
    "    '5-X_other-unknown-alert-signal_presence'\n",
    "]\n",
    "# Filtración de las avriables seleccionadas\n",
    "noise_pollution_v0 = noise_pollution_v0[selected_cols]"
   ]
  },
  {
   "attachments": {},
   "cell_type": "markdown",
   "metadata": {},
   "source": [
    "## 2. Transformaciones del dataset original de contaminación acústica\n",
    "<!-- <h2 align=\"center\">2. Transformaciones del dataset original</h2> -->"
   ]
  },
  {
   "attachments": {},
   "cell_type": "markdown",
   "metadata": {},
   "source": [
    "### 2.1. Renombramiento de las variables de tipos de sonidos del dataset original"
   ]
  },
  {
   "cell_type": "code",
   "execution_count": 6,
   "metadata": {},
   "outputs": [],
   "source": [
    "# Renombramiento de las columnas del dataframe\n",
    "selected_sound_cols_renamed = {\n",
    "'1-1_small-sounding-engine_presence': 'small_sounding_engine',\n",
    "'1-2_medium-sounding-engine_presence': 'medium_sounding_engine',\n",
    "'1-3_large-sounding-engine_presence': 'large_sounding_engine',\n",
    "'1-X_engine-of-uncertain-size_presence': 'uncertain_size_engine',\n",
    "'5-1_car-horn_presence': 'car_horn',\n",
    "'5-2_car-alarm_presence': 'car_alarm',\n",
    "'5-3_siren_presence': 'siren',\n",
    "'5-4_reverse-beeper_presence': 'reverse_beeper',\n",
    "'5-X_other-unknown-alert-signal_presence': 'unknown_alert_signal',\n",
    "}\n",
    "# \n",
    "noise_pollution_v1 = noise_pollution_v0.rename(selected_sound_cols_renamed, axis=1)"
   ]
  },
  {
   "attachments": {},
   "cell_type": "markdown",
   "metadata": {},
   "source": [
    "### 2.2. Crear una columna de fecha a partir de las variables ``year``, ``week``, ``day`` y ``hour``."
   ]
  },
  {
   "cell_type": "code",
   "execution_count": 7,
   "metadata": {},
   "outputs": [],
   "source": [
    "# Funcion para crear una columna de fecha\n",
    "def make_date_col(df: pd.DataFrame, col_name: str):\n",
    "    df[col_name] = pd.to_datetime(df['year'].astype(str) + df['week'].astype(str) + df['day'].astype(str), format='%Y%W%w')\n",
    "    df[col_name] = pd.to_datetime(df['date'].dt.strftime('%Y-%m-%d') + ' ' + df['hour'].astype(str) + ':00:00')\n",
    "    return df"
   ]
  },
  {
   "cell_type": "code",
   "execution_count": 8,
   "metadata": {},
   "outputs": [],
   "source": [
    "# Creación de la columna date\n",
    "noise_pollution_v1 = make_date_col(noise_pollution_v1, 'date')"
   ]
  },
  {
   "attachments": {},
   "cell_type": "markdown",
   "metadata": {},
   "source": [
    "### 2.3. Creacion de las columnas de ``borough_name`` y ``id_borough`` a partir de la columna ``borough`` del dataset original."
   ]
  },
  {
   "cell_type": "code",
   "execution_count": 9,
   "metadata": {},
   "outputs": [],
   "source": [
    "def replace_borough_by_id_borough(df: pd.DataFrame, colname: str):\n",
    "    # Diccionario de los identificadores con los borough correspondientes\n",
    "    borough = {\n",
    "        1: 'manhattan',\n",
    "        2: 'bronx',\n",
    "        3: 'brooklyn',\n",
    "        4: 'queens',\n",
    "        5: 'staten island',\n",
    "    }\n",
    "    \n",
    "    if colname == 'borough':\n",
    "        # Generamos la variable borough_name a partir de los identificadores\n",
    "        df[f'{colname}_name'] = df[colname].replace(borough)\n",
    "        \n",
    "        # Generamos la variable id_borough, identificador del borough\n",
    "        df[f'id_{colname}'] = df[colname]\n",
    "        \n",
    "        # Eliminamos la columna borough del dataset original\n",
    "        df = df.drop([colname], axis=1)\n",
    "    \n",
    "    elif colname == 'borough_name':\n",
    "        # Generamos la variable id_borough_name a partir de los identificadores\n",
    "        df[f'{colname}'] = df[f\"id_{colname.split('_')[0]}\"].replace(borough)\n",
    "            \n",
    "    \n",
    "    return df"
   ]
  },
  {
   "cell_type": "code",
   "execution_count": 10,
   "metadata": {},
   "outputs": [],
   "source": [
    "# Generando las variables id_borough y borough_name a partir del borough\n",
    "noise_pollution_v1 = replace_borough_by_id_borough(noise_pollution_v1, 'borough')"
   ]
  },
  {
   "attachments": {},
   "cell_type": "markdown",
   "metadata": {},
   "source": [
    "### 2.4. Reemplazo de los valores ``-1`` por ``1`` en cada una de las variables de tipos de sonidos."
   ]
  },
  {
   "attachments": {},
   "cell_type": "markdown",
   "metadata": {},
   "source": [
    "Despues de haber revisado [Fuente de diccionario del Dataset](https://zenodo.org/record/3966543#.ZDWBOHbMJEY) se propone el reemplazo de los valores negativos (**-1)** por el valor **1** ya que si el valor es -1, la clase no se etiquetó en esta anotación porque la anotación la realizó un miembro del equipo de SONYC que solo anotó un grupo aproximado de clases a la vez cuando anotaba el subconjunto verificado. Pero como si es un indicio de presencia de sonido (que es lo más significativo para el análisis que se plantea) reemplazaremos dicho valores por el valor 1, es decir, quedará como la clase de nivel fino presente."
   ]
  },
  {
   "cell_type": "code",
   "execution_count": 11,
   "metadata": {},
   "outputs": [],
   "source": [
    "# Funcion de itera por cada columna de los tipos de sonidos y reemplaza el -1 por 1\n",
    "def replace_negatives_ones(df, cols):\n",
    "    for col in cols:\n",
    "        df[col] = df[col].replace(-1,1)\n",
    "    return df"
   ]
  },
  {
   "cell_type": "code",
   "execution_count": 12,
   "metadata": {},
   "outputs": [],
   "source": [
    "noise_pollution_v1 = replace_negatives_ones(noise_pollution_v1, \n",
    "                                            selected_sound_cols_renamed.values())"
   ]
  },
  {
   "attachments": {},
   "cell_type": "markdown",
   "metadata": {},
   "source": [
    "### 2.5. Agrupación de variables en dos grupos (sonidos que provienen de un motor y sonidos que provienen de una señal de alerta)"
   ]
  },
  {
   "attachments": {},
   "cell_type": "markdown",
   "metadata": {},
   "source": [
    "Creamos dos nuevas variables ``engine_sound_pres`` y ``alert_signal_pres`` que resumen la cantidad total de registros de sonidos provenientes del motor del vehículo y señales de alarma, respectivamente. Para la primera variable se han considerado las columnas ``'small_sounding_engine', 'medium_sounding_engine', 'large_sounding_engine', 'uncertain_size_engine'`` y para la segunda ``'car_horn', 'car_alarm', 'siren', 'reverse_beeper', 'unknown_alert_signal'``."
   ]
  },
  {
   "cell_type": "code",
   "execution_count": 13,
   "metadata": {},
   "outputs": [],
   "source": [
    "def summary_sound_presence(df: pd.DataFrame , cols, new_col_name:str):\n",
    "    df[new_col_name] = df[cols].sum(axis=1)\n",
    "    return df"
   ]
  },
  {
   "cell_type": "code",
   "execution_count": 14,
   "metadata": {},
   "outputs": [],
   "source": [
    "# Sonidos de motores\n",
    "noise_pollution_v1 = summary_sound_presence(noise_pollution_v1, \n",
    "                                            ['small_sounding_engine', 'medium_sounding_engine', 'large_sounding_engine', 'uncertain_size_engine'],\n",
    "                                            'engine_sounds')\n",
    "# Sonidos de señal de alerta\n",
    "noise_pollution_v1 = summary_sound_presence(noise_pollution_v1, \n",
    "                                            ['car_horn', 'car_alarm', 'siren', 'reverse_beeper', 'unknown_alert_signal'],\n",
    "                                            'alert_signal_sounds'\n",
    "                                            )\n",
    "# Total de sonidos\n",
    "noise_pollution_v1 = summary_sound_presence(noise_pollution_v1, \n",
    "                                            ['car_horn', 'car_alarm', 'siren', 'reverse_beeper', 'unknown_alert_signal','small_sounding_engine', 'medium_sounding_engine', 'large_sounding_engine', 'uncertain_size_engine'],\n",
    "                                            'total_sounds')"
   ]
  },
  {
   "cell_type": "code",
   "execution_count": 15,
   "metadata": {},
   "outputs": [],
   "source": [
    "# Eliminamos las columnas de los tipos de sonidos\n",
    "noise_pollution_v1 = noise_pollution_v1.drop(\n",
    "    ['car_horn', 'car_alarm', 'siren', 'reverse_beeper', 'unknown_alert_signal','small_sounding_engine', \n",
    "     'medium_sounding_engine', 'large_sounding_engine', 'uncertain_size_engine'],\n",
    "    axis=1)"
   ]
  },
  {
   "cell_type": "code",
   "execution_count": 16,
   "metadata": {},
   "outputs": [],
   "source": [
    "# Convertir la columna de fecha a datetime\n",
    "noise_pollution_v1['date'] = pd.to_datetime(noise_pollution_v1['date'], format='%Y-%m-%d')\n",
    "# Generamos la columna month correpondiente a los meses\n",
    "noise_pollution_v1['month'] = noise_pollution_v1['date'].dt.month"
   ]
  },
  {
   "cell_type": "code",
   "execution_count": 17,
   "metadata": {},
   "outputs": [],
   "source": [
    "# cantidad de registros de sonidos diarios\n",
    "noise_pollution_v1 = noise_pollution_v1.groupby(['year','month', 'day', 'id_borough'])[['engine_sounds', 'alert_signal_sounds',\t'total_sounds']].sum().reset_index()"
   ]
  },
  {
   "cell_type": "code",
   "execution_count": 18,
   "metadata": {},
   "outputs": [],
   "source": [
    "# Creamos una copia del dataframe\n",
    "noise_pollution_v2 = noise_pollution_v1.copy(deep=True)"
   ]
  },
  {
   "cell_type": "code",
   "execution_count": 19,
   "metadata": {},
   "outputs": [
    {
     "data": {
      "text/html": [
       "<div>\n",
       "<style scoped>\n",
       "    .dataframe tbody tr th:only-of-type {\n",
       "        vertical-align: middle;\n",
       "    }\n",
       "\n",
       "    .dataframe tbody tr th {\n",
       "        vertical-align: top;\n",
       "    }\n",
       "\n",
       "    .dataframe thead th {\n",
       "        text-align: right;\n",
       "    }\n",
       "</style>\n",
       "<table border=\"1\" class=\"dataframe\">\n",
       "  <thead>\n",
       "    <tr style=\"text-align: right;\">\n",
       "      <th></th>\n",
       "      <th>year</th>\n",
       "      <th>month</th>\n",
       "      <th>day</th>\n",
       "      <th>id_borough</th>\n",
       "      <th>engine_sounds</th>\n",
       "      <th>alert_signal_sounds</th>\n",
       "      <th>total_sounds</th>\n",
       "    </tr>\n",
       "  </thead>\n",
       "  <tbody>\n",
       "    <tr>\n",
       "      <th>0</th>\n",
       "      <td>2016</td>\n",
       "      <td>1</td>\n",
       "      <td>0</td>\n",
       "      <td>1</td>\n",
       "      <td>15</td>\n",
       "      <td>7</td>\n",
       "      <td>22</td>\n",
       "    </tr>\n",
       "    <tr>\n",
       "      <th>1</th>\n",
       "      <td>2016</td>\n",
       "      <td>5</td>\n",
       "      <td>0</td>\n",
       "      <td>1</td>\n",
       "      <td>20</td>\n",
       "      <td>23</td>\n",
       "      <td>43</td>\n",
       "    </tr>\n",
       "    <tr>\n",
       "      <th>2</th>\n",
       "      <td>2016</td>\n",
       "      <td>5</td>\n",
       "      <td>1</td>\n",
       "      <td>1</td>\n",
       "      <td>5</td>\n",
       "      <td>3</td>\n",
       "      <td>8</td>\n",
       "    </tr>\n",
       "    <tr>\n",
       "      <th>3</th>\n",
       "      <td>2016</td>\n",
       "      <td>5</td>\n",
       "      <td>2</td>\n",
       "      <td>1</td>\n",
       "      <td>9</td>\n",
       "      <td>14</td>\n",
       "      <td>23</td>\n",
       "    </tr>\n",
       "    <tr>\n",
       "      <th>4</th>\n",
       "      <td>2016</td>\n",
       "      <td>5</td>\n",
       "      <td>3</td>\n",
       "      <td>1</td>\n",
       "      <td>4</td>\n",
       "      <td>3</td>\n",
       "      <td>7</td>\n",
       "    </tr>\n",
       "    <tr>\n",
       "      <th>...</th>\n",
       "      <td>...</td>\n",
       "      <td>...</td>\n",
       "      <td>...</td>\n",
       "      <td>...</td>\n",
       "      <td>...</td>\n",
       "      <td>...</td>\n",
       "      <td>...</td>\n",
       "    </tr>\n",
       "    <tr>\n",
       "      <th>502</th>\n",
       "      <td>2019</td>\n",
       "      <td>12</td>\n",
       "      <td>5</td>\n",
       "      <td>1</td>\n",
       "      <td>81</td>\n",
       "      <td>99</td>\n",
       "      <td>180</td>\n",
       "    </tr>\n",
       "    <tr>\n",
       "      <th>503</th>\n",
       "      <td>2019</td>\n",
       "      <td>12</td>\n",
       "      <td>5</td>\n",
       "      <td>3</td>\n",
       "      <td>24</td>\n",
       "      <td>30</td>\n",
       "      <td>54</td>\n",
       "    </tr>\n",
       "    <tr>\n",
       "      <th>504</th>\n",
       "      <td>2019</td>\n",
       "      <td>12</td>\n",
       "      <td>5</td>\n",
       "      <td>4</td>\n",
       "      <td>5</td>\n",
       "      <td>10</td>\n",
       "      <td>15</td>\n",
       "    </tr>\n",
       "    <tr>\n",
       "      <th>505</th>\n",
       "      <td>2019</td>\n",
       "      <td>12</td>\n",
       "      <td>6</td>\n",
       "      <td>1</td>\n",
       "      <td>41</td>\n",
       "      <td>49</td>\n",
       "      <td>90</td>\n",
       "    </tr>\n",
       "    <tr>\n",
       "      <th>506</th>\n",
       "      <td>2019</td>\n",
       "      <td>12</td>\n",
       "      <td>6</td>\n",
       "      <td>3</td>\n",
       "      <td>5</td>\n",
       "      <td>10</td>\n",
       "      <td>15</td>\n",
       "    </tr>\n",
       "  </tbody>\n",
       "</table>\n",
       "<p>507 rows × 7 columns</p>\n",
       "</div>"
      ],
      "text/plain": [
       "     year  month  day  id_borough  engine_sounds  alert_signal_sounds  \\\n",
       "0    2016      1    0           1             15                    7   \n",
       "1    2016      5    0           1             20                   23   \n",
       "2    2016      5    1           1              5                    3   \n",
       "3    2016      5    2           1              9                   14   \n",
       "4    2016      5    3           1              4                    3   \n",
       "..    ...    ...  ...         ...            ...                  ...   \n",
       "502  2019     12    5           1             81                   99   \n",
       "503  2019     12    5           3             24                   30   \n",
       "504  2019     12    5           4              5                   10   \n",
       "505  2019     12    6           1             41                   49   \n",
       "506  2019     12    6           3              5                   10   \n",
       "\n",
       "     total_sounds  \n",
       "0              22  \n",
       "1              43  \n",
       "2               8  \n",
       "3              23  \n",
       "4               7  \n",
       "..            ...  \n",
       "502           180  \n",
       "503            54  \n",
       "504            15  \n",
       "505            90  \n",
       "506            15  \n",
       "\n",
       "[507 rows x 7 columns]"
      ]
     },
     "execution_count": 19,
     "metadata": {},
     "output_type": "execute_result"
    }
   ],
   "source": [
    "noise_pollution_v2"
   ]
  },
  {
   "cell_type": "code",
   "execution_count": 24,
   "metadata": {},
   "outputs": [
    {
     "data": {
      "text/html": [
       "<div>\n",
       "<style scoped>\n",
       "    .dataframe tbody tr th:only-of-type {\n",
       "        vertical-align: middle;\n",
       "    }\n",
       "\n",
       "    .dataframe tbody tr th {\n",
       "        vertical-align: top;\n",
       "    }\n",
       "\n",
       "    .dataframe thead th {\n",
       "        text-align: right;\n",
       "    }\n",
       "</style>\n",
       "<table border=\"1\" class=\"dataframe\">\n",
       "  <thead>\n",
       "    <tr style=\"text-align: right;\">\n",
       "      <th></th>\n",
       "      <th>month</th>\n",
       "      <th>day</th>\n",
       "      <th>id_borough</th>\n",
       "      <th>engine_sounds</th>\n",
       "      <th>alert_signal_sounds</th>\n",
       "      <th>total_sounds</th>\n",
       "    </tr>\n",
       "    <tr>\n",
       "      <th>year</th>\n",
       "      <th></th>\n",
       "      <th></th>\n",
       "      <th></th>\n",
       "      <th></th>\n",
       "      <th></th>\n",
       "      <th></th>\n",
       "    </tr>\n",
       "  </thead>\n",
       "  <tbody>\n",
       "    <tr>\n",
       "      <th>2016</th>\n",
       "      <td>204</td>\n",
       "      <td>65</td>\n",
       "      <td>23</td>\n",
       "      <td>1005</td>\n",
       "      <td>839</td>\n",
       "      <td>1844</td>\n",
       "    </tr>\n",
       "    <tr>\n",
       "      <th>2017</th>\n",
       "      <td>1073</td>\n",
       "      <td>479</td>\n",
       "      <td>312</td>\n",
       "      <td>12338</td>\n",
       "      <td>10415</td>\n",
       "      <td>22753</td>\n",
       "    </tr>\n",
       "    <tr>\n",
       "      <th>2018</th>\n",
       "      <td>1034</td>\n",
       "      <td>485</td>\n",
       "      <td>314</td>\n",
       "      <td>9609</td>\n",
       "      <td>7979</td>\n",
       "      <td>17588</td>\n",
       "    </tr>\n",
       "    <tr>\n",
       "      <th>2019</th>\n",
       "      <td>1083</td>\n",
       "      <td>495</td>\n",
       "      <td>338</td>\n",
       "      <td>10674</td>\n",
       "      <td>13364</td>\n",
       "      <td>24038</td>\n",
       "    </tr>\n",
       "  </tbody>\n",
       "</table>\n",
       "</div>"
      ],
      "text/plain": [
       "      month  day  id_borough  engine_sounds  alert_signal_sounds  total_sounds\n",
       "year                                                                          \n",
       "2016    204   65          23           1005                  839          1844\n",
       "2017   1073  479         312          12338                10415         22753\n",
       "2018   1034  485         314           9609                 7979         17588\n",
       "2019   1083  495         338          10674                13364         24038"
      ]
     },
     "execution_count": 24,
     "metadata": {},
     "output_type": "execute_result"
    }
   ],
   "source": []
  },
  {
   "cell_type": "code",
   "execution_count": 34,
   "metadata": {},
   "outputs": [
    {
     "data": {
      "application/vnd.plotly.v1+json": {
       "config": {
        "plotlyServerURL": "https://plot.ly"
       },
       "data": [
        {
         "line": {
          "color": "blue",
          "width": 2
         },
         "mode": "lines",
         "type": "scatter",
         "x": [
          2016,
          2017,
          2018,
          2019
         ],
         "y": [
          1844,
          22753,
          17588,
          24038
         ]
        },
        {
         "line": {
          "color": "green",
          "width": 2
         },
         "mode": "lines",
         "type": "scatter",
         "x": [
          2016,
          2017,
          2018,
          2019
         ],
         "y": [
          1005,
          12338,
          9609,
          10674
         ]
        },
        {
         "line": {
          "color": "red",
          "width": 2
         },
         "mode": "lines",
         "type": "scatter",
         "x": [
          2016,
          2017,
          2018,
          2019
         ],
         "y": [
          839,
          10415,
          7979,
          13364
         ]
        }
       ],
       "layout": {
        "template": {
         "data": {
          "bar": [
           {
            "error_x": {
             "color": "#2a3f5f"
            },
            "error_y": {
             "color": "#2a3f5f"
            },
            "marker": {
             "line": {
              "color": "#E5ECF6",
              "width": 0.5
             },
             "pattern": {
              "fillmode": "overlay",
              "size": 10,
              "solidity": 0.2
             }
            },
            "type": "bar"
           }
          ],
          "barpolar": [
           {
            "marker": {
             "line": {
              "color": "#E5ECF6",
              "width": 0.5
             },
             "pattern": {
              "fillmode": "overlay",
              "size": 10,
              "solidity": 0.2
             }
            },
            "type": "barpolar"
           }
          ],
          "carpet": [
           {
            "aaxis": {
             "endlinecolor": "#2a3f5f",
             "gridcolor": "white",
             "linecolor": "white",
             "minorgridcolor": "white",
             "startlinecolor": "#2a3f5f"
            },
            "baxis": {
             "endlinecolor": "#2a3f5f",
             "gridcolor": "white",
             "linecolor": "white",
             "minorgridcolor": "white",
             "startlinecolor": "#2a3f5f"
            },
            "type": "carpet"
           }
          ],
          "choropleth": [
           {
            "colorbar": {
             "outlinewidth": 0,
             "ticks": ""
            },
            "type": "choropleth"
           }
          ],
          "contour": [
           {
            "colorbar": {
             "outlinewidth": 0,
             "ticks": ""
            },
            "colorscale": [
             [
              0,
              "#0d0887"
             ],
             [
              0.1111111111111111,
              "#46039f"
             ],
             [
              0.2222222222222222,
              "#7201a8"
             ],
             [
              0.3333333333333333,
              "#9c179e"
             ],
             [
              0.4444444444444444,
              "#bd3786"
             ],
             [
              0.5555555555555556,
              "#d8576b"
             ],
             [
              0.6666666666666666,
              "#ed7953"
             ],
             [
              0.7777777777777778,
              "#fb9f3a"
             ],
             [
              0.8888888888888888,
              "#fdca26"
             ],
             [
              1,
              "#f0f921"
             ]
            ],
            "type": "contour"
           }
          ],
          "contourcarpet": [
           {
            "colorbar": {
             "outlinewidth": 0,
             "ticks": ""
            },
            "type": "contourcarpet"
           }
          ],
          "heatmap": [
           {
            "colorbar": {
             "outlinewidth": 0,
             "ticks": ""
            },
            "colorscale": [
             [
              0,
              "#0d0887"
             ],
             [
              0.1111111111111111,
              "#46039f"
             ],
             [
              0.2222222222222222,
              "#7201a8"
             ],
             [
              0.3333333333333333,
              "#9c179e"
             ],
             [
              0.4444444444444444,
              "#bd3786"
             ],
             [
              0.5555555555555556,
              "#d8576b"
             ],
             [
              0.6666666666666666,
              "#ed7953"
             ],
             [
              0.7777777777777778,
              "#fb9f3a"
             ],
             [
              0.8888888888888888,
              "#fdca26"
             ],
             [
              1,
              "#f0f921"
             ]
            ],
            "type": "heatmap"
           }
          ],
          "heatmapgl": [
           {
            "colorbar": {
             "outlinewidth": 0,
             "ticks": ""
            },
            "colorscale": [
             [
              0,
              "#0d0887"
             ],
             [
              0.1111111111111111,
              "#46039f"
             ],
             [
              0.2222222222222222,
              "#7201a8"
             ],
             [
              0.3333333333333333,
              "#9c179e"
             ],
             [
              0.4444444444444444,
              "#bd3786"
             ],
             [
              0.5555555555555556,
              "#d8576b"
             ],
             [
              0.6666666666666666,
              "#ed7953"
             ],
             [
              0.7777777777777778,
              "#fb9f3a"
             ],
             [
              0.8888888888888888,
              "#fdca26"
             ],
             [
              1,
              "#f0f921"
             ]
            ],
            "type": "heatmapgl"
           }
          ],
          "histogram": [
           {
            "marker": {
             "pattern": {
              "fillmode": "overlay",
              "size": 10,
              "solidity": 0.2
             }
            },
            "type": "histogram"
           }
          ],
          "histogram2d": [
           {
            "colorbar": {
             "outlinewidth": 0,
             "ticks": ""
            },
            "colorscale": [
             [
              0,
              "#0d0887"
             ],
             [
              0.1111111111111111,
              "#46039f"
             ],
             [
              0.2222222222222222,
              "#7201a8"
             ],
             [
              0.3333333333333333,
              "#9c179e"
             ],
             [
              0.4444444444444444,
              "#bd3786"
             ],
             [
              0.5555555555555556,
              "#d8576b"
             ],
             [
              0.6666666666666666,
              "#ed7953"
             ],
             [
              0.7777777777777778,
              "#fb9f3a"
             ],
             [
              0.8888888888888888,
              "#fdca26"
             ],
             [
              1,
              "#f0f921"
             ]
            ],
            "type": "histogram2d"
           }
          ],
          "histogram2dcontour": [
           {
            "colorbar": {
             "outlinewidth": 0,
             "ticks": ""
            },
            "colorscale": [
             [
              0,
              "#0d0887"
             ],
             [
              0.1111111111111111,
              "#46039f"
             ],
             [
              0.2222222222222222,
              "#7201a8"
             ],
             [
              0.3333333333333333,
              "#9c179e"
             ],
             [
              0.4444444444444444,
              "#bd3786"
             ],
             [
              0.5555555555555556,
              "#d8576b"
             ],
             [
              0.6666666666666666,
              "#ed7953"
             ],
             [
              0.7777777777777778,
              "#fb9f3a"
             ],
             [
              0.8888888888888888,
              "#fdca26"
             ],
             [
              1,
              "#f0f921"
             ]
            ],
            "type": "histogram2dcontour"
           }
          ],
          "mesh3d": [
           {
            "colorbar": {
             "outlinewidth": 0,
             "ticks": ""
            },
            "type": "mesh3d"
           }
          ],
          "parcoords": [
           {
            "line": {
             "colorbar": {
              "outlinewidth": 0,
              "ticks": ""
             }
            },
            "type": "parcoords"
           }
          ],
          "pie": [
           {
            "automargin": true,
            "type": "pie"
           }
          ],
          "scatter": [
           {
            "fillpattern": {
             "fillmode": "overlay",
             "size": 10,
             "solidity": 0.2
            },
            "type": "scatter"
           }
          ],
          "scatter3d": [
           {
            "line": {
             "colorbar": {
              "outlinewidth": 0,
              "ticks": ""
             }
            },
            "marker": {
             "colorbar": {
              "outlinewidth": 0,
              "ticks": ""
             }
            },
            "type": "scatter3d"
           }
          ],
          "scattercarpet": [
           {
            "marker": {
             "colorbar": {
              "outlinewidth": 0,
              "ticks": ""
             }
            },
            "type": "scattercarpet"
           }
          ],
          "scattergeo": [
           {
            "marker": {
             "colorbar": {
              "outlinewidth": 0,
              "ticks": ""
             }
            },
            "type": "scattergeo"
           }
          ],
          "scattergl": [
           {
            "marker": {
             "colorbar": {
              "outlinewidth": 0,
              "ticks": ""
             }
            },
            "type": "scattergl"
           }
          ],
          "scattermapbox": [
           {
            "marker": {
             "colorbar": {
              "outlinewidth": 0,
              "ticks": ""
             }
            },
            "type": "scattermapbox"
           }
          ],
          "scatterpolar": [
           {
            "marker": {
             "colorbar": {
              "outlinewidth": 0,
              "ticks": ""
             }
            },
            "type": "scatterpolar"
           }
          ],
          "scatterpolargl": [
           {
            "marker": {
             "colorbar": {
              "outlinewidth": 0,
              "ticks": ""
             }
            },
            "type": "scatterpolargl"
           }
          ],
          "scatterternary": [
           {
            "marker": {
             "colorbar": {
              "outlinewidth": 0,
              "ticks": ""
             }
            },
            "type": "scatterternary"
           }
          ],
          "surface": [
           {
            "colorbar": {
             "outlinewidth": 0,
             "ticks": ""
            },
            "colorscale": [
             [
              0,
              "#0d0887"
             ],
             [
              0.1111111111111111,
              "#46039f"
             ],
             [
              0.2222222222222222,
              "#7201a8"
             ],
             [
              0.3333333333333333,
              "#9c179e"
             ],
             [
              0.4444444444444444,
              "#bd3786"
             ],
             [
              0.5555555555555556,
              "#d8576b"
             ],
             [
              0.6666666666666666,
              "#ed7953"
             ],
             [
              0.7777777777777778,
              "#fb9f3a"
             ],
             [
              0.8888888888888888,
              "#fdca26"
             ],
             [
              1,
              "#f0f921"
             ]
            ],
            "type": "surface"
           }
          ],
          "table": [
           {
            "cells": {
             "fill": {
              "color": "#EBF0F8"
             },
             "line": {
              "color": "white"
             }
            },
            "header": {
             "fill": {
              "color": "#C8D4E3"
             },
             "line": {
              "color": "white"
             }
            },
            "type": "table"
           }
          ]
         },
         "layout": {
          "annotationdefaults": {
           "arrowcolor": "#2a3f5f",
           "arrowhead": 0,
           "arrowwidth": 1
          },
          "autotypenumbers": "strict",
          "coloraxis": {
           "colorbar": {
            "outlinewidth": 0,
            "ticks": ""
           }
          },
          "colorscale": {
           "diverging": [
            [
             0,
             "#8e0152"
            ],
            [
             0.1,
             "#c51b7d"
            ],
            [
             0.2,
             "#de77ae"
            ],
            [
             0.3,
             "#f1b6da"
            ],
            [
             0.4,
             "#fde0ef"
            ],
            [
             0.5,
             "#f7f7f7"
            ],
            [
             0.6,
             "#e6f5d0"
            ],
            [
             0.7,
             "#b8e186"
            ],
            [
             0.8,
             "#7fbc41"
            ],
            [
             0.9,
             "#4d9221"
            ],
            [
             1,
             "#276419"
            ]
           ],
           "sequential": [
            [
             0,
             "#0d0887"
            ],
            [
             0.1111111111111111,
             "#46039f"
            ],
            [
             0.2222222222222222,
             "#7201a8"
            ],
            [
             0.3333333333333333,
             "#9c179e"
            ],
            [
             0.4444444444444444,
             "#bd3786"
            ],
            [
             0.5555555555555556,
             "#d8576b"
            ],
            [
             0.6666666666666666,
             "#ed7953"
            ],
            [
             0.7777777777777778,
             "#fb9f3a"
            ],
            [
             0.8888888888888888,
             "#fdca26"
            ],
            [
             1,
             "#f0f921"
            ]
           ],
           "sequentialminus": [
            [
             0,
             "#0d0887"
            ],
            [
             0.1111111111111111,
             "#46039f"
            ],
            [
             0.2222222222222222,
             "#7201a8"
            ],
            [
             0.3333333333333333,
             "#9c179e"
            ],
            [
             0.4444444444444444,
             "#bd3786"
            ],
            [
             0.5555555555555556,
             "#d8576b"
            ],
            [
             0.6666666666666666,
             "#ed7953"
            ],
            [
             0.7777777777777778,
             "#fb9f3a"
            ],
            [
             0.8888888888888888,
             "#fdca26"
            ],
            [
             1,
             "#f0f921"
            ]
           ]
          },
          "colorway": [
           "#636efa",
           "#EF553B",
           "#00cc96",
           "#ab63fa",
           "#FFA15A",
           "#19d3f3",
           "#FF6692",
           "#B6E880",
           "#FF97FF",
           "#FECB52"
          ],
          "font": {
           "color": "#2a3f5f"
          },
          "geo": {
           "bgcolor": "white",
           "lakecolor": "white",
           "landcolor": "#E5ECF6",
           "showlakes": true,
           "showland": true,
           "subunitcolor": "white"
          },
          "hoverlabel": {
           "align": "left"
          },
          "hovermode": "closest",
          "mapbox": {
           "style": "light"
          },
          "paper_bgcolor": "white",
          "plot_bgcolor": "#E5ECF6",
          "polar": {
           "angularaxis": {
            "gridcolor": "white",
            "linecolor": "white",
            "ticks": ""
           },
           "bgcolor": "#E5ECF6",
           "radialaxis": {
            "gridcolor": "white",
            "linecolor": "white",
            "ticks": ""
           }
          },
          "scene": {
           "xaxis": {
            "backgroundcolor": "#E5ECF6",
            "gridcolor": "white",
            "gridwidth": 2,
            "linecolor": "white",
            "showbackground": true,
            "ticks": "",
            "zerolinecolor": "white"
           },
           "yaxis": {
            "backgroundcolor": "#E5ECF6",
            "gridcolor": "white",
            "gridwidth": 2,
            "linecolor": "white",
            "showbackground": true,
            "ticks": "",
            "zerolinecolor": "white"
           },
           "zaxis": {
            "backgroundcolor": "#E5ECF6",
            "gridcolor": "white",
            "gridwidth": 2,
            "linecolor": "white",
            "showbackground": true,
            "ticks": "",
            "zerolinecolor": "white"
           }
          },
          "shapedefaults": {
           "line": {
            "color": "#2a3f5f"
           }
          },
          "ternary": {
           "aaxis": {
            "gridcolor": "white",
            "linecolor": "white",
            "ticks": ""
           },
           "baxis": {
            "gridcolor": "white",
            "linecolor": "white",
            "ticks": ""
           },
           "bgcolor": "#E5ECF6",
           "caxis": {
            "gridcolor": "white",
            "linecolor": "white",
            "ticks": ""
           }
          },
          "title": {
           "x": 0.05
          },
          "xaxis": {
           "automargin": true,
           "gridcolor": "white",
           "linecolor": "white",
           "ticks": "",
           "title": {
            "standoff": 15
           },
           "zerolinecolor": "white",
           "zerolinewidth": 2
          },
          "yaxis": {
           "automargin": true,
           "gridcolor": "white",
           "linecolor": "white",
           "ticks": "",
           "title": {
            "standoff": 15
           },
           "zerolinecolor": "white",
           "zerolinewidth": 2
          }
         }
        }
       }
      }
     },
     "metadata": {},
     "output_type": "display_data"
    }
   ],
   "source": [
    "import plotly.graph_objects as go\n",
    "\n",
    "data = noise_pollution_v2.groupby(['year']).sum().reset_index()\n",
    "fig = go.Figure()\n",
    "fig.add_trace(go.Line(x=data['year'], y=data['total_sounds'], mode='lines', line=dict(color='blue', width=2)))\n",
    "fig.add_trace(go.Line(x=data['year'], y=data['engine_sounds'], mode='lines', line=dict(color='green', width=2)))\n",
    "fig.add_trace(go.Line(x=data['year'], y=data['alert_signal_sounds'], mode='lines', line=dict(color='red', width=2)))\n",
    "\n",
    "fig.show()"
   ]
  },
  {
   "cell_type": "code",
   "execution_count": 35,
   "metadata": {},
   "outputs": [
    {
     "data": {
      "text/html": [
       "<div>\n",
       "<style scoped>\n",
       "    .dataframe tbody tr th:only-of-type {\n",
       "        vertical-align: middle;\n",
       "    }\n",
       "\n",
       "    .dataframe tbody tr th {\n",
       "        vertical-align: top;\n",
       "    }\n",
       "\n",
       "    .dataframe thead th {\n",
       "        text-align: right;\n",
       "    }\n",
       "</style>\n",
       "<table border=\"1\" class=\"dataframe\">\n",
       "  <thead>\n",
       "    <tr style=\"text-align: right;\">\n",
       "      <th></th>\n",
       "      <th>year</th>\n",
       "      <th>month</th>\n",
       "      <th>day</th>\n",
       "      <th>id_borough</th>\n",
       "      <th>engine_sounds</th>\n",
       "      <th>alert_signal_sounds</th>\n",
       "      <th>total_sounds</th>\n",
       "    </tr>\n",
       "  </thead>\n",
       "  <tbody>\n",
       "    <tr>\n",
       "      <th>0</th>\n",
       "      <td>2016</td>\n",
       "      <td>1</td>\n",
       "      <td>0</td>\n",
       "      <td>1</td>\n",
       "      <td>15</td>\n",
       "      <td>7</td>\n",
       "      <td>22</td>\n",
       "    </tr>\n",
       "    <tr>\n",
       "      <th>1</th>\n",
       "      <td>2016</td>\n",
       "      <td>5</td>\n",
       "      <td>0</td>\n",
       "      <td>1</td>\n",
       "      <td>20</td>\n",
       "      <td>23</td>\n",
       "      <td>43</td>\n",
       "    </tr>\n",
       "    <tr>\n",
       "      <th>2</th>\n",
       "      <td>2016</td>\n",
       "      <td>5</td>\n",
       "      <td>1</td>\n",
       "      <td>1</td>\n",
       "      <td>5</td>\n",
       "      <td>3</td>\n",
       "      <td>8</td>\n",
       "    </tr>\n",
       "    <tr>\n",
       "      <th>3</th>\n",
       "      <td>2016</td>\n",
       "      <td>5</td>\n",
       "      <td>2</td>\n",
       "      <td>1</td>\n",
       "      <td>9</td>\n",
       "      <td>14</td>\n",
       "      <td>23</td>\n",
       "    </tr>\n",
       "    <tr>\n",
       "      <th>4</th>\n",
       "      <td>2016</td>\n",
       "      <td>5</td>\n",
       "      <td>3</td>\n",
       "      <td>1</td>\n",
       "      <td>4</td>\n",
       "      <td>3</td>\n",
       "      <td>7</td>\n",
       "    </tr>\n",
       "  </tbody>\n",
       "</table>\n",
       "</div>"
      ],
      "text/plain": [
       "   year  month  day  id_borough  engine_sounds  alert_signal_sounds  \\\n",
       "0  2016      1    0           1             15                    7   \n",
       "1  2016      5    0           1             20                   23   \n",
       "2  2016      5    1           1              5                    3   \n",
       "3  2016      5    2           1              9                   14   \n",
       "4  2016      5    3           1              4                    3   \n",
       "\n",
       "   total_sounds  \n",
       "0            22  \n",
       "1            43  \n",
       "2             8  \n",
       "3            23  \n",
       "4             7  "
      ]
     },
     "execution_count": 35,
     "metadata": {},
     "output_type": "execute_result"
    }
   ],
   "source": [
    "# Creamos una copia del dataframe\n",
    "noise_poll = noise_pollution_v2.copy(deep=True)\n",
    "noise_poll.head()"
   ]
  },
  {
   "cell_type": "code",
   "execution_count": 36,
   "metadata": {},
   "outputs": [
    {
     "data": {
      "text/html": [
       "<div>\n",
       "<style scoped>\n",
       "    .dataframe tbody tr th:only-of-type {\n",
       "        vertical-align: middle;\n",
       "    }\n",
       "\n",
       "    .dataframe tbody tr th {\n",
       "        vertical-align: top;\n",
       "    }\n",
       "\n",
       "    .dataframe thead th {\n",
       "        text-align: right;\n",
       "    }\n",
       "</style>\n",
       "<table border=\"1\" class=\"dataframe\">\n",
       "  <thead>\n",
       "    <tr style=\"text-align: right;\">\n",
       "      <th></th>\n",
       "      <th>year</th>\n",
       "      <th>month</th>\n",
       "      <th>day</th>\n",
       "      <th>id_borough</th>\n",
       "      <th>engine_sounds</th>\n",
       "      <th>alert_signal_sounds</th>\n",
       "      <th>total_sounds</th>\n",
       "      <th>borough_name</th>\n",
       "    </tr>\n",
       "  </thead>\n",
       "  <tbody>\n",
       "    <tr>\n",
       "      <th>0</th>\n",
       "      <td>2016</td>\n",
       "      <td>1</td>\n",
       "      <td>0</td>\n",
       "      <td>1</td>\n",
       "      <td>15</td>\n",
       "      <td>7</td>\n",
       "      <td>22</td>\n",
       "      <td>manhattan</td>\n",
       "    </tr>\n",
       "    <tr>\n",
       "      <th>1</th>\n",
       "      <td>2016</td>\n",
       "      <td>5</td>\n",
       "      <td>0</td>\n",
       "      <td>1</td>\n",
       "      <td>20</td>\n",
       "      <td>23</td>\n",
       "      <td>43</td>\n",
       "      <td>manhattan</td>\n",
       "    </tr>\n",
       "  </tbody>\n",
       "</table>\n",
       "</div>"
      ],
      "text/plain": [
       "   year  month  day  id_borough  engine_sounds  alert_signal_sounds  \\\n",
       "0  2016      1    0           1             15                    7   \n",
       "1  2016      5    0           1             20                   23   \n",
       "\n",
       "   total_sounds borough_name  \n",
       "0            22    manhattan  \n",
       "1            43    manhattan  "
      ]
     },
     "execution_count": 36,
     "metadata": {},
     "output_type": "execute_result"
    }
   ],
   "source": [
    "# Generando las variables id_borough y borough_name a partir del borough\n",
    "noise_poll = replace_borough_by_id_borough(noise_poll, 'borough_name')\n",
    "noise_poll.head(2)"
   ]
  },
  {
   "cell_type": "code",
   "execution_count": 37,
   "metadata": {},
   "outputs": [],
   "source": [
    "# Exportar data limpia y procesada de contaminacion acústica\n",
    "export_dir = roy_data_dir('noise_pollution.parquet')\n",
    "noise_poll.to_parquet(export_dir)"
   ]
  },
  {
   "attachments": {},
   "cell_type": "markdown",
   "metadata": {},
   "source": [
    "## 3. Volumen de tráfico vehicular"
   ]
  },
  {
   "cell_type": "code",
   "execution_count": 38,
   "metadata": {},
   "outputs": [
    {
     "data": {
      "text/html": [
       "<div>\n",
       "<style scoped>\n",
       "    .dataframe tbody tr th:only-of-type {\n",
       "        vertical-align: middle;\n",
       "    }\n",
       "\n",
       "    .dataframe tbody tr th {\n",
       "        vertical-align: top;\n",
       "    }\n",
       "\n",
       "    .dataframe thead th {\n",
       "        text-align: right;\n",
       "    }\n",
       "</style>\n",
       "<table border=\"1\" class=\"dataframe\">\n",
       "  <thead>\n",
       "    <tr style=\"text-align: right;\">\n",
       "      <th></th>\n",
       "      <th>date</th>\n",
       "      <th>id_borough</th>\n",
       "      <th>borough_name</th>\n",
       "      <th>volume</th>\n",
       "    </tr>\n",
       "  </thead>\n",
       "  <tbody>\n",
       "    <tr>\n",
       "      <th>0</th>\n",
       "      <td>2008-03-10</td>\n",
       "      <td>3</td>\n",
       "      <td>queens</td>\n",
       "      <td>169.092233</td>\n",
       "    </tr>\n",
       "    <tr>\n",
       "      <th>1</th>\n",
       "      <td>2008-03-10</td>\n",
       "      <td>5</td>\n",
       "      <td>staten island</td>\n",
       "      <td>399.421053</td>\n",
       "    </tr>\n",
       "    <tr>\n",
       "      <th>2</th>\n",
       "      <td>2008-03-11</td>\n",
       "      <td>3</td>\n",
       "      <td>queens</td>\n",
       "      <td>124.629902</td>\n",
       "    </tr>\n",
       "  </tbody>\n",
       "</table>\n",
       "</div>"
      ],
      "text/plain": [
       "         date  id_borough   borough_name      volume\n",
       "0  2008-03-10           3         queens  169.092233\n",
       "1  2008-03-10           5  staten island  399.421053\n",
       "2  2008-03-11           3         queens  124.629902"
      ]
     },
     "execution_count": 38,
     "metadata": {},
     "output_type": "execute_result"
    }
   ],
   "source": [
    "# Lectura del archivo\n",
    "vehicle_density = pd.read_csv(jaime_dir('vehicular_volume.csv'))\n",
    "vehicle_density.head(3)"
   ]
  },
  {
   "cell_type": "code",
   "execution_count": 39,
   "metadata": {},
   "outputs": [],
   "source": [
    "# Creacion de una columna year a partir de date\n",
    "vehicle_density['year'] = pd.to_datetime(vehicle_density['date']).dt.year"
   ]
  },
  {
   "cell_type": "code",
   "execution_count": 40,
   "metadata": {},
   "outputs": [],
   "source": [
    "# Filtro de fecha del 2016 al 2019\n",
    "vehicle_density = vehicle_density[(vehicle_density['year'] <= 2019) & (vehicle_density['year'] >= 2016)]"
   ]
  },
  {
   "cell_type": "code",
   "execution_count": 41,
   "metadata": {},
   "outputs": [],
   "source": [
    "# Conversion de la métrica del volumen vehicular en días\n",
    "vehicle_density[['volume']] = (vehicle_density.loc[::,['volume']])*(4*24)"
   ]
  },
  {
   "cell_type": "code",
   "execution_count": 42,
   "metadata": {},
   "outputs": [],
   "source": [
    "# Resetear el index\n",
    "vehicle_density = vehicle_density.reset_index(drop=True)"
   ]
  },
  {
   "attachments": {},
   "cell_type": "markdown",
   "metadata": {},
   "source": [
    "### 4. Unión de los dataframes"
   ]
  },
  {
   "cell_type": "code",
   "execution_count": 43,
   "metadata": {},
   "outputs": [
    {
     "data": {
      "text/html": [
       "<div>\n",
       "<style scoped>\n",
       "    .dataframe tbody tr th:only-of-type {\n",
       "        vertical-align: middle;\n",
       "    }\n",
       "\n",
       "    .dataframe tbody tr th {\n",
       "        vertical-align: top;\n",
       "    }\n",
       "\n",
       "    .dataframe thead th {\n",
       "        text-align: right;\n",
       "    }\n",
       "</style>\n",
       "<table border=\"1\" class=\"dataframe\">\n",
       "  <thead>\n",
       "    <tr style=\"text-align: right;\">\n",
       "      <th></th>\n",
       "      <th>date</th>\n",
       "      <th>id_borough</th>\n",
       "      <th>borough_name</th>\n",
       "      <th>volume</th>\n",
       "      <th>year</th>\n",
       "    </tr>\n",
       "  </thead>\n",
       "  <tbody>\n",
       "    <tr>\n",
       "      <th>0</th>\n",
       "      <td>2016-01-04</td>\n",
       "      <td>4</td>\n",
       "      <td>bronx</td>\n",
       "      <td>6946.490272</td>\n",
       "      <td>2016</td>\n",
       "    </tr>\n",
       "  </tbody>\n",
       "</table>\n",
       "</div>"
      ],
      "text/plain": [
       "         date  id_borough borough_name       volume  year\n",
       "0  2016-01-04           4        bronx  6946.490272  2016"
      ]
     },
     "execution_count": 43,
     "metadata": {},
     "output_type": "execute_result"
    }
   ],
   "source": [
    "vehicle_density.head(1)"
   ]
  },
  {
   "cell_type": "code",
   "execution_count": 44,
   "metadata": {},
   "outputs": [
    {
     "data": {
      "text/html": [
       "<div>\n",
       "<style scoped>\n",
       "    .dataframe tbody tr th:only-of-type {\n",
       "        vertical-align: middle;\n",
       "    }\n",
       "\n",
       "    .dataframe tbody tr th {\n",
       "        vertical-align: top;\n",
       "    }\n",
       "\n",
       "    .dataframe thead th {\n",
       "        text-align: right;\n",
       "    }\n",
       "</style>\n",
       "<table border=\"1\" class=\"dataframe\">\n",
       "  <thead>\n",
       "    <tr style=\"text-align: right;\">\n",
       "      <th></th>\n",
       "      <th>year</th>\n",
       "      <th>month</th>\n",
       "      <th>day</th>\n",
       "      <th>id_borough</th>\n",
       "      <th>engine_sounds</th>\n",
       "      <th>alert_signal_sounds</th>\n",
       "      <th>total_sounds</th>\n",
       "      <th>borough_name</th>\n",
       "    </tr>\n",
       "  </thead>\n",
       "  <tbody>\n",
       "    <tr>\n",
       "      <th>0</th>\n",
       "      <td>2016</td>\n",
       "      <td>1</td>\n",
       "      <td>0</td>\n",
       "      <td>1</td>\n",
       "      <td>15</td>\n",
       "      <td>7</td>\n",
       "      <td>22</td>\n",
       "      <td>manhattan</td>\n",
       "    </tr>\n",
       "  </tbody>\n",
       "</table>\n",
       "</div>"
      ],
      "text/plain": [
       "   year  month  day  id_borough  engine_sounds  alert_signal_sounds  \\\n",
       "0  2016      1    0           1             15                    7   \n",
       "\n",
       "   total_sounds borough_name  \n",
       "0            22    manhattan  "
      ]
     },
     "execution_count": 44,
     "metadata": {},
     "output_type": "execute_result"
    }
   ],
   "source": [
    "noise_poll.head(1)"
   ]
  },
  {
   "cell_type": "code",
   "execution_count": 45,
   "metadata": {},
   "outputs": [],
   "source": [
    "# Union de los datasets a través del identificador de borough\n",
    "data_v0 = pd.merge(vehicle_density[['date','id_borough','volume']], noise_poll, left_on='id_borough',right_on='id_borough')"
   ]
  },
  {
   "cell_type": "code",
   "execution_count": 46,
   "metadata": {},
   "outputs": [
    {
     "data": {
      "text/html": [
       "<div>\n",
       "<style scoped>\n",
       "    .dataframe tbody tr th:only-of-type {\n",
       "        vertical-align: middle;\n",
       "    }\n",
       "\n",
       "    .dataframe tbody tr th {\n",
       "        vertical-align: top;\n",
       "    }\n",
       "\n",
       "    .dataframe thead th {\n",
       "        text-align: right;\n",
       "    }\n",
       "</style>\n",
       "<table border=\"1\" class=\"dataframe\">\n",
       "  <thead>\n",
       "    <tr style=\"text-align: right;\">\n",
       "      <th></th>\n",
       "      <th>date</th>\n",
       "      <th>id_borough</th>\n",
       "      <th>volume</th>\n",
       "      <th>year</th>\n",
       "      <th>month</th>\n",
       "      <th>day</th>\n",
       "      <th>engine_sounds</th>\n",
       "      <th>alert_signal_sounds</th>\n",
       "      <th>total_sounds</th>\n",
       "      <th>borough_name</th>\n",
       "    </tr>\n",
       "  </thead>\n",
       "  <tbody>\n",
       "    <tr>\n",
       "      <th>0</th>\n",
       "      <td>2016-01-04</td>\n",
       "      <td>4</td>\n",
       "      <td>6946.490272</td>\n",
       "      <td>2018</td>\n",
       "      <td>2</td>\n",
       "      <td>0</td>\n",
       "      <td>4</td>\n",
       "      <td>1</td>\n",
       "      <td>5</td>\n",
       "      <td>queens</td>\n",
       "    </tr>\n",
       "  </tbody>\n",
       "</table>\n",
       "</div>"
      ],
      "text/plain": [
       "         date  id_borough       volume  year  month  day  engine_sounds  \\\n",
       "0  2016-01-04           4  6946.490272  2018      2    0              4   \n",
       "\n",
       "   alert_signal_sounds  total_sounds borough_name  \n",
       "0                    1             5       queens  "
      ]
     },
     "execution_count": 46,
     "metadata": {},
     "output_type": "execute_result"
    }
   ],
   "source": [
    "data_v0.head(1)"
   ]
  },
  {
   "cell_type": "code",
   "execution_count": 47,
   "metadata": {},
   "outputs": [],
   "source": [
    "# Eliminando la columna id_borough\n",
    "data_v0 = data_v0.drop('id_borough', axis=1)\n",
    "# Convertir la columna de fecha a datetime\n",
    "data_v0['date'] = pd.to_datetime(data_v0['date'], format='%Y-%m-%d')"
   ]
  },
  {
   "cell_type": "code",
   "execution_count": 57,
   "metadata": {},
   "outputs": [
    {
     "ename": "KeyError",
     "evalue": "'date'",
     "output_type": "error",
     "traceback": [
      "\u001b[1;31m---------------------------------------------------------------------------\u001b[0m",
      "\u001b[1;31mKeyError\u001b[0m                                  Traceback (most recent call last)",
      "\u001b[1;32md:\\Backup\\GitHub\\Proyecto_grupal_DS\\env\\lib\\site-packages\\pandas\\core\\indexes\\base.py\u001b[0m in \u001b[0;36mget_loc\u001b[1;34m(self, key, method, tolerance)\u001b[0m\n\u001b[0;32m   3360\u001b[0m             \u001b[1;32mtry\u001b[0m\u001b[1;33m:\u001b[0m\u001b[1;33m\u001b[0m\u001b[1;33m\u001b[0m\u001b[0m\n\u001b[1;32m-> 3361\u001b[1;33m                 \u001b[1;32mreturn\u001b[0m \u001b[0mself\u001b[0m\u001b[1;33m.\u001b[0m\u001b[0m_engine\u001b[0m\u001b[1;33m.\u001b[0m\u001b[0mget_loc\u001b[0m\u001b[1;33m(\u001b[0m\u001b[0mcasted_key\u001b[0m\u001b[1;33m)\u001b[0m\u001b[1;33m\u001b[0m\u001b[1;33m\u001b[0m\u001b[0m\n\u001b[0m\u001b[0;32m   3362\u001b[0m             \u001b[1;32mexcept\u001b[0m \u001b[0mKeyError\u001b[0m \u001b[1;32mas\u001b[0m \u001b[0merr\u001b[0m\u001b[1;33m:\u001b[0m\u001b[1;33m\u001b[0m\u001b[1;33m\u001b[0m\u001b[0m\n",
      "\u001b[1;32md:\\Backup\\GitHub\\Proyecto_grupal_DS\\env\\lib\\site-packages\\pandas\\_libs\\index.pyx\u001b[0m in \u001b[0;36mpandas._libs.index.IndexEngine.get_loc\u001b[1;34m()\u001b[0m\n",
      "\u001b[1;32md:\\Backup\\GitHub\\Proyecto_grupal_DS\\env\\lib\\site-packages\\pandas\\_libs\\index.pyx\u001b[0m in \u001b[0;36mpandas._libs.index.IndexEngine.get_loc\u001b[1;34m()\u001b[0m\n",
      "\u001b[1;32mpandas\\_libs\\hashtable_class_helper.pxi\u001b[0m in \u001b[0;36mpandas._libs.hashtable.PyObjectHashTable.get_item\u001b[1;34m()\u001b[0m\n",
      "\u001b[1;32mpandas\\_libs\\hashtable_class_helper.pxi\u001b[0m in \u001b[0;36mpandas._libs.hashtable.PyObjectHashTable.get_item\u001b[1;34m()\u001b[0m\n",
      "\u001b[1;31mKeyError\u001b[0m: 'date'",
      "\nThe above exception was the direct cause of the following exception:\n",
      "\u001b[1;31mKeyError\u001b[0m                                  Traceback (most recent call last)",
      "\u001b[1;32m~\\AppData\\Local\\Temp\\ipykernel_4324\\3778210796.py\u001b[0m in \u001b[0;36m<module>\u001b[1;34m\u001b[0m\n\u001b[0;32m     19\u001b[0m fig.update_layout(\n\u001b[0;32m     20\u001b[0m     title={\n\u001b[1;32m---> 21\u001b[1;33m         \u001b[1;34m'text'\u001b[0m\u001b[1;33m:\u001b[0m \u001b[1;34mf\"Variacion de la proporción de sonidos registrados de señal de alerta por volumen de tráfico en cada borough entre entre {data['date'].dt.year.min()} y {data['date'].dt.year.max()}\"\u001b[0m\u001b[1;33m,\u001b[0m\u001b[1;33m\u001b[0m\u001b[1;33m\u001b[0m\u001b[0m\n\u001b[0m\u001b[0;32m     22\u001b[0m         \u001b[1;34m'x'\u001b[0m\u001b[1;33m:\u001b[0m \u001b[1;36m0.5\u001b[0m\u001b[1;33m,\u001b[0m\u001b[1;33m\u001b[0m\u001b[1;33m\u001b[0m\u001b[0m\n\u001b[0;32m     23\u001b[0m         \u001b[1;34m'y'\u001b[0m\u001b[1;33m:\u001b[0m \u001b[1;36m0.95\u001b[0m\u001b[1;33m,\u001b[0m\u001b[1;33m\u001b[0m\u001b[1;33m\u001b[0m\u001b[0m\n",
      "\u001b[1;32md:\\Backup\\GitHub\\Proyecto_grupal_DS\\env\\lib\\site-packages\\pandas\\core\\frame.py\u001b[0m in \u001b[0;36m__getitem__\u001b[1;34m(self, key)\u001b[0m\n\u001b[0;32m   3456\u001b[0m             \u001b[1;32mif\u001b[0m \u001b[0mself\u001b[0m\u001b[1;33m.\u001b[0m\u001b[0mcolumns\u001b[0m\u001b[1;33m.\u001b[0m\u001b[0mnlevels\u001b[0m \u001b[1;33m>\u001b[0m \u001b[1;36m1\u001b[0m\u001b[1;33m:\u001b[0m\u001b[1;33m\u001b[0m\u001b[1;33m\u001b[0m\u001b[0m\n\u001b[0;32m   3457\u001b[0m                 \u001b[1;32mreturn\u001b[0m \u001b[0mself\u001b[0m\u001b[1;33m.\u001b[0m\u001b[0m_getitem_multilevel\u001b[0m\u001b[1;33m(\u001b[0m\u001b[0mkey\u001b[0m\u001b[1;33m)\u001b[0m\u001b[1;33m\u001b[0m\u001b[1;33m\u001b[0m\u001b[0m\n\u001b[1;32m-> 3458\u001b[1;33m             \u001b[0mindexer\u001b[0m \u001b[1;33m=\u001b[0m \u001b[0mself\u001b[0m\u001b[1;33m.\u001b[0m\u001b[0mcolumns\u001b[0m\u001b[1;33m.\u001b[0m\u001b[0mget_loc\u001b[0m\u001b[1;33m(\u001b[0m\u001b[0mkey\u001b[0m\u001b[1;33m)\u001b[0m\u001b[1;33m\u001b[0m\u001b[1;33m\u001b[0m\u001b[0m\n\u001b[0m\u001b[0;32m   3459\u001b[0m             \u001b[1;32mif\u001b[0m \u001b[0mis_integer\u001b[0m\u001b[1;33m(\u001b[0m\u001b[0mindexer\u001b[0m\u001b[1;33m)\u001b[0m\u001b[1;33m:\u001b[0m\u001b[1;33m\u001b[0m\u001b[1;33m\u001b[0m\u001b[0m\n\u001b[0;32m   3460\u001b[0m                 \u001b[0mindexer\u001b[0m \u001b[1;33m=\u001b[0m \u001b[1;33m[\u001b[0m\u001b[0mindexer\u001b[0m\u001b[1;33m]\u001b[0m\u001b[1;33m\u001b[0m\u001b[1;33m\u001b[0m\u001b[0m\n",
      "\u001b[1;32md:\\Backup\\GitHub\\Proyecto_grupal_DS\\env\\lib\\site-packages\\pandas\\core\\indexes\\base.py\u001b[0m in \u001b[0;36mget_loc\u001b[1;34m(self, key, method, tolerance)\u001b[0m\n\u001b[0;32m   3361\u001b[0m                 \u001b[1;32mreturn\u001b[0m \u001b[0mself\u001b[0m\u001b[1;33m.\u001b[0m\u001b[0m_engine\u001b[0m\u001b[1;33m.\u001b[0m\u001b[0mget_loc\u001b[0m\u001b[1;33m(\u001b[0m\u001b[0mcasted_key\u001b[0m\u001b[1;33m)\u001b[0m\u001b[1;33m\u001b[0m\u001b[1;33m\u001b[0m\u001b[0m\n\u001b[0;32m   3362\u001b[0m             \u001b[1;32mexcept\u001b[0m \u001b[0mKeyError\u001b[0m \u001b[1;32mas\u001b[0m \u001b[0merr\u001b[0m\u001b[1;33m:\u001b[0m\u001b[1;33m\u001b[0m\u001b[1;33m\u001b[0m\u001b[0m\n\u001b[1;32m-> 3363\u001b[1;33m                 \u001b[1;32mraise\u001b[0m \u001b[0mKeyError\u001b[0m\u001b[1;33m(\u001b[0m\u001b[0mkey\u001b[0m\u001b[1;33m)\u001b[0m \u001b[1;32mfrom\u001b[0m \u001b[0merr\u001b[0m\u001b[1;33m\u001b[0m\u001b[1;33m\u001b[0m\u001b[0m\n\u001b[0m\u001b[0;32m   3364\u001b[0m \u001b[1;33m\u001b[0m\u001b[0m\n\u001b[0;32m   3365\u001b[0m         \u001b[1;32mif\u001b[0m \u001b[0mis_scalar\u001b[0m\u001b[1;33m(\u001b[0m\u001b[0mkey\u001b[0m\u001b[1;33m)\u001b[0m \u001b[1;32mand\u001b[0m \u001b[0misna\u001b[0m\u001b[1;33m(\u001b[0m\u001b[0mkey\u001b[0m\u001b[1;33m)\u001b[0m \u001b[1;32mand\u001b[0m \u001b[1;32mnot\u001b[0m \u001b[0mself\u001b[0m\u001b[1;33m.\u001b[0m\u001b[0mhasnans\u001b[0m\u001b[1;33m:\u001b[0m\u001b[1;33m\u001b[0m\u001b[1;33m\u001b[0m\u001b[0m\n",
      "\u001b[1;31mKeyError\u001b[0m: 'date'"
     ]
    }
   ],
   "source": [
    "import plotly.graph_objects as go\n",
    "\n",
    "data = data_v0.groupby(['year']).sum().reset_index()\n",
    "fig = go.Figure()\n",
    "fig.add_trace(go.Scatter(x=data['year'], y=data['total_sounds'], mode='lines', line=dict(color='blue', width=2)))\n",
    "fig.add_trace(go.Scatter(x=data['year'], y=data['engine_sounds'], mode='lines', line=dict(color='green', width=2)))\n",
    "fig.add_trace(go.Scatter(x=data['year'], y=data['alert_signal_sounds'], mode='lines', line=dict(color='red', width=2)))\n",
    "fig.add_trace(go.Scatter(x=data['year'], y=data['volume'], mode='lines', line=dict(color='orange', width=2)))\n",
    "\n",
    "# Formatear eje X\n",
    "fig.update_xaxes(\n",
    "    dtick=\"M12\",\n",
    "    tickformat=\"%Y\",\n",
    "    range=[data['year'].min(), data['year'].max()],\n",
    "    title=\"Año\"\n",
    ")\n",
    "\n",
    "# Titulo del grafico\n",
    "fig.update_layout(\n",
    "    title={\n",
    "        'text': f\"Variacion de la proporción de sonidos registrados de señal de alerta por volumen de tráfico en cada borough entre entre {data['year'].min()} y {data['year'].max()}\",\n",
    "        'x': 0.5,\n",
    "        'y': 0.95,\n",
    "        'xanchor': 'center',\n",
    "        'yanchor': 'top'\n",
    "    },\n",
    "    yaxis_title=\"ratio de sonidos registrados por volumen de tráfico\",\n",
    "    yaxis_type=\"log\"\n",
    ")\n",
    "\n",
    "fig.show()"
   ]
  },
  {
   "attachments": {},
   "cell_type": "markdown",
   "metadata": {},
   "source": [
    "* Análisis de la correlacion de las variables de volumen vehicular, cantidad de sonidos procedentes de motores y cantidad de sonidos procedentes señales de alerta"
   ]
  },
  {
   "cell_type": "code",
   "execution_count": null,
   "metadata": {},
   "outputs": [],
   "source": [
    "sns.set_theme(style = 'darkgrid')\n",
    "\n",
    "corr_matrix = data_v0[['volume','alert_signal_sounds','engine_sounds', 'total_sounds']].corr()\n",
    "\n",
    "mask = np.triu(np.ones_like(corr_matrix, dtype = bool))\n",
    "\n",
    "fig, ax = plt.subplots(figsize = (8, 8))\n",
    "\n",
    "sns.heatmap(corr_matrix, mask = mask, cmap = 'magma', vmax = 1,vmin = -1, center = 0, square = True, linewidths = 0.5, cbar_kws = {\"shrink\": 0.5}, annot=True)\n",
    "\n",
    "# Añadir etiquetas a los ejes\n",
    "ax.set_xlabel(\"Variables\", fontsize=12)\n",
    "ax.set_ylabel(\"Variables\", fontsize=12)\n",
    "\n",
    "# Personalizar los tickets en ambos ejes\n",
    "ax.set_xticklabels(ax.get_xticklabels(), rotation=90, ha='center', fontsize=10)\n",
    "ax.set_yticklabels(ax.get_yticklabels(), rotation=0, fontsize=10)\n",
    "\n",
    "# Añadir título a la figura\n",
    "ax.set_title(\"Grafica de correlación\", fontsize=14)\n",
    "\n",
    "plt.show()"
   ]
  },
  {
   "attachments": {},
   "cell_type": "markdown",
   "metadata": {},
   "source": [
    "* Se observa una correlación alta entre las variables ``engine_sound_pres`` y ``alert_signal_pres``, lo que implica que la presencia de un sonido proveniente de un motor de un vehículo está relacionado con la presencia de un sonido cuyo fuente es una señal de alerta.\n",
    "* Además, parece que la variable ``engine_sound_pres`` (el número de registros de sonidos de motores) mantiene mayor correlación con el ``volume`` (volumen de tráfico) que ``alert_signal_pres`` y ``total_sounds_pres``, la correlacion es muy cercano a 0.1"
   ]
  },
  {
   "attachments": {},
   "cell_type": "markdown",
   "metadata": {},
   "source": [
    "## 5. KPI: Reduccion porcentual de la contaminación acústica en términos de los registros diarios de sonidos de motores."
   ]
  },
  {
   "attachments": {},
   "cell_type": "markdown",
   "metadata": {},
   "source": [
    "Variables que consideraremos para estudiar la contaminación acústica:\n",
    "\n",
    "* **volume**: Cantidad de vehículos que transitan por un día (24 horas).\n",
    "* **alert_signal_sounds**: Cantidad de registro de sonidos provenientes del motor de un vehículo por día.\n",
    "* **engine_sounds**: Cantidad de registro de sonidos provenientes del señales de alarma por día.\n",
    "* **prop_soundeng_voltraf**: proporción sonidos registrados de motores por volumen de tráfico diariamente.\n",
    "* **prop_alertsig_voltraf**: proporción sonidos registrados de señales de alerta por volumen de tráfico diariamente.\n",
    "* **prop_totalsoun_voltraf**: proporción del total de sonidos registrados relacionados a los vehículos (sonidos de motores y señales de alerta) por volumen de tráfico diariamente.\n",
    "\n",
    "Se considerará como conjunto universo la cantidad total de registros relacionados a vehículos a la suma de los registros de sonidos de motores y señales de alerta:\n",
    "\n",
    "$\n",
    "\\begin{equation}\n",
    "\\text {total sounds} = \\text {engine sounds} + \\text {alert signal sounds}\n",
    "\\end{equation}\n",
    "$\n",
    "\n",
    "Así, la proporción reducida se calculará respecto a la cantidad total de registros de sonidos (``total_sounds``). Además, debemos asumir que cada vehículo motorizado tiene un único registro de sonido al día de tal forma que cada vehículo eléctrico implementado reemplaza únicamente a un vehículo motorizado.\n",
    "Por otro lado la cantidad de vehículos motorizados reemplazados por los eléctricos deben mantener la misma proporción de sonidos registrados de motores por volumen diario, por tanto el cálculo del porcentaje reducido quedaría como:\n",
    "\n",
    "$\n",
    "\\begin{equation}\n",
    "\\text{Porcentaje Reducido (reduction pct) [\\%]} =  (1 - \\frac{\\text {total sounds} - (\\text {electric vehs} \\times \\text{prop engsound traffic})}{\\text{total sounds}})\\times 100\\%\n",
    "\\end{equation}\n",
    "$\n",
    "\n",
    "El objetivo de implementar un flota vehicular que mitigue el problema de la contaminación acústica es reducir la cantidad de registros de sonidos provenientes de motores (vehículos motorizados)."
   ]
  },
  {
   "attachments": {},
   "cell_type": "markdown",
   "metadata": {},
   "source": [
    "### 5.1. Variación de la proporción de sonidos respecto al volumen de tráfico diario."
   ]
  },
  {
   "cell_type": "code",
   "execution_count": null,
   "metadata": {},
   "outputs": [],
   "source": [
    "# Suma de registros diarios totales\n",
    "data_v1 = data_v0.groupby(['borough_name','date']).sum()"
   ]
  },
  {
   "cell_type": "code",
   "execution_count": null,
   "metadata": {},
   "outputs": [],
   "source": [
    "# Reseteamos el index\n",
    "data_v1 = data_v0.reset_index()\n",
    "data_v1"
   ]
  },
  {
   "cell_type": "code",
   "execution_count": null,
   "metadata": {},
   "outputs": [],
   "source": [
    "# Calculo de la proporción de sonidos registrados de motores por volumen de tráfico diariamente\n",
    "data_v1['prop_soundeng_voltraf'] = data_v1['engine_sounds'] / data_v1['volume']\n",
    "# Cálculo de la proporción de sonidos registrados de señales de alerta por volumen de tráfico diariamente.\n",
    "data_v1['prop_alertsig_voltraf'] = data_v1['alert_signal_sounds'] / data_v1['volume']\n",
    "# Cálculo de la proporción de sonidos registrados por volumen de tráfico diariamente.\n",
    "data_v1['prop_totalsoun_voltraf'] = data_v1['total_sounds'] / data_v1['volume']"
   ]
  },
  {
   "cell_type": "code",
   "execution_count": null,
   "metadata": {},
   "outputs": [],
   "source": [
    "# Seleccionar las columnas relevantes del dataframe\n",
    "rat_cols = ['prop_soundeng_voltraf', 'prop_alertsig_voltraf','prop_totalsoun_voltraf', 'borough_name', 'date']\n",
    "\n",
    "# Definir figura y tamaño\n",
    "plt.figure(figsize=(18, 6))\n",
    "\n",
    "# Graficar datos\n",
    "g = sns.lineplot(data=data_v1[rat_cols], x='date', y='rat_soundeng_voltraf', hue='borough_name')\n",
    "\n",
    "# Formatear eje X\n",
    "date_format = mdates.DateFormatter('%Y')\n",
    "plt.gca().xaxis.set_major_formatter(date_format)\n",
    "plt.gca().xaxis.set_major_locator(mdates.YearLocator())\n",
    "\n",
    "# Titulo del grafico\n",
    "plt.title(f\"Variacion de la proporción de sonidos registrados de motores por volumen de tráfico en cada borough entre entre {data_v1['date'].dt.year.min()} y {data_v1['date'].dt.year.max()}\")\n",
    "g.set(yscale=\"log\")\n",
    "\n",
    "# Etiquetas de ejes\n",
    "plt.xlabel('Año')\n",
    "plt.ylabel('ratio de sonidos registrados por volumen de tráfico')\n",
    "\n",
    "plt.show()"
   ]
  },
  {
   "cell_type": "code",
   "execution_count": null,
   "metadata": {},
   "outputs": [],
   "source": [
    "# Seleccionar las columnas relevantes del dataframe\n",
    "rat_cols = ['rat_soundeng_voltraf', 'rat_alertsig_voltraf','rat_totalsoun_voltraf', 'borough_name', 'date']\n",
    "\n",
    "# Definir figura y tamaño\n",
    "plt.figure(figsize=(18, 6))\n",
    "\n",
    "# Graficar datos\n",
    "g = sns.lineplot(data=data_v1[rat_cols], x='date', y='rat_alertsig_voltraf', hue='borough_name')\n",
    "\n",
    "# Formatear eje X\n",
    "date_format = mdates.DateFormatter('%Y')\n",
    "plt.gca().xaxis.set_major_formatter(date_format)\n",
    "plt.gca().xaxis.set_major_locator(mdates.YearLocator())\n",
    "\n",
    "# Titulo del grafico\n",
    "plt.title(f\"Variacion de la proporción de sonidos registrados de señal de alerta por volumen de tráfico en cada borough entre entre {data_v1['date'].dt.year.min()} y {data_v1['date'].dt.year.max()}\")\n",
    "g.set(yscale=\"log\")\n",
    "# Etiquetas de ejes\n",
    "plt.xlabel('Año')\n",
    "plt.ylabel('ratio de sonidos registrados por volumen de tráfico')\n",
    "\n",
    "plt.show()"
   ]
  },
  {
   "cell_type": "code",
   "execution_count": null,
   "metadata": {},
   "outputs": [],
   "source": [
    "# Seleccionar las columnas relevantes del dataframe\n",
    "rat_cols = ['rat_soundeng_voltraf', 'rat_alertsig_voltraf','rat_totalsoun_voltraf', 'borough_name', 'date']\n",
    "\n",
    "# Definir figura y tamaño\n",
    "plt.figure(figsize=(18, 6))\n",
    "\n",
    "# Graficar datos\n",
    "g = sns.lineplot(data=data_v1[rat_cols], x='date', y='rat_totalsoun_voltraf', hue='borough_name')\n",
    "\n",
    "# Formatear eje X\n",
    "date_format = mdates.DateFormatter('%Y')\n",
    "plt.gca().xaxis.set_major_formatter(date_format)\n",
    "plt.gca().xaxis.set_major_locator(mdates.YearLocator())\n",
    "\n",
    "# Titulo del grafico\n",
    "plt.title(f\"Variacion de la proporción del total de sonidos registrados por volumen de tráfico en cada borough entre entre {data_v1['date'].dt.year.min()} y {data_v1['date'].dt.year.max()}\")\n",
    "g.set(yscale=\"log\")\n",
    "\n",
    "# Etiquetas de ejes\n",
    "plt.xlabel('Año')\n",
    "plt.ylabel('Ratio del total de sonidos registrados por volumen de tráfico')\n",
    "\n",
    "plt.show()"
   ]
  },
  {
   "attachments": {},
   "cell_type": "markdown",
   "metadata": {},
   "source": [
    "### 5.2. Cálculo del KPI"
   ]
  },
  {
   "cell_type": "code",
   "execution_count": null,
   "metadata": {},
   "outputs": [],
   "source": [
    "def kpi_noise_pollution_reduction(data, electric_vehs, borough):\n",
    "    df = data.groupby(['year','month','day','borough_name'])[['volume','engine_sounds','alert_signal_sounds','total_sounds']].mean()\n",
    "    df['prop_engsound_traffic'] = df['engine_sounds'] / df['volume']\n",
    "    df['reduction_pct'] = 1 - ((df['total_sounds'] - (electric_vehs * df['prop_engsound_traffic'])) / df['total_sounds'])\n",
    "    df = df.reset_index()\n",
    "    df = df[df['borough_name'] == borough]\n",
    "    avg_daily_reduction_pct = df['reduction_pct'].mean() * 100\n",
    "    return {\n",
    "        \"avg_daily_reduction_pct\": avg_daily_reduction_pct,\n",
    "        \"electric_vehs\": electric_vehs,\n",
    "        \"borough_name\": borough\n",
    "    }"
   ]
  },
  {
   "cell_type": "code",
   "execution_count": null,
   "metadata": {},
   "outputs": [],
   "source": [
    "kpi_noise_pollution_reduction(data_v0, 10000, 'queens')\n",
    "kpi_noise_pollution_reduction(data_v0, 100, 'brooklyn')\n",
    "kpi_noise_pollution_reduction(data_v0, 100, 'manhattan')"
   ]
  }
 ],
 "metadata": {
  "kernelspec": {
   "display_name": "env",
   "language": "python",
   "name": "python3"
  },
  "language_info": {
   "codemirror_mode": {
    "name": "ipython",
    "version": 3
   },
   "file_extension": ".py",
   "mimetype": "text/x-python",
   "name": "python",
   "nbconvert_exporter": "python",
   "pygments_lexer": "ipython3",
   "version": "3.7.9"
  },
  "orig_nbformat": 4
 },
 "nbformat": 4,
 "nbformat_minor": 2
}
