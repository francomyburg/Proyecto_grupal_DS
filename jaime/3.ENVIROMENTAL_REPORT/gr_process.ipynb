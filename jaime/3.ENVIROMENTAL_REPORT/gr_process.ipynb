{
 "cells": [
  {
   "cell_type": "code",
   "execution_count": 1,
   "id": "c0ef9b01",
   "metadata": {},
   "outputs": [],
   "source": [
    "import pandas as pd\n",
    "import datetime as dt\n",
    "import gradio as gr\n"
   ]
  },
  {
   "cell_type": "code",
   "execution_count": 2,
   "id": "d6d1fc76",
   "metadata": {},
   "outputs": [],
   "source": [
    "import warnings \n",
    "pd.options.mode.chained_assignment = None # se desactiva advertencias de pandas por la edición_sobrescritura"
   ]
  },
  {
   "cell_type": "code",
   "execution_count": 3,
   "id": "74bedf3a",
   "metadata": {},
   "outputs": [],
   "source": [
    "vehicular_volume=pd.read_csv(\"../data/finale_dataset/vehicular_volume.csv\")\n",
    "air_quality=pd.read_csv(\"../data/finale_dataset/air_quality.csv\")"
   ]
  },
  {
   "cell_type": "code",
   "execution_count": 4,
   "id": "29fffb47",
   "metadata": {},
   "outputs": [
    {
     "data": {
      "text/html": [
       "<div>\n",
       "<style scoped>\n",
       "    .dataframe tbody tr th:only-of-type {\n",
       "        vertical-align: middle;\n",
       "    }\n",
       "\n",
       "    .dataframe tbody tr th {\n",
       "        vertical-align: top;\n",
       "    }\n",
       "\n",
       "    .dataframe thead th {\n",
       "        text-align: right;\n",
       "    }\n",
       "</style>\n",
       "<table border=\"1\" class=\"dataframe\">\n",
       "  <thead>\n",
       "    <tr style=\"text-align: right;\">\n",
       "      <th></th>\n",
       "      <th>borough</th>\n",
       "      <th>pm 2.5</th>\n",
       "    </tr>\n",
       "  </thead>\n",
       "  <tbody>\n",
       "    <tr>\n",
       "      <th>0</th>\n",
       "      <td>brooklyn</td>\n",
       "      <td>9.263040</td>\n",
       "    </tr>\n",
       "    <tr>\n",
       "      <th>1</th>\n",
       "      <td>manhattan</td>\n",
       "      <td>10.874167</td>\n",
       "    </tr>\n",
       "    <tr>\n",
       "      <th>2</th>\n",
       "      <td>queens</td>\n",
       "      <td>8.929167</td>\n",
       "    </tr>\n",
       "    <tr>\n",
       "      <th>3</th>\n",
       "      <td>staten_island</td>\n",
       "      <td>8.486759</td>\n",
       "    </tr>\n",
       "    <tr>\n",
       "      <th>4</th>\n",
       "      <td>the_bronx</td>\n",
       "      <td>9.709606</td>\n",
       "    </tr>\n",
       "  </tbody>\n",
       "</table>\n",
       "</div>"
      ],
      "text/plain": [
       "         borough     pm 2.5\n",
       "0       brooklyn   9.263040\n",
       "1      manhattan  10.874167\n",
       "2         queens   8.929167\n",
       "3  staten_island   8.486759\n",
       "4      the_bronx   9.709606"
      ]
     },
     "execution_count": 4,
     "metadata": {},
     "output_type": "execute_result"
    }
   ],
   "source": [
    "air_quality.groupby(['borough'])['pm 2.5'].mean().reset_index()"
   ]
  },
  {
   "cell_type": "code",
   "execution_count": 5,
   "id": "26369e79",
   "metadata": {},
   "outputs": [
    {
     "data": {
      "text/html": [
       "<div>\n",
       "<style scoped>\n",
       "    .dataframe tbody tr th:only-of-type {\n",
       "        vertical-align: middle;\n",
       "    }\n",
       "\n",
       "    .dataframe tbody tr th {\n",
       "        vertical-align: top;\n",
       "    }\n",
       "\n",
       "    .dataframe thead th {\n",
       "        text-align: right;\n",
       "    }\n",
       "</style>\n",
       "<table border=\"1\" class=\"dataframe\">\n",
       "  <thead>\n",
       "    <tr style=\"text-align: right;\">\n",
       "      <th></th>\n",
       "      <th>borough</th>\n",
       "      <th>volume</th>\n",
       "    </tr>\n",
       "  </thead>\n",
       "  <tbody>\n",
       "    <tr>\n",
       "      <th>0</th>\n",
       "      <td>brooklyn</td>\n",
       "      <td>96.463480</td>\n",
       "    </tr>\n",
       "    <tr>\n",
       "      <th>1</th>\n",
       "      <td>manhattan</td>\n",
       "      <td>134.862131</td>\n",
       "    </tr>\n",
       "    <tr>\n",
       "      <th>2</th>\n",
       "      <td>queens</td>\n",
       "      <td>98.695875</td>\n",
       "    </tr>\n",
       "    <tr>\n",
       "      <th>3</th>\n",
       "      <td>staten_island</td>\n",
       "      <td>83.076206</td>\n",
       "    </tr>\n",
       "    <tr>\n",
       "      <th>4</th>\n",
       "      <td>the_bronx</td>\n",
       "      <td>132.184889</td>\n",
       "    </tr>\n",
       "  </tbody>\n",
       "</table>\n",
       "</div>"
      ],
      "text/plain": [
       "         borough      volume\n",
       "0       brooklyn   96.463480\n",
       "1      manhattan  134.862131\n",
       "2         queens   98.695875\n",
       "3  staten_island   83.076206\n",
       "4      the_bronx  132.184889"
      ]
     },
     "execution_count": 5,
     "metadata": {},
     "output_type": "execute_result"
    }
   ],
   "source": [
    "vehicular_volume=vehicular_volume[['date','borough','volume']]\n",
    "vehicular_volume['date']=pd.to_datetime(vehicular_volume['date']).dt.year\n",
    "vehicular_volume=vehicular_volume.groupby(['borough']).volume.mean().reset_index()\n",
    "vehicular_volume"
   ]
  },
  {
   "cell_type": "code",
   "execution_count": 6,
   "id": "2b874a7e",
   "metadata": {},
   "outputs": [],
   "source": [
    "def kpi_brooklyn(carros):\n",
    "    \n",
    "    volume_brooklyn = 97 * 4 * 24\n",
    "    pm_brooklyn = 9.3\n",
    "    OMS = 5\n",
    "    meta_OMS_brooklyn = (OMS - pm_brooklyn)/OMS\n",
    "    pm_corre_brooklyn = (carros * (pm_brooklyn * 0.35)) / volume_brooklyn\n",
    "    disminuye_brooklyn = pm_brooklyn - pm_corre_brooklyn\n",
    "    metacorre_brooklyn = (OMS - disminuye_brooklyn) / OMS\n",
    "    pctje_brooklyn = (metacorre_brooklyn - meta_OMS_brooklyn) / meta_OMS_brooklyn\n",
    "    brooklyn=round(-100*pctje_brooklyn,2)\n",
    "    \n",
    "    return brooklyn\n",
    "\n",
    "def kpi_manhattan(carros):\n",
    "    volume_manhattan = 135 * 4 * 24\n",
    "    pm_manhattan = 11\n",
    "    OMS = 5\n",
    "    meta_OMS_manhattan = (OMS - pm_manhattan) / OMS\n",
    "    pm_corre_manhattan = (carros * (pm_manhattan * 0.35)) / volume_manhattan\n",
    "    disminuye_manhattan = pm_manhattan - pm_corre_manhattan\n",
    "    metacorre_manhattan = (OMS - disminuye_manhattan) / OMS\n",
    "    pctje_manhattan = (metacorre_manhattan - meta_OMS_manhattan) / meta_OMS_manhattan\n",
    "    manhattan=round(-100*pctje_manhattan,2)\n",
    "    \n",
    "    return manhattan\n",
    "\n",
    "def kpi_queen(carros):\n",
    "    volume_queen = 99 * 4 * 24\n",
    "    pm_queen = 9\n",
    "    OMS = 5\n",
    "    meta_OMS_queen = (OMS - pm_queen) / OMS\n",
    "    pm_corre_queen = (carros * (pm_queen * 0.35)) / volume_queen\n",
    "    disminuye_queen = pm_queen - pm_corre_queen\n",
    "    metacorre_queen = (OMS - disminuye_queen) / OMS\n",
    "    pctje_queen = (metacorre_queen - meta_OMS_queen) / meta_OMS_queen\n",
    "    queen=round(-100*pctje_queen,2)\n",
    "    \n",
    "    return queen\n",
    "\n",
    "def kpi_staten_island(carros):\n",
    "    volume_staten_island = 83 * 4 * 24\n",
    "    pm_staten_island = 8\n",
    "    OMS = 5\n",
    "    meta_OMS_staten_island = (OMS - pm_staten_island) / OMS\n",
    "    pm_corre_staten_island = (carros * (pm_staten_island * 0.35)) / volume_staten_island\n",
    "    disminuye_staten_island = pm_staten_island - pm_corre_staten_island\n",
    "    metacorre_staten_island = (OMS - disminuye_staten_island) /OMS\n",
    "    pctje_staten_island = (metacorre_staten_island - meta_OMS_staten_island) / meta_OMS_staten_island\n",
    "    staten_island=round(-100*pctje_staten_island,2)\n",
    "    \n",
    "    return staten_island\n",
    "\n",
    "def kpi_the_bronx(carros):\n",
    "    volume_the_bronx = 132 * 4 * 24\n",
    "    pm_the_bronx = 9.7\n",
    "    OMS = 5\n",
    "    meta_OMS_the_bronx = (OMS - pm_the_bronx) / OMS\n",
    "    pm_corre_the_bronx = (carros * (pm_the_bronx * 0.35)) / volume_the_bronx\n",
    "    disminuye_the_bronx = pm_the_bronx - pm_corre_the_bronx\n",
    "    metacorre_the_bronx = (OMS - disminuye_the_bronx) /OMS\n",
    "    pctje_the_bronx = (metacorre_the_bronx - meta_OMS_the_bronx) / meta_OMS_the_bronx\n",
    "    the_bronx= round(-100*pctje_the_bronx,2)\n",
    "    \n",
    "    return the_bronx\n",
    "\n",
    "def calcular_kpis(carros):\n",
    "    kpi_b = kpi_brooklyn(carros)\n",
    "    kpi_m = kpi_manhattan(carros)\n",
    "    kpi_q = kpi_queen(carros)\n",
    "    kpi_s = kpi_staten_island(carros)\n",
    "    kpi_bx= kpi_the_bronx(carros)\n",
    "    \n",
    "    indicador=f\" {int(carros)} carros eléctricos generan un % de avance hacia la meta establecida por la OMS de: |Brooklyn {kpi_b}% | Manhattan {kpi_m}% |Quenns {kpi_q}% | Staten Islands {kpi_s}% |Bronx {kpi_bx}% |\"\n",
    "    return indicador"
   ]
  },
  {
   "cell_type": "code",
   "execution_count": 7,
   "id": "5cbba7f6",
   "metadata": {},
   "outputs": [
    {
     "data": {
      "text/plain": [
       "' 3 carros eléctricos generan un % de avance hacia la meta establecida por la OMS de: |Brooklyn 0.02% | Manhattan 0.01% |Quenns 0.02% | Staten Islands 0.04% |Bronx 0.02% |'"
      ]
     },
     "execution_count": 7,
     "metadata": {},
     "output_type": "execute_result"
    }
   ],
   "source": [
    "\n",
    "calcular_kpis(3)"
   ]
  },
  {
   "cell_type": "code",
   "execution_count": 8,
   "id": "bd341565",
   "metadata": {},
   "outputs": [
    {
     "name": "stdout",
     "output_type": "stream",
     "text": [
      "Running on local URL:  http://127.0.0.1:7860\n",
      "Running on public URL: https://89ae3c5539eb70f80b.gradio.live\n",
      "\n",
      "This share link expires in 72 hours. For free permanent hosting and GPU upgrades (NEW!), check out Spaces: https://huggingface.co/spaces\n"
     ]
    },
    {
     "data": {
      "text/html": [
       "<div><iframe src=\"https://89ae3c5539eb70f80b.gradio.live\" width=\"100%\" height=\"500\" allow=\"autoplay; camera; microphone; clipboard-read; clipboard-write;\" frameborder=\"0\" allowfullscreen></iframe></div>"
      ],
      "text/plain": [
       "<IPython.core.display.HTML object>"
      ]
     },
     "metadata": {},
     "output_type": "display_data"
    },
    {
     "data": {
      "text/plain": []
     },
     "execution_count": 8,
     "metadata": {},
     "output_type": "execute_result"
    }
   ],
   "source": [
    "import gradio as gr\n",
    "\n",
    "title = \"REPORTE MEDIOAMBIENTAL\"\n",
    "\n",
    "table_html = \"\"\"\n",
    "   <table>\n",
    "  <tr>\n",
    "    <th>borough</th>\n",
    "    <th>PM</th>\n",
    "    <th>Meta</th>\n",
    "    <th>% Disminución para el objetivo</th>\n",
    "  </tr>\n",
    "  <tr>\n",
    "    <td>brooklyn</td>\n",
    "    <td>9,3</td>\n",
    "    <td>5</td>\n",
    "    <td>-85</td>\n",
    "  </tr>\n",
    "  <tr>\n",
    "    <td>manhattan</td>\n",
    "    <td>10,9</td>\n",
    "    <td>5</td>\n",
    "    <td>-117</td>\n",
    "  </tr>\n",
    "  <tr>\n",
    "    <td>queens</td>\n",
    "    <td>8,9</td>\n",
    "    <td>5</td>\n",
    "    <td>-79</td>\n",
    "  </tr>\n",
    "  <tr>\n",
    "    <td>staten_island</td>\n",
    "    <td>8,5</td>\n",
    "    <td>5</td>\n",
    "    <td>-70</td>\n",
    "  </tr>\n",
    "  <tr>\n",
    "    <td>the_bronx</td>\n",
    "    <td>9,7</td>\n",
    "    <td>5</td>\n",
    "    <td>-94</td>\n",
    "  </tr>\n",
    "</table>\n",
    "\"\"\"\n",
    "\n",
    "with gr.Blocks(title=title) as demo:\n",
    "    text = gr.components.HTML(\"\"\"\n",
    "        <h1>Indicadores Ambientales</h1>\n",
    "        <h2>Contaminacón al aire</h2>\n",
    "        <p> La OMS ha establecido un límite de 5µg/cm3 de PM 2.5 Promedio al año. Las ciudades  deberán adoptar políticas y estrategias\n",
    "        para alcanzar esta meta. Los Boroughs de NYC cuentan con la siguiente distribución de material particulado. <br>\n",
    "        \n",
    "        \"\"\" + table_html + \"\"\"\n",
    "        \n",
    "       Se genera un indicador clave de rendimiento que estipula el Porcentaje de Avance a la meta proyectada por la OMS en función \n",
    "       al número de vehículos eléctricos en una flota de automóviles que transporten pasajeros en un año.<br>\n",
    "\n",
    "       <b> KPI: Valor Porcentual de Avance a Meta OMS por # de Autos Eléctricos </b>\n",
    "        \n",
    "        </p>\n",
    "    \"\"\")\n",
    "    \n",
    "    vehiculos_electricos = gr.Number(label=\"Numero de Vehículos Electricos en la Flota\")\n",
    "    calcular_btn = gr.Button(\"% Avance a la Meta per # Vehículos Eléctricos:\")\n",
    "    indicador = gr.Textbox(label = \"Indicadores:\")\n",
    "    \n",
    "    calcular_btn.click(fn=calcular_kpis, inputs=[vehiculos_electricos], outputs=[indicador])\n",
    "    \n",
    "\n",
    "demo.launch(share=True)\n",
    "\n"
   ]
  }
 ],
 "metadata": {
  "kernelspec": {
   "display_name": "Python 3 (ipykernel)",
   "language": "python",
   "name": "python3"
  },
  "language_info": {
   "codemirror_mode": {
    "name": "ipython",
    "version": 3
   },
   "file_extension": ".py",
   "mimetype": "text/x-python",
   "name": "python",
   "nbconvert_exporter": "python",
   "pygments_lexer": "ipython3",
   "version": "3.9.13"
  }
 },
 "nbformat": 4,
 "nbformat_minor": 5
}
