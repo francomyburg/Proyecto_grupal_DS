{
 "cells": [
  {
   "cell_type": "markdown",
   "metadata": {},
   "source": [
    "# Análisis económico de diciembre 2022"
   ]
  },
  {
   "cell_type": "markdown",
   "metadata": {},
   "source": [
    "## Descarga"
   ]
  },
  {
   "cell_type": "code",
   "execution_count": 1,
   "metadata": {},
   "outputs": [],
   "source": [
    "#Importar librerías.\n",
    "import numpy as np\n",
    "import pandas as pd\n",
    "from limpiar import columnas_amarillo, columnas_verdes, columnas_fhv, dt_amarillo, dt_verdes, dt_fhv, nulos_amarillo, nulos_verdes, nulos_fhv\n",
    "import matplotlib.pyplot as plt\n",
    "import seaborn as sns\n",
    "from datetime import datetime"
   ]
  },
  {
   "cell_type": "code",
   "execution_count": 2,
   "metadata": {},
   "outputs": [],
   "source": [
    "#Diccionarios\n",
    "d_amarillo = pd.read_pickle('../data/tlc_amarillos')\n",
    "d_verde = pd.read_pickle('../data/tlc_verdes')\n",
    "d_fhv = pd.read_pickle('../data/tlc_fhv')"
   ]
  },
  {
   "cell_type": "code",
   "execution_count": 3,
   "metadata": {},
   "outputs": [
    {
     "ename": "ArrowMemoryError",
     "evalue": "malloc of size 471980352 failed",
     "output_type": "error",
     "traceback": [
      "\u001b[1;31m---------------------------------------------------------------------------\u001b[0m",
      "\u001b[1;31mArrowMemoryError\u001b[0m                          Traceback (most recent call last)",
      "Cell \u001b[1;32mIn [3], line 4\u001b[0m\n\u001b[0;32m      2\u001b[0m exec(d_amarillo[\u001b[38;5;124m'\u001b[39m\u001b[38;5;124myellow_2022_13\u001b[39m\u001b[38;5;124m'\u001b[39m])\n\u001b[0;32m      3\u001b[0m exec(d_verde[\u001b[38;5;124m'\u001b[39m\u001b[38;5;124mgreen_2022_13\u001b[39m\u001b[38;5;124m'\u001b[39m])\n\u001b[1;32m----> 4\u001b[0m \u001b[43mexec\u001b[49m\u001b[43m(\u001b[49m\u001b[43md_fhv\u001b[49m\u001b[43m[\u001b[49m\u001b[38;5;124;43m'\u001b[39;49m\u001b[38;5;124;43mfhv_2022_13\u001b[39;49m\u001b[38;5;124;43m'\u001b[39;49m\u001b[43m]\u001b[49m\u001b[43m)\u001b[49m\n",
      "File \u001b[1;32m<string>:1\u001b[0m\n",
      "File \u001b[1;32mC:\\ProgramData\\Anaconda3\\lib\\site-packages\\pandas\\io\\parquet.py:493\u001b[0m, in \u001b[0;36mread_parquet\u001b[1;34m(path, engine, columns, storage_options, use_nullable_dtypes, **kwargs)\u001b[0m\n\u001b[0;32m    446\u001b[0m \u001b[38;5;124;03m\"\"\"\u001b[39;00m\n\u001b[0;32m    447\u001b[0m \u001b[38;5;124;03mLoad a parquet object from the file path, returning a DataFrame.\u001b[39;00m\n\u001b[0;32m    448\u001b[0m \n\u001b[1;32m   (...)\u001b[0m\n\u001b[0;32m    489\u001b[0m \u001b[38;5;124;03mDataFrame\u001b[39;00m\n\u001b[0;32m    490\u001b[0m \u001b[38;5;124;03m\"\"\"\u001b[39;00m\n\u001b[0;32m    491\u001b[0m impl \u001b[38;5;241m=\u001b[39m get_engine(engine)\n\u001b[1;32m--> 493\u001b[0m \u001b[38;5;28;01mreturn\u001b[39;00m impl\u001b[38;5;241m.\u001b[39mread(\n\u001b[0;32m    494\u001b[0m     path,\n\u001b[0;32m    495\u001b[0m     columns\u001b[38;5;241m=\u001b[39mcolumns,\n\u001b[0;32m    496\u001b[0m     storage_options\u001b[38;5;241m=\u001b[39mstorage_options,\n\u001b[0;32m    497\u001b[0m     use_nullable_dtypes\u001b[38;5;241m=\u001b[39muse_nullable_dtypes,\n\u001b[0;32m    498\u001b[0m     \u001b[38;5;241m*\u001b[39m\u001b[38;5;241m*\u001b[39mkwargs,\n\u001b[0;32m    499\u001b[0m )\n",
      "File \u001b[1;32mC:\\ProgramData\\Anaconda3\\lib\\site-packages\\pandas\\io\\parquet.py:240\u001b[0m, in \u001b[0;36mPyArrowImpl.read\u001b[1;34m(self, path, columns, use_nullable_dtypes, storage_options, **kwargs)\u001b[0m\n\u001b[0;32m    233\u001b[0m path_or_handle, handles, kwargs[\u001b[38;5;124m\"\u001b[39m\u001b[38;5;124mfilesystem\u001b[39m\u001b[38;5;124m\"\u001b[39m] \u001b[38;5;241m=\u001b[39m _get_path_or_handle(\n\u001b[0;32m    234\u001b[0m     path,\n\u001b[0;32m    235\u001b[0m     kwargs\u001b[38;5;241m.\u001b[39mpop(\u001b[38;5;124m\"\u001b[39m\u001b[38;5;124mfilesystem\u001b[39m\u001b[38;5;124m\"\u001b[39m, \u001b[38;5;28;01mNone\u001b[39;00m),\n\u001b[0;32m    236\u001b[0m     storage_options\u001b[38;5;241m=\u001b[39mstorage_options,\n\u001b[0;32m    237\u001b[0m     mode\u001b[38;5;241m=\u001b[39m\u001b[38;5;124m\"\u001b[39m\u001b[38;5;124mrb\u001b[39m\u001b[38;5;124m\"\u001b[39m,\n\u001b[0;32m    238\u001b[0m )\n\u001b[0;32m    239\u001b[0m \u001b[38;5;28;01mtry\u001b[39;00m:\n\u001b[1;32m--> 240\u001b[0m     result \u001b[38;5;241m=\u001b[39m \u001b[38;5;28mself\u001b[39m\u001b[38;5;241m.\u001b[39mapi\u001b[38;5;241m.\u001b[39mparquet\u001b[38;5;241m.\u001b[39mread_table(\n\u001b[0;32m    241\u001b[0m         path_or_handle, columns\u001b[38;5;241m=\u001b[39mcolumns, \u001b[38;5;241m*\u001b[39m\u001b[38;5;241m*\u001b[39mkwargs\n\u001b[0;32m    242\u001b[0m     )\u001b[38;5;241m.\u001b[39mto_pandas(\u001b[38;5;241m*\u001b[39m\u001b[38;5;241m*\u001b[39mto_pandas_kwargs)\n\u001b[0;32m    243\u001b[0m     \u001b[38;5;28;01mif\u001b[39;00m manager \u001b[38;5;241m==\u001b[39m \u001b[38;5;124m\"\u001b[39m\u001b[38;5;124marray\u001b[39m\u001b[38;5;124m\"\u001b[39m:\n\u001b[0;32m    244\u001b[0m         result \u001b[38;5;241m=\u001b[39m result\u001b[38;5;241m.\u001b[39m_as_manager(\u001b[38;5;124m\"\u001b[39m\u001b[38;5;124marray\u001b[39m\u001b[38;5;124m\"\u001b[39m, copy\u001b[38;5;241m=\u001b[39m\u001b[38;5;28;01mFalse\u001b[39;00m)\n",
      "File \u001b[1;32m~\\AppData\\Roaming\\Python\\Python39\\site-packages\\pyarrow\\array.pxi:830\u001b[0m, in \u001b[0;36mpyarrow.lib._PandasConvertible.to_pandas\u001b[1;34m()\u001b[0m\n",
      "File \u001b[1;32m~\\AppData\\Roaming\\Python\\Python39\\site-packages\\pyarrow\\table.pxi:3990\u001b[0m, in \u001b[0;36mpyarrow.lib.Table._to_pandas\u001b[1;34m()\u001b[0m\n",
      "File \u001b[1;32m~\\AppData\\Roaming\\Python\\Python39\\site-packages\\pyarrow\\pandas_compat.py:820\u001b[0m, in \u001b[0;36mtable_to_blockmanager\u001b[1;34m(options, table, categories, ignore_metadata, types_mapper)\u001b[0m\n\u001b[0;32m    818\u001b[0m _check_data_column_metadata_consistency(all_columns)\n\u001b[0;32m    819\u001b[0m columns \u001b[38;5;241m=\u001b[39m _deserialize_column_index(table, all_columns, column_indexes)\n\u001b[1;32m--> 820\u001b[0m blocks \u001b[38;5;241m=\u001b[39m \u001b[43m_table_to_blocks\u001b[49m\u001b[43m(\u001b[49m\u001b[43moptions\u001b[49m\u001b[43m,\u001b[49m\u001b[43m \u001b[49m\u001b[43mtable\u001b[49m\u001b[43m,\u001b[49m\u001b[43m \u001b[49m\u001b[43mcategories\u001b[49m\u001b[43m,\u001b[49m\u001b[43m \u001b[49m\u001b[43mext_columns_dtypes\u001b[49m\u001b[43m)\u001b[49m\n\u001b[0;32m    822\u001b[0m axes \u001b[38;5;241m=\u001b[39m [columns, index]\n\u001b[0;32m    823\u001b[0m \u001b[38;5;28;01mreturn\u001b[39;00m BlockManager(blocks, axes)\n",
      "File \u001b[1;32m~\\AppData\\Roaming\\Python\\Python39\\site-packages\\pyarrow\\pandas_compat.py:1169\u001b[0m, in \u001b[0;36m_table_to_blocks\u001b[1;34m(options, block_table, categories, extension_columns)\u001b[0m\n\u001b[0;32m   1164\u001b[0m \u001b[38;5;28;01mdef\u001b[39;00m \u001b[38;5;21m_table_to_blocks\u001b[39m(options, block_table, categories, extension_columns):\n\u001b[0;32m   1165\u001b[0m     \u001b[38;5;66;03m# Part of table_to_blockmanager\u001b[39;00m\n\u001b[0;32m   1166\u001b[0m \n\u001b[0;32m   1167\u001b[0m     \u001b[38;5;66;03m# Convert an arrow table to Block from the internal pandas API\u001b[39;00m\n\u001b[0;32m   1168\u001b[0m     columns \u001b[38;5;241m=\u001b[39m block_table\u001b[38;5;241m.\u001b[39mcolumn_names\n\u001b[1;32m-> 1169\u001b[0m     result \u001b[38;5;241m=\u001b[39m \u001b[43mpa\u001b[49m\u001b[38;5;241;43m.\u001b[39;49m\u001b[43mlib\u001b[49m\u001b[38;5;241;43m.\u001b[39;49m\u001b[43mtable_to_blocks\u001b[49m\u001b[43m(\u001b[49m\u001b[43moptions\u001b[49m\u001b[43m,\u001b[49m\u001b[43m \u001b[49m\u001b[43mblock_table\u001b[49m\u001b[43m,\u001b[49m\u001b[43m \u001b[49m\u001b[43mcategories\u001b[49m\u001b[43m,\u001b[49m\n\u001b[0;32m   1170\u001b[0m \u001b[43m                                    \u001b[49m\u001b[38;5;28;43mlist\u001b[39;49m\u001b[43m(\u001b[49m\u001b[43mextension_columns\u001b[49m\u001b[38;5;241;43m.\u001b[39;49m\u001b[43mkeys\u001b[49m\u001b[43m(\u001b[49m\u001b[43m)\u001b[49m\u001b[43m)\u001b[49m\u001b[43m)\u001b[49m\n\u001b[0;32m   1171\u001b[0m     \u001b[38;5;28;01mreturn\u001b[39;00m [_reconstruct_block(item, columns, extension_columns)\n\u001b[0;32m   1172\u001b[0m             \u001b[38;5;28;01mfor\u001b[39;00m item \u001b[38;5;129;01min\u001b[39;00m result]\n",
      "File \u001b[1;32m~\\AppData\\Roaming\\Python\\Python39\\site-packages\\pyarrow\\table.pxi:2646\u001b[0m, in \u001b[0;36mpyarrow.lib.table_to_blocks\u001b[1;34m()\u001b[0m\n",
      "File \u001b[1;32m~\\AppData\\Roaming\\Python\\Python39\\site-packages\\pyarrow\\error.pxi:117\u001b[0m, in \u001b[0;36mpyarrow.lib.check_status\u001b[1;34m()\u001b[0m\n",
      "\u001b[1;31mArrowMemoryError\u001b[0m: malloc of size 471980352 failed"
     ]
    }
   ],
   "source": [
    "#Descargar tablas de Diciembre de 2022.\n",
    "exec(d_amarillo['yellow_2022_13'])\n",
    "exec(d_verde['green_2022_13'])\n",
    "exec(d_fhv['fhv_2022_13'])"
   ]
  },
  {
   "cell_type": "code",
   "execution_count": null,
   "metadata": {},
   "outputs": [],
   "source": [
    "#Limpiar taxis amarillos.\n",
    "columnas_amarillo(yellow_2022_13)\n",
    "dt_amarillo(yellow_2022_13)\n",
    "nulos_amarillo(yellow_2022_13)"
   ]
  },
  {
   "cell_type": "code",
   "execution_count": null,
   "metadata": {},
   "outputs": [],
   "source": [
    "#Limpiar taxis verdes.\n",
    "columnas_verdes(green_2022_13)\n",
    "dt_verdes(green_2022_13)\n",
    "nulos_verdes(green_2022_13)"
   ]
  },
  {
   "cell_type": "code",
   "execution_count": null,
   "metadata": {},
   "outputs": [],
   "source": [
    "#Limpiar fhv.\n",
    "columnas_fhv(fhv_2022_13)\n",
    "dt_fhv(fhv_2022_13)\n",
    "nulos_fhv(fhv_2022_13)"
   ]
  },
  {
   "cell_type": "markdown",
   "metadata": {},
   "source": [
    "## 1. Tarifa por distancia."
   ]
  },
  {
   "cell_type": "code",
   "execution_count": null,
   "metadata": {},
   "outputs": [],
   "source": [
    "#Tarifa por distancia base sin cargos adicionales.\n",
    "yellow_2022_13['rate_per_mile'] = yellow_2022_13['fare_amount']/yellow_2022_13['trip_distance']\n",
    "green_2022_13['rate_per_mile'] = yellow_2022_13['fare_amount']/yellow_2022_13['trip_distance']\n",
    "fhv_2022_13['rate_per_mile'] = fhv_2022_13['base_passenger_fare']/fhv_2022_13['trip_miles']"
   ]
  },
  {
   "cell_type": "code",
   "execution_count": null,
   "metadata": {},
   "outputs": [],
   "source": [
    "sns.set_style(\"darkgrid\", {\"grid.color\": \"0.6\", \"grid.linestyle\": \":\"})\n",
    "\n",
    "fig, ax = plt.subplots(3, 1, figsize = (18, 10))\n",
    "sns.lineplot(\n",
    "    x = 'pickup_day',\n",
    "    y = 'rate_per_mile',\n",
    "    data = yellow_2022_13,\n",
    "    ax = ax[0],\n",
    "    markers = True\n",
    ")\n",
    "ax[0].set_xlabel('Fecha')\n",
    "ax[0].set_ylabel('Tasa(USD) por milla')\n",
    "ax[0].set_title('Tasa para taxis amarillos')\n",
    "\n",
    "sns.lineplot(\n",
    "    x = 'pickup_day',\n",
    "    y = 'rate_per_mile',\n",
    "    data = green_2022_13,\n",
    "    ax = ax[1],\n",
    "    markers = True\n",
    ")\n",
    "ax[1].set_xlabel('Fecha')\n",
    "ax[1].set_ylabel('Tasa(USD) por milla')\n",
    "ax[1].set_title('Tasa para taxis verdes')\n",
    "\n",
    "sns.lineplot(\n",
    "    x = 'pickup_day',\n",
    "    y = 'rate_per_mile',\n",
    "    data = fhv_2022_13,\n",
    "    ax = ax[2],\n",
    "    markers = True\n",
    ")\n",
    "ax[2].set_xlabel('Fecha')\n",
    "ax[2].set_ylabel('Tasa(USD) por milla')\n",
    "ax[2].set_title('Tasa para vehículos de renta')\n",
    "\n",
    "plt.show()"
   ]
  },
  {
   "cell_type": "code",
   "execution_count": null,
   "metadata": {},
   "outputs": [],
   "source": [
    "#Tarifa por distancia total.\n",
    "yellow_2022_13['total_per_mile'] = yellow_2022_13['total_amount']/yellow_2022_13['trip_distance']\n",
    "green_2022_13['total_per_mile'] = yellow_2022_13['total_amount']/yellow_2022_13['trip_distance']\n",
    "fhv_2022_13['total_amount'] = fhv_2022_13['base_passenger_fare'] + fhv_2022_13['tolls'] + fhv_2022_13['bcf'] + fhv_2022_13['sales_tax'] + fhv_2022_13['congestion_surcharge'] + fhv_2022_13['airport_fee'] + fhv_2022_13['tips']"
   ]
  },
  {
   "cell_type": "code",
   "execution_count": null,
   "metadata": {},
   "outputs": [],
   "source": [
    "fhv_2022_13['total_per_mile'] = fhv_2022_13['total_amount']/fhv_2022_13['trip_miles']"
   ]
  },
  {
   "cell_type": "code",
   "execution_count": null,
   "metadata": {},
   "outputs": [],
   "source": [
    "sns.set_style(\"darkgrid\", {\"grid.color\": \"0.6\", \"grid.linestyle\": \":\"})\n",
    "\n",
    "fig, ax = plt.subplots(3, 1, figsize = (18, 10))\n",
    "sns.lineplot(\n",
    "    x = 'pickup_day',\n",
    "    y = 'total_per_mile',\n",
    "    data = yellow_2022_13,\n",
    "    ax = ax[0],\n",
    "    markers = True\n",
    ")\n",
    "ax[0].set_xlabel('Fecha')\n",
    "ax[0].set_ylabel('Tasa(USD) por milla')\n",
    "ax[0].set_title('Tasa para taxis amarillos + impuestos')\n",
    "\n",
    "sns.lineplot(\n",
    "    x = 'pickup_day',\n",
    "    y = 'total_per_mile',\n",
    "    data = green_2022_13,\n",
    "    ax = ax[1],\n",
    "    markers = True\n",
    ")\n",
    "ax[1].set_xlabel('Fecha')\n",
    "ax[1].set_ylabel('Tasa(USD) por milla')\n",
    "ax[1].set_title('Tasa para taxis verdes + impuestos')\n",
    "\n",
    "sns.lineplot(\n",
    "    x = 'pickup_day',\n",
    "    y = 'total_per_mile',\n",
    "    data = fhv_2022_13,\n",
    "    ax = ax[2],\n",
    "    markers = True\n",
    ")\n",
    "ax[2].set_xlabel('Fecha')\n",
    "ax[2].set_ylabel('Tasa(USD) por milla')\n",
    "ax[2].set_title('Tasa para vehículos de renta + impuestos')\n",
    "\n",
    "plt.show()"
   ]
  },
  {
   "cell_type": "markdown",
   "metadata": {},
   "source": [
    "Es mínima la diferencia en la tendencia a primera vista."
   ]
  },
  {
   "cell_type": "markdown",
   "metadata": {},
   "source": [
    "## 2. Montos de viajes según origen/destino."
   ]
  },
  {
   "cell_type": "code",
   "execution_count": null,
   "metadata": {},
   "outputs": [],
   "source": [
    "#Leer referencia de ubicación.\n",
    "zona = pd.read_csv('datos_tlc/taxi_zone_lookup.csv')"
   ]
  },
  {
   "cell_type": "code",
   "execution_count": null,
   "metadata": {},
   "outputs": [],
   "source": [
    "#Agregar el dato de Borough a los dataframes para agrupar.\n",
    "\n",
    "#Amarillos\n",
    "yellow = yellow_2022_13.join(zona[['LocationID','Borough']].set_index('LocationID'), on = 'PULocationID')\n",
    "yellow.rename(columns = {\"Borough\":\"origin_borough\"}, inplace = True)\n",
    "yellow = yellow.join(zona[['LocationID','Borough']].set_index('LocationID'), on = 'DOLocationID')\n",
    "yellow.rename(columns = {\"Borough\":\"dest_borough\"}, inplace = True)\n",
    "#Verdes\n",
    "green = green_2022_13.join(zona[['LocationID','Borough']].set_index('LocationID'), on = 'PULocationID')\n",
    "green.rename(columns = {\"Borough\":\"origin_borough\"}, inplace = True)\n",
    "green = green.join(zona[['LocationID','Borough']].set_index('LocationID'), on = 'DOLocationID')\n",
    "green.rename(columns = {\"Borough\":\"dest_borough\"}, inplace = True)\n",
    "#Renta\n",
    "fhv = fhv_2022_13.join(zona[['LocationID','Borough']].set_index('LocationID'), on = 'PULocationID')\n",
    "fhv.rename(columns = {\"Borough\":\"origin_borough\"}, inplace = True)\n",
    "fhv = fhv.join(zona[['LocationID','Borough']].set_index('LocationID'), on = 'DOLocationID')\n",
    "fhv.rename(columns = {\"Borough\":\"dest_borough\"}, inplace = True)"
   ]
  },
  {
   "cell_type": "code",
   "execution_count": null,
   "metadata": {},
   "outputs": [],
   "source": [
    "yellow['fare_amount'] = yellow['fare_amount'].abs()\n",
    "yellow['total_amount'] = yellow['total_amount'].abs()\n",
    "\n",
    "green['fare_amount'] = green['fare_amount'].abs()\n",
    "green['total_amount'] = green['total_amount'].abs()\n",
    "\n",
    "fhv['base_passenger_fare'] = fhv['base_passenger_fare'].abs()\n",
    "fhv['total_amount'] = fhv['total_amount'].abs()"
   ]
  },
  {
   "cell_type": "markdown",
   "metadata": {},
   "source": [
    "Según origen"
   ]
  },
  {
   "cell_type": "code",
   "execution_count": null,
   "metadata": {},
   "outputs": [],
   "source": [
    "y = yellow[['origin_borough','total_amount']].groupby(by = 'origin_borough').mean()"
   ]
  },
  {
   "cell_type": "code",
   "execution_count": null,
   "metadata": {},
   "outputs": [],
   "source": [
    "g = green[['origin_borough','total_amount']].groupby(by = 'origin_borough').mean()"
   ]
  },
  {
   "cell_type": "code",
   "execution_count": null,
   "metadata": {},
   "outputs": [],
   "source": [
    "f = fhv[['origin_borough','total_amount']].groupby(by = 'origin_borough').mean()"
   ]
  },
  {
   "cell_type": "code",
   "execution_count": null,
   "metadata": {},
   "outputs": [],
   "source": [
    "sns.set_style('darkgrid')\n",
    "\n",
    "fig, ax = plt.subplots(1, 3, figsize = (30, 10))\n",
    "\n",
    "sns.barplot(\n",
    "    data = y,\n",
    "    x = y.index,\n",
    "    y = 'total_amount',\n",
    "    ax = ax[0]\n",
    ")\n",
    "ax[0].set_xlabel('Distrito')\n",
    "ax[0].set_ylabel('Total (USD) por viaje promedio')\n",
    "ax[0].set_title('Total promedio por distrito de origen (Amarillos)')\n",
    "\n",
    "sns.barplot(\n",
    "    data = g,\n",
    "    x = y.index,\n",
    "    y = 'total_amount', \n",
    "    ax = ax[1]\n",
    ")\n",
    "ax[1].set_xlabel('Distrito')\n",
    "ax[1].set_ylabel('Total (USD) por viaje promedio')\n",
    "ax[1].set_title('Total promedio por distrito de origen (Verdes)')\n",
    "\n",
    "sns.barplot(\n",
    "    data = f,\n",
    "    x = y.index,\n",
    "    y = 'total_amount',\n",
    "    ax = ax[2]\n",
    ")\n",
    "ax[2].set_xlabel('Distrito')\n",
    "ax[2].set_ylabel('Total (USD) por viaje promedio')\n",
    "ax[2].set_title('Total promedio por distrito de origen (FHV)')\n",
    "\n",
    "plt.show()"
   ]
  },
  {
   "cell_type": "markdown",
   "metadata": {},
   "source": [
    "Según destino"
   ]
  },
  {
   "cell_type": "code",
   "execution_count": null,
   "metadata": {},
   "outputs": [],
   "source": [
    "y = yellow[['dest_borough', 'total_amount']].groupby(by = 'dest_borough').mean()"
   ]
  },
  {
   "cell_type": "code",
   "execution_count": null,
   "metadata": {},
   "outputs": [],
   "source": [
    "g = green[['dest_borough', 'total_amount']].groupby(by = 'dest_borough').mean()"
   ]
  },
  {
   "cell_type": "code",
   "execution_count": null,
   "metadata": {},
   "outputs": [],
   "source": [
    "f = fhv[['dest_borough', 'total_amount']].groupby(by = 'dest_borough').mean()"
   ]
  },
  {
   "cell_type": "code",
   "execution_count": null,
   "metadata": {},
   "outputs": [],
   "source": [
    "sns.set_style('darkgrid')\n",
    "\n",
    "fig, ax = plt.subplots(1, 3, figsize = (30, 10))\n",
    "\n",
    "sns.barplot(\n",
    "    data = y,\n",
    "    x = y.index,\n",
    "    y = 'total_amount',\n",
    "    ax = ax[0]\n",
    ")\n",
    "ax[0].set_xlabel('Distrito')\n",
    "ax[0].set_ylabel('Total (USD) por viaje promedio')\n",
    "ax[0].set_title('Total promedio por distrito de destino (Amarillos)')\n",
    "\n",
    "sns.barplot(\n",
    "    data = g,\n",
    "    x = y.index,\n",
    "    y = 'total_amount', \n",
    "    ax = ax[1]\n",
    ")\n",
    "ax[1].set_xlabel('Distrito')\n",
    "ax[1].set_ylabel('Total (USD) por viaje promedio')\n",
    "ax[1].set_title('Total promedio por distrito de destino (Verdes)')\n",
    "\n",
    "sns.barplot(\n",
    "    data = f,\n",
    "    x = y.index,\n",
    "    y = 'total_amount',\n",
    "    ax = ax[2]\n",
    ")\n",
    "ax[2].set_xlabel('Distrito')\n",
    "ax[2].set_ylabel('Total (USD) por viaje promedio')\n",
    "ax[2].set_title('Total promedio por distrito de destino (FHV)')\n",
    "plt.show()"
   ]
  },
  {
   "cell_type": "markdown",
   "metadata": {},
   "source": [
    "## 3. Demanda según día de la semana."
   ]
  },
  {
   "cell_type": "code",
   "execution_count": null,
   "metadata": {},
   "outputs": [],
   "source": [
    "yellow_2022_13['pickup_day'] = pd.to_datetime(yellow_2022_13['pickup_day'])\n",
    "green_2022_13['pickup_day'] = pd.to_datetime(green_2022_13['pickup_day'])\n",
    "fhv_2022_13['pickup_day'] = pd.to_datetime(fhv_2022_13['pickup_day'])"
   ]
  },
  {
   "cell_type": "code",
   "execution_count": null,
   "metadata": {},
   "outputs": [],
   "source": [
    "yellow = yellow_2022_13.set_index('pickup_day')\n",
    "green = green_2022_13.set_index('pickup_day')\n",
    "fhv = fhv_2022_13.set_index('pickup_day')"
   ]
  },
  {
   "cell_type": "code",
   "execution_count": null,
   "metadata": {},
   "outputs": [],
   "source": [
    "y_por_semana = yellow[['passenger_count']].groupby(yellow.index.dayofweek).count()\n",
    "y_por_semana.index = ['Lunes', 'Martes', 'Miércoles', 'Jueves', 'Viernes', 'Sábado', 'Domingo']\n",
    "\n",
    "g_por_semana = green[['passenger_count']].groupby(green.index.dayofweek).count()\n",
    "g_por_semana.index = ['Lunes', 'Martes', 'Miércoles', 'Jueves', 'Viernes', 'Sábado', 'Domingo']\n",
    "\n",
    "f_por_semana = fhv[['base_passenger_fare']].groupby(fhv.index.dayofweek).count()\n",
    "f_por_semana.index = ['Lunes', 'Martes', 'Miércoles', 'Jueves', 'Viernes', 'Sábado', 'Domingo']"
   ]
  },
  {
   "cell_type": "code",
   "execution_count": null,
   "metadata": {},
   "outputs": [],
   "source": [
    "sns.set_style(\"darkgrid\")\n",
    "\n",
    "fig, ax = plt.subplots(1, 3, figsize = (30, 10))\n",
    "\n",
    "sns.lineplot(\n",
    "    x = y_por_semana.index,\n",
    "    y = 'passenger_count',\n",
    "    data = y_por_semana,\n",
    "    ax = ax[0]\n",
    ")\n",
    "ax[0].set_xlabel('Día')\n",
    "ax[0].set_ylabel('Demanda (viajes)')\n",
    "ax[0].set_title('Taxis Amarillos')\n",
    "\n",
    "sns.lineplot(\n",
    "    x = g_por_semana.index,\n",
    "    y = 'passenger_count',\n",
    "    data = g_por_semana,\n",
    "    ax = ax[1]\n",
    ")\n",
    "ax[1].set_xlabel('Día')\n",
    "ax[1].set_ylabel('Demanda (viajes)')\n",
    "ax[1].set_title('Taxis Amarillos')\n",
    "\n",
    "sns.lineplot(\n",
    "    x = f_por_semana.index,\n",
    "    y = 'base_passenger_fare',\n",
    "    data = f_por_semana,\n",
    "    ax = ax[2]\n",
    ")\n",
    "ax[2].set_xlabel('Día')\n",
    "ax[2].set_ylabel('Demanda (viajes)')\n",
    "ax[2].set_title('Taxis Amarillos')\n",
    "\n",
    "plt.show()"
   ]
  },
  {
   "cell_type": "markdown",
   "metadata": {},
   "source": [
    "## 4. Costo de viaje según día de la semana."
   ]
  },
  {
   "cell_type": "code",
   "execution_count": null,
   "metadata": {},
   "outputs": [],
   "source": [
    "y_por_semana = yellow[['total_amount']].groupby(yellow.index.dayofweek).count()\n",
    "y_por_semana.index = ['Lunes', 'Martes', 'Miércoles', 'Jueves', 'Viernes', 'Sábado', 'Domingo']\n",
    "\n",
    "g_por_semana = green[['total_amount']].groupby(green.index.dayofweek).count()\n",
    "g_por_semana.index = ['Lunes', 'Martes', 'Miércoles', 'Jueves', 'Viernes', 'Sábado', 'Domingo']\n",
    "\n",
    "f_por_semana = fhv[['total_amount']].groupby(fhv.index.dayofweek).count()\n",
    "f_por_semana.index = ['Lunes', 'Martes', 'Miércoles', 'Jueves', 'Viernes', 'Sábado', 'Domingo']"
   ]
  },
  {
   "cell_type": "code",
   "execution_count": null,
   "metadata": {},
   "outputs": [],
   "source": [
    "sns.set_style(\"darkgrid\")\n",
    "\n",
    "fig, ax = plt.subplots(1, 3, figsize = (30, 10))\n",
    "\n",
    "sns.lineplot(\n",
    "    x = y_por_semana.index,\n",
    "    y = 'total_amount',\n",
    "    data = y_por_semana,\n",
    "    ax = ax[0]\n",
    ")\n",
    "ax[0].set_xlabel('Día')\n",
    "ax[0].set_ylabel('Costo total promedio (USD)')\n",
    "ax[0].set_title('Taxis Amarillos')\n",
    "\n",
    "sns.lineplot(\n",
    "    x = g_por_semana.index,\n",
    "    y = 'total_amount',\n",
    "    data = g_por_semana,\n",
    "    ax = ax[1]\n",
    ")\n",
    "ax[1].set_xlabel('Día')\n",
    "ax[1].set_ylabel('Costo total promedio (USD)')\n",
    "ax[1].set_title('Taxis Amarillos')\n",
    "\n",
    "sns.lineplot(\n",
    "    x = f_por_semana.index,\n",
    "    y = 'total_amount',\n",
    "    data = f_por_semana,\n",
    "    ax = ax[2]\n",
    ")\n",
    "ax[2].set_xlabel('Día')\n",
    "ax[2].set_ylabel('Costo total promedio (USD)')\n",
    "ax[2].set_title('Taxis Amarillos')\n",
    "\n",
    "plt.show()"
   ]
  },
  {
   "cell_type": "markdown",
   "metadata": {},
   "source": [
    "## Matriz de correlación"
   ]
  },
  {
   "cell_type": "code",
   "execution_count": null,
   "metadata": {},
   "outputs": [],
   "source": [
    "#Correlación taxis amarillos.\n",
    "sns.set_theme(style = 'darkgrid')\n",
    "\n",
    "ycorr = yellow_2022_13[['passenger_count',\n",
    " 'trip_distance',\n",
    " 'PULocationID',\n",
    " 'DOLocationID',\n",
    " 'payment_type',\n",
    " 'fare_amount',\n",
    " 'extra',\n",
    " 'mta_tax',\n",
    " 'tip_amount',\n",
    " 'tolls_amount',\n",
    " 'improvement_surcharge',\n",
    " 'total_amount',\n",
    " 'congestion_surcharge',\n",
    " 'airport_fee',\n",
    "]].corr()\n",
    "mask = np.triu(np.ones_like(ycorr, dtype = bool))\n",
    "\n",
    "fig, ax = plt.subplots(figsize = (10, 10))\n",
    "\n",
    "sns.heatmap(ycorr, mask = mask, vmax = 0.5, center = 0, square = True, linewidths = 0.5, cbar_kws = {\"shrink\": 0.5})\n",
    "\n",
    "plt.show()"
   ]
  },
  {
   "cell_type": "markdown",
   "metadata": {},
   "source": [
    "* Relación inversamente proporcional entre el costo del viaje base (calculado al inicio) y la cantidad de propina dejada por el cliente.\n",
    "* Las correlaciones más altas (0.4+) las da:\n",
    "    - Costo total del viaje (total_amount) vs. peajes (tolls_amount).\n",
    "    - Recargo de congestion (congestion_surcharge) vs. Impuesto MTA.\n",
    "    - Tasa por aeropuerto vs. peajes.\n",
    "    - Costo total del viaje vs. Tasa por aeropuerto.\n"
   ]
  },
  {
   "cell_type": "code",
   "execution_count": null,
   "metadata": {},
   "outputs": [],
   "source": [
    "#Correlación taxis verdes.\n",
    "sns.set_theme(style = 'darkgrid')\n",
    "\n",
    "gcorr = green_2022_13[['PULocationID',\n",
    " 'DOLocationID',\n",
    " 'passenger_count',\n",
    " 'trip_distance',\n",
    " 'fare_amount',\n",
    " 'extra',\n",
    " 'mta_tax',\n",
    " 'tip_amount',\n",
    " 'tolls_amount',\n",
    " 'improvement_surcharge',\n",
    " 'total_amount',\n",
    " 'payment_type',\n",
    " 'congestion_surcharge',\n",
    "]].corr()\n",
    "mask = np.triu(np.ones_like(gcorr, dtype = bool))\n",
    "\n",
    "fig, ax = plt.subplots(figsize = (10, 10))\n",
    "\n",
    "sns.heatmap(gcorr, mask = mask, vmax = 0.5, center = 0, square = True, linewidths = 0.5, cbar_kws = {\"shrink\": 0.5})\n",
    "\n",
    "plt.show()"
   ]
  },
  {
   "cell_type": "markdown",
   "metadata": {},
   "source": [
    "* Relación inversamente proporcional entre tipo de pago y cantidad de propina.\n",
    "* Las correlaciones más altas las da (0.4+):\n",
    "    - Zona donde el taxímetro para al final del viaje (DOLocationID) vs. Recargo de congestión.\n",
    "    - Peaje (tolls_amount) vs. cobro base.\n",
    "    - Cobro total vs. cantidad de propina.\n",
    "    - Cobro total vs. Peaje.\n",
    "    - Cobro total vs. Cobro base."
   ]
  },
  {
   "cell_type": "code",
   "execution_count": null,
   "metadata": {},
   "outputs": [],
   "source": [
    "#Correlación vehículos en renta.\n",
    "sns.set_theme(style = 'darkgrid')\n",
    "\n",
    "fcorr = fhv_2022_13[['PULocationID',\n",
    " 'DOLocationID',\n",
    " 'trip_miles',\n",
    " 'trip_time',\n",
    " 'base_passenger_fare',\n",
    " 'tolls',\n",
    " 'bcf',\n",
    " 'sales_tax',\n",
    " 'congestion_surcharge',\n",
    " 'airport_fee',\n",
    " 'tips',\n",
    " 'driver_pay'\n",
    " ]].corr()\n",
    "mask = np.triu(np.ones_like(fcorr, dtype = bool))\n",
    "\n",
    "fig, ax = plt.subplots(figsize = (10, 10))\n",
    "\n",
    "sns.heatmap(fcorr, mask = mask, vmax = 0.5, center = 0, square = True, linewidths = 0.5, cbar_kws = {\"shrink\": 0.5})\n",
    "\n",
    "plt.show()"
   ]
  },
  {
   "cell_type": "markdown",
   "metadata": {},
   "source": [
    "* Correlaciones más altas:\n",
    "    - Millas de viaje vs. tiempo de viaje.\n",
    "    - Millas de viaje vs. Cobro base.\n",
    "    - Millas de viaje vs. peaje.\n",
    "    - Millas de viaje vs. colecta para Black Car Fund (bcf).\n",
    "    - Millas de viaje vs. Impuesto de venta (sales_tax).\n",
    "    - Tiempo de viaje vs. Pago del conductor.\n",
    "    - Tiempo de viaje vs. Impuesto de venta.\n",
    "    - Tiempo de viaje vs. colecta para Black Car Fund (bcf).\n",
    "    - Tiempo de viaje vs. Cobro base.\n",
    "    - Cobro base vs. pago al conductor.\n",
    "    - Cobro base vs. impuesto de venta.\n",
    "    - Cobro base vs. colecta para Black Car Fund (bcf).\n",
    "    - Cobro base vs. Peaje.\n",
    "    - Peaje vs. colecta para Black Car Fund (bcf).\n",
    "    - Peaje vs. pago al conductor.\n",
    "    - Colecta para Black Car Fund (bcf) vs.\n",
    "    - Impuesto de venta vs. pago al conductor."
   ]
  },
  {
   "cell_type": "markdown",
   "metadata": {},
   "source": [
    "Pago al conductor para vehículos en renta parece ser dependiente o estar relacionado altamente con el tiempo de viaje, el cobro base y el impuesto de venta. A su vez estos estan correlacionados con otros factores."
   ]
  }
 ],
 "metadata": {
  "kernelspec": {
   "display_name": "Python 3 (ipykernel)",
   "language": "python",
   "name": "python3"
  },
  "language_info": {
   "codemirror_mode": {
    "name": "ipython",
    "version": 3
   },
   "file_extension": ".py",
   "mimetype": "text/x-python",
   "name": "python",
   "nbconvert_exporter": "python",
   "pygments_lexer": "ipython3",
   "version": "3.9.13"
  }
 },
 "nbformat": 4,
 "nbformat_minor": 2
}
