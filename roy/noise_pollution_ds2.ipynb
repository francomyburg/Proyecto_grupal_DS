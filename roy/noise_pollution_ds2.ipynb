{
 "cells": [
  {
   "attachments": {},
   "cell_type": "markdown",
   "metadata": {},
   "source": [
    "<h1 align=\"center\">Dataset 2: Reporte de los registros al servicio 311 del gobierno NYC</h1>"
   ]
  },
  {
   "cell_type": "code",
   "execution_count": 2,
   "metadata": {},
   "outputs": [
    {
     "name": "stdout",
     "output_type": "stream",
     "text": [
      "The autoreload extension is already loaded. To reload it, use:\n",
      "  %reload_ext autoreload\n"
     ]
    }
   ],
   "source": [
    "%load_ext autoreload\n",
    "%autoreload 2\n",
    "# Gestion de rutas\n",
    "import utils.paths as path\n",
    "# Importacion de librerías\n",
    "import pandas as pd\n",
    "import numpy as np\n",
    "import seaborn as sns\n",
    "import matplotlib.pyplot as plt\n",
    "import requests\n",
    "import os\n",
    "import re\n",
    "# Directorio de los datos crudos / raw data\n",
    "raw_data_dir = path.make_dir_function(['datasets', 'raw'])\n",
    "proc_data_dir = path.make_dir_function(['datasets', 'processed'])"
   ]
  },
  {
   "attachments": {},
   "cell_type": "markdown",
   "metadata": {},
   "source": [
    "* Reporte de los registros al servicio 311 del gobierno NYC"
   ]
  },
  {
   "attachments": {},
   "cell_type": "markdown",
   "metadata": {},
   "source": [
    "Descarga de datos de: https://nycopendata.socrata.com/Social-Services/311-Service-Requests-from-2010-to-Present/erm2-nwe9"
   ]
  },
  {
   "cell_type": "code",
   "execution_count": 3,
   "metadata": {},
   "outputs": [],
   "source": [
    "# Referencia: https://dongonchoi.github.io/RDataScience_Project/#materials_and_methods\n",
    "import csv\n",
    "import requests\n",
    "import pandas as pd\n",
    "import os"
   ]
  },
  {
   "cell_type": "code",
   "execution_count": 4,
   "metadata": {},
   "outputs": [],
   "source": [
    "def download_data(url, file_name, start_date, end_date):\n",
    "    # Ruta para guardar el archivo\n",
    "    file_path = raw_data_dir(file_name)\n",
    "    # Parámetros de paginación\n",
    "    limit = 1000000  # Sin límite de resultados por página\n",
    "    offset = 0    # Número de resultados a omitir antes de comenzar a obtener resultados\n",
    "    results = []  # Lista para almacenar los resultados\n",
    "    while True:\n",
    "        # Construir la URL con los parámetros de paginación y el rango de fechas\n",
    "        # query_url = f'{url}?$limit={limit}&$offset={offset}&$where=application_start_date >= \"{start_date}\" and application_start_date < \"{end_date}\"'\n",
    "        query_url = f'{url}?$limit={limit}&$offset={offset}&$where=created_date >= \"{start_date}\" and created_date < \"{end_date}\"'\n",
    "        # Hacer la solicitud a la API\n",
    "        response = requests.get(query_url)\n",
    "        # Verificar el código de estado de la respuesta\n",
    "        if response.status_code == 200:\n",
    "            # Leer los datos de la respuesta en un DataFrame\n",
    "            df = pd.read_json(response.content)\n",
    "            # Agregar los resultados al DataFrame\n",
    "            results.append(df)\n",
    "            # Verificar si hay más resultados\n",
    "            if len(df) < limit:\n",
    "                break  # Si no hay más resultados, salir del ciclo\n",
    "            offset += limit  # Incrementar el offset para la próxima página\n",
    "        else:\n",
    "            print(f'Error al hacer la solicitud: {response.status_code}')\n",
    "            break\n",
    "    # Concatenar todos los DataFrames en uno solo\n",
    "    df_final = pd.concat(results, ignore_index=True)\n",
    "    try:\n",
    "        # Guardar los datos en un archivo CSV\n",
    "        df_final.to_parquet(file_path, index=False)\n",
    "        print(f'Los datos han sido guardados en {file_path} exitosamente.')\n",
    "    except Exception as e:\n",
    "        print(f'Error al guardar los datos: {e}')"
   ]
  },
  {
   "cell_type": "code",
   "execution_count": 5,
   "metadata": {},
   "outputs": [],
   "source": [
    "# Descarga del dataset 2\n",
    "download_data(\n",
    "    'https://data.cityofnewyork.us/resource/erm2-nwe9.json',\n",
    "    'noise_pollution_ds2.parquet',\n",
    "    '2020-01-01T00:00:00.000',\n",
    "    '2023-01-01T00:00:00.000')"
   ]
  },
  {
   "cell_type": "code",
   "execution_count": null,
   "metadata": {},
   "outputs": [],
   "source": [
    "# Lectura del dataset de reporte de los registros al servicio 311 del gobierno NYC\n",
    "noise = pd.read_parquet(raw_data_dir('noise_pollution_ds2.parquet'))\n",
    "noise.head()"
   ]
  },
  {
   "attachments": {},
   "cell_type": "markdown",
   "metadata": {},
   "source": [
    "Otras bases de datos a seguir explorando:\n",
    "* https://data.cityofnewyork.us/Social-Services/311-Noise-Complaints/p5f6-bkga\n",
    "\n",
    "* [Average (Leq) Noise Levels in dBA, by Transit Type and Measurement Location: New York City, June and July 2007](https://www.ncbi.nlm.nih.gov/pmc/articles/PMC2707461/table/tbl1/?report=objectonly)\n",
    "\n",
    "* htps://www.nytimes.com/interactive/2020/05/22/upshot/coronavirus-quiet-city-noise.html\n",
    "\n",
    "* https://data.cityofchicago.org/resource/ydr8-5enu.json"
   ]
  }
 ],
 "metadata": {
  "kernelspec": {
   "display_name": "env",
   "language": "python",
   "name": "python3"
  },
  "language_info": {
   "codemirror_mode": {
    "name": "ipython",
    "version": 3
   },
   "file_extension": ".py",
   "mimetype": "text/x-python",
   "name": "python",
   "nbconvert_exporter": "python",
   "pygments_lexer": "ipython3",
   "version": "3.7.9"
  },
  "orig_nbformat": 4
 },
 "nbformat": 4,
 "nbformat_minor": 2
}
