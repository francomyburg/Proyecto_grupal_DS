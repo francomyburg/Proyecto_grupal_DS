{
 "cells": [
  {
   "cell_type": "markdown",
   "metadata": {
    "application/vnd.databricks.v1+cell": {
     "cellMetadata": {
      "byteLimit": 2048000,
      "rowLimit": 10000
     },
     "inputWidgets": {},
     "nuid": "29e6d5aa-a5dc-40ea-8c33-7edead891320",
     "showTitle": false,
     "title": ""
    }
   },
   "source": [
    "## Tubería con Auto Loader para reportes mensuales."
   ]
  },
  {
   "cell_type": "markdown",
   "metadata": {
    "application/vnd.databricks.v1+cell": {
     "cellMetadata": {
      "byteLimit": 2048000,
      "rowLimit": 10000
     },
     "inputWidgets": {},
     "nuid": "e9e7420a-0b00-447d-937e-b4f244f721ef",
     "showTitle": false,
     "title": ""
    }
   },
   "source": [
    "### Acceso a Blob Storage:"
   ]
  },
  {
   "cell_type": "code",
   "execution_count": 0,
   "metadata": {
    "application/vnd.databricks.v1+cell": {
     "cellMetadata": {
      "byteLimit": 2048000,
      "rowLimit": 10000
     },
     "inputWidgets": {},
     "nuid": "3fc7459d-4918-4bb7-8c0b-8ca25ab5ab2b",
     "showTitle": false,
     "title": ""
    }
   },
   "outputs": [],
   "source": [
    "import pyspark"
   ]
  },
  {
   "cell_type": "code",
   "execution_count": 0,
   "metadata": {
    "application/vnd.databricks.v1+cell": {
     "cellMetadata": {
      "byteLimit": 2048000,
      "rowLimit": 10000
     },
     "inputWidgets": {},
     "nuid": "c2d81fa2-f73b-4aa6-bc78-beb7346e87ec",
     "showTitle": false,
     "title": ""
    }
   },
   "outputs": [],
   "source": [
    "storage_account_name = \"pfcrudo\"\n",
    "storage_account_key = \"ASY9nV2+pddQN2Y8AUZef5m4JtdidWOa5RW+fNIkj2HE60F5s95ueJraFC2/Jv1KulbyL5hwcYk6+AStCn7cjw==\"\n",
    "\n",
    "spark.conf.set(f\"fs.azure.account.key.{storage_account_name}.blob.core.windows.net\", storage_account_key)"
   ]
  },
  {
   "cell_type": "markdown",
   "metadata": {
    "application/vnd.databricks.v1+cell": {
     "cellMetadata": {
      "byteLimit": 2048000,
      "rowLimit": 10000
     },
     "inputWidgets": {},
     "nuid": "f0fb2ffb-866d-48c1-be7b-0155ba6a88e8",
     "showTitle": false,
     "title": ""
    }
   },
   "source": [
    "### Leer archivo y obtener esquema general"
   ]
  },
  {
   "cell_type": "markdown",
   "metadata": {
    "application/vnd.databricks.v1+cell": {
     "cellMetadata": {
      "byteLimit": 2048000,
      "rowLimit": 10000
     },
     "inputWidgets": {},
     "nuid": "b5e67472-be57-421e-a0cf-75956ed029b0",
     "showTitle": false,
     "title": ""
    }
   },
   "source": [
    "Auto Loader"
   ]
  },
  {
   "cell_type": "code",
   "execution_count": 0,
   "metadata": {
    "application/vnd.databricks.v1+cell": {
     "cellMetadata": {
      "byteLimit": 2048000,
      "rowLimit": 10000
     },
     "inputWidgets": {},
     "nuid": "7d597dd1-4b2f-46e9-a741-d5017654191e",
     "showTitle": false,
     "title": ""
    }
   },
   "outputs": [
    {
     "output_type": "stream",
     "name": "stdout",
     "output_type": "stream",
     "text": [
      "Out[83]: DataFrame[key: string, value: string]"
     ]
    }
   ],
   "source": [
    "spark.sql(\"set spark.sql.streaming.schemaInference=true\")"
   ]
  },
  {
   "cell_type": "code",
   "execution_count": 0,
   "metadata": {
    "application/vnd.databricks.v1+cell": {
     "cellMetadata": {
      "byteLimit": 2048000,
      "rowLimit": 10000
     },
     "inputWidgets": {},
     "nuid": "ca6a9195-adee-4fd9-9c71-314060958deb",
     "showTitle": false,
     "title": ""
    }
   },
   "outputs": [],
   "source": [
    "stream_in = (spark.readStream\n",
    "                .format(\"cloudFiles\")\n",
    "                .option(\"cloudFiles.useNotifications\", False)\n",
    "                .option(\"cloudFiles.format\", \"csv\")\n",
    "                .option(\"cloudFiles.schemaLocation\", f\"wasbs://monthlyreportschema@{storage_account_name}.blob.core.windows.net/\")\n",
    "                .load(f\"wasbs://{container}@{storage_account_name}.blob.core.windows.net/\"))"
   ]
  },
  {
   "cell_type": "markdown",
   "metadata": {
    "application/vnd.databricks.v1+cell": {
     "cellMetadata": {
      "byteLimit": 2048000,
      "rowLimit": 10000
     },
     "inputWidgets": {},
     "nuid": "ed509007-5113-4686-8c13-4fae1baa4134",
     "showTitle": false,
     "title": ""
    }
   },
   "source": [
    "### Transformación"
   ]
  },
  {
   "cell_type": "code",
   "execution_count": 0,
   "metadata": {
    "application/vnd.databricks.v1+cell": {
     "cellMetadata": {
      "byteLimit": 2048000,
      "rowLimit": 10000
     },
     "inputWidgets": {},
     "nuid": "f6559de2-a517-457f-b7d9-5e9e73e2454e",
     "showTitle": false,
     "title": ""
    }
   },
   "outputs": [],
   "source": [
    "from pyspark.sql.functions import *"
   ]
  },
  {
   "cell_type": "code",
   "execution_count": 0,
   "metadata": {
    "application/vnd.databricks.v1+cell": {
     "cellMetadata": {
      "byteLimit": 2048000,
      "rowLimit": 10000
     },
     "inputWidgets": {},
     "nuid": "02301838-a225-41ca-b794-e5e95db197af",
     "showTitle": false,
     "title": ""
    }
   },
   "outputs": [],
   "source": [
    "#Convertir las columnas a minúscula.\n",
    "df = stream_in.select(\"*\", lower(col(\"License Class\")))\n",
    "\n",
    "df = stream_in.select(\"*\", lower(col(\"_rescued_data\")))\n"
   ]
  },
  {
   "cell_type": "code",
   "execution_count": 0,
   "metadata": {
    "application/vnd.databricks.v1+cell": {
     "cellMetadata": {
      "byteLimit": 2048000,
      "rowLimit": 10000
     },
     "inputWidgets": {},
     "nuid": "4552b41c-8f5f-4311-a266-66498956bd77",
     "showTitle": false,
     "title": ""
    }
   },
   "outputs": [],
   "source": [
    "#Renombrar columnas.\n",
    "df = df.drop(\"lower(_rescued_data)\")\n",
    "\n",
    "df = df.toDF(*[\"date\", \"license_class\", \"trips_per_day\", \"farebox_per_day\", \"unique_drivers\", \"unique_vehicles\", \"vehicles_per_day\", \"avg_days_vehicles_on_road\", \"avg_hours_per_day_per_vehicle\", \"avg_days_drivers_on_road\", \"avg_hours_per_day_per_driver\", \"avg_minutes_per_trip\", \"percent_of_trips_paid_with_credit_card\", \"trips_per_day_shared\", \"rescued_data\"])"
   ]
  },
  {
   "cell_type": "code",
   "execution_count": 0,
   "metadata": {
    "application/vnd.databricks.v1+cell": {
     "cellMetadata": {
      "byteLimit": 2048000,
      "rowLimit": 10000
     },
     "inputWidgets": {},
     "nuid": "f6ad3d3c-90f7-4fbd-b745-021c3cd8ddf4",
     "showTitle": false,
     "title": ""
    }
   },
   "outputs": [],
   "source": [
    "#Limpiar espacios de inicio y final con trim.\n",
    "\n",
    "df = df.withColumn(\"farebox_per_day\", trim(col(\"farebox_per_day\")))\n",
    "\n",
    "df = df.withColumn(\"unique_drivers\", trim(col(\"unique_drivers\")))\n",
    "\n",
    "df = df.withColumn(\"unique_vehicles\", trim(col(\"unique_vehicles\")))\n",
    "\n",
    "df = df.withColumn(\"vehicles_per_day\", trim(col(\"vehicles_per_day\")))\n",
    "\n",
    "df = df.withColumn(\"avg_days_vehicles_on_road\", trim(col(\"avg_days_vehicles_on_road\")))\n",
    "\n",
    "df = df.withColumn(\"avg_hours_per_day_per_vehicle\", trim(col(\"avg_hours_per_day_per_vehicle\")))\n",
    "\n",
    "df = df.withColumn(\"avg_days_drivers_on_road\", trim(col(\"avg_days_drivers_on_road\")))\n",
    "\n",
    "df = df.withColumn(\"avg_hours_per_day_per_driver\", trim(col(\"avg_hours_per_day_per_driver\")))\n",
    "\n",
    "df = df.withColumn(\"avg_minutes_per_trip\", trim(col(\"avg_minutes_per_trip\")))\n",
    "\n",
    "df = df.withColumn(\"percent_of_trips_paid_with_credit_card\", trim(col(\"percent_of_trips_paid_with_credit_card\")))\n",
    "\n",
    "df = df.withColumn(\"trips_per_day_shared\", trim(col(\"trips_per_day_shared\")))\n",
    "\n",
    "df = df.withColumn(\"rescued_data\", trim(col(\"rescued_data\")))"
   ]
  },
  {
   "cell_type": "code",
   "execution_count": 0,
   "metadata": {
    "application/vnd.databricks.v1+cell": {
     "cellMetadata": {
      "byteLimit": 2048000,
      "rowLimit": 10000
     },
     "inputWidgets": {},
     "nuid": "c04fa586-45b2-4339-adee-8f4c1654e150",
     "showTitle": false,
     "title": ""
    }
   },
   "outputs": [],
   "source": [
    "#Reemplazar algunos valores.\n",
    "df = df.withColumn(\"percent_of_trips_paid_with_credit_card\", regexp_replace(\"percent_of_trips_paid_with_credit_card\", \"%\", \"\"))\n",
    "\n",
    "df = df.withColumn(\"percent_of_trips_paid_with_credit_card\", regexp_replace(\"percent_of_trips_paid_with_credit_card\", \"-\", \"0.0\"))\n",
    "\n",
    "df = df.withColumn(\"trips_per_day\", regexp_replace(\"trips_per_day\", \",\", \"\"))\n",
    "\n",
    "df = df.withColumn(\"unique_drivers\", regexp_replace(\"unique_drivers\", \",\", \"\"))\n",
    "\n",
    "df = df.withColumn(\"unique_vehicles\", regexp_replace(\"unique_vehicles\", \",\", \"\"))\n",
    "\n",
    "df = df.withColumn(\"vehicles_per_day\", regexp_replace(\"vehicles_per_day\", \",\", \"\"))\n",
    "\n",
    "df = df.withColumn(\"farebox_per_day\", regexp_replace(\"farebox_per_day\", \"-\", \"0\"))\n",
    "\n",
    "df = df.withColumn(\"avg_minutes_per_trip\", regexp_replace(\"avg_minutes_per_trip\", \"-\", \"0\"))\n",
    "\n",
    "df = df.withColumn(\"trips_per_day_shared\", regexp_replace(\"trips_per_day_shared\", \"-\", \"0\"))\n",
    "\n",
    "df = df.withColumn(\"trips_per_day_shared\", regexp_replace(\"trips_per_day_shared\", \",\", \"\"))"
   ]
  },
  {
   "cell_type": "code",
   "execution_count": 0,
   "metadata": {
    "application/vnd.databricks.v1+cell": {
     "cellMetadata": {
      "byteLimit": 2048000,
      "rowLimit": 10000
     },
     "inputWidgets": {},
     "nuid": "5912ab28-126d-49d5-86de-e11439e05faa",
     "showTitle": false,
     "title": ""
    }
   },
   "outputs": [],
   "source": [
    "#Llenar nulos con 0.\n",
    "df = df.fillna(0, subset = [\"trips_per_day\", \"farebox_per_day\", \"unique_drivers\", \"unique_vehicles\", \"vehicles_per_day\", \"avg_days_vehicles_on_road\", \"avg_hours_per_day_per_vehicle\", \"avg_days_drivers_on_road\", \"avg_hours_per_day_per_driver\", \"avg_minutes_per_trip\", \"percent_of_trips_paid_with_credit_card\", \"trips_per_day_shared\"])"
   ]
  },
  {
   "cell_type": "code",
   "execution_count": 0,
   "metadata": {
    "application/vnd.databricks.v1+cell": {
     "cellMetadata": {
      "byteLimit": 2048000,
      "rowLimit": 10000
     },
     "inputWidgets": {},
     "nuid": "abdd497d-ce40-4f7a-ad75-0e19b5979154",
     "showTitle": false,
     "title": ""
    }
   },
   "outputs": [],
   "source": [
    "from pyspark.sql.types import *\n",
    "\n",
    "#Convertir columnas a tipo numérico.\n",
    "df = df.withColumn(\"date\", df.date.cast(DateType()))\n",
    "\n",
    "df = df.withColumn(\"license_class\", df.license_class.cast(StringType()))\n",
    "\n",
    "df = df.withColumn(\"trips_per_day\", df.trips_per_day.cast(IntegerType()))\n",
    "\n",
    "df = df.withColumn(\"farebox_per_day\", df.farebox_per_day.cast(IntegerType()))\n",
    "\n",
    "df = df.withColumn(\"unique_drivers\", df.unique_drivers.cast(IntegerType()))\n",
    "\n",
    "df = df.withColumn(\"unique_vehicles\", df.unique_vehicles.cast(IntegerType()))\n",
    "\n",
    "df = df.withColumn(\"vehicles_per_day\", df.vehicles_per_day.cast(IntegerType()))\n",
    "\n",
    "df = df.withColumn(\"avg_days_vehicles_on_road\", df.avg_days_vehicles_on_road.cast(DoubleType()))\n",
    "\n",
    "df = df.withColumn(\"avg_hours_per_day_per_vehicle\", df.avg_hours_per_day_per_vehicle.cast(DoubleType()))\n",
    "\n",
    "df = df.withColumn(\"avg_days_drivers_on_road\", df.avg_days_drivers_on_road.cast(DoubleType()))\n",
    "\n",
    "df = df.withColumn(\"avg_hours_per_day_per_driver\", df.avg_hours_per_day_per_driver.cast(DoubleType()))\n",
    "\n",
    "df = df.withColumn(\"avg_minutes_per_trip\", df.avg_minutes_per_trip.cast(DoubleType()))\n",
    "\n",
    "df = df.withColumn(\"percent_of_trips_paid_with_credit_card\", df.percent_of_trips_paid_with_credit_card.cast(DoubleType()))\n",
    "\n",
    "df = df.withColumn(\"trips_per_day_shared\", df.trips_per_day_shared.cast(IntegerType()))"
   ]
  },
  {
   "cell_type": "code",
   "execution_count": 0,
   "metadata": {
    "application/vnd.databricks.v1+cell": {
     "cellMetadata": {
      "byteLimit": 2048000,
      "rowLimit": 10000
     },
     "inputWidgets": {},
     "nuid": "85b58f8f-4fcb-4d07-a4e2-1482ec06a154",
     "showTitle": false,
     "title": ""
    }
   },
   "outputs": [],
   "source": [
    "#Filtrar para que sólo sean los taxis amarillos.\n",
    "df = df.filter(df.license_class == \"yellow\")"
   ]
  },
  {
   "cell_type": "code",
   "execution_count": 0,
   "metadata": {
    "application/vnd.databricks.v1+cell": {
     "cellMetadata": {
      "byteLimit": 2048000,
      "rowLimit": 10000
     },
     "inputWidgets": {},
     "nuid": "ea8324af-2408-4d1f-8a26-b395ed31602f",
     "showTitle": false,
     "title": ""
    }
   },
   "outputs": [],
   "source": [
    "#Nuevas columnas basadas en tiempo.\n",
    "df = df.withColumn(\"month_year1\", month(df.date))\n",
    "\n",
    "df = df.withColumn(\"days\", dayofmonth(df.date))\n",
    "\n",
    "df = df.withColumn(\"trips_per_month\", df.trips_per_day * df.days)\n",
    "\n",
    "df = df.withColumn(\"month_date\", df.date)\n",
    "\n",
    "#Estas pueden estar mal.\n",
    "df = df.withColumn(\"farebox_per_month\", df.farebox_per_day * df.days)\n",
    "\n",
    "df = df.withColumn(\"week\", weekofyear(df.date))\n",
    "\n",
    "df = df.withColumn(\"year\", year(df.date))"
   ]
  },
  {
   "cell_type": "code",
   "execution_count": 0,
   "metadata": {
    "application/vnd.databricks.v1+cell": {
     "cellMetadata": {
      "byteLimit": 2048000,
      "rowLimit": 10000
     },
     "inputWidgets": {},
     "nuid": "68c5ecb8-636f-46c2-a7db-189e616ceb87",
     "showTitle": false,
     "title": ""
    }
   },
   "outputs": [],
   "source": [
    "#Nuevas columnas.\n",
    "df = df.withColumn(\"trips_per_week\", df.trips_per_day * 7)\n",
    "\n",
    "df = df.withColumn(\"farebox_per_week\", df.farebox_per_day * 7)\n",
    "\n",
    "df = df.withColumn(\"total_trips_per_day\", df.trips_per_day + df.trips_per_day_shared)\n",
    "\n",
    "df = df.withColumn(\"shared_trips_per_day_percent\", df.trips_per_day_shared / df.total_trips_per_day)\n"
   ]
  },
  {
   "cell_type": "code",
   "execution_count": 0,
   "metadata": {
    "application/vnd.databricks.v1+cell": {
     "cellMetadata": {
      "byteLimit": 2048000,
      "rowLimit": 10000
     },
     "inputWidgets": {},
     "nuid": "2fd786e1-b67f-4036-b188-b0203e4369b0",
     "showTitle": false,
     "title": ""
    }
   },
   "outputs": [],
   "source": [
    "#Nuevas columnas dependientes de las de tiempo.\n",
    "df = df.withColumn(\"farebox_per_trip\", df.farebox_per_month / df.trips_per_month)\n",
    "\n",
    "df = df.withColumn(\"farebox_per_vehicle\", df.farebox_per_month / df.unique_vehicles)\n",
    "\n",
    "df = df.withColumn(\"trips_per_month_on_road\", df.trips_per_day * df.avg_days_vehicles_on_road)\n",
    "\n",
    "df = df.withColumn(\"farebox_per_month_on_road\", df.farebox_per_day * df.avg_days_vehicles_on_road)\n",
    "\n",
    "df = df.withColumn(\"daily_farebox_per_trip\", df.farebox_per_day / df.total_trips_per_day)\n",
    "\n",
    "df = df.withColumn(\"daily_farebox_per_vehicle\", df.farebox_per_day / df.vehicles_per_day)\n",
    "\n",
    "df = df.withColumn(\"drivers_vehicles_ratio\", df.unique_drivers / df.unique_vehicles)\n",
    "\n",
    "df = df.withColumn(\"monthly_farebox_per_vehicle_on_road\", df.farebox_per_month_on_road / df.unique_vehicles)\n",
    "\n",
    "df = df.withColumn(\"monthly_farebox_per_trip_on_road\", df.farebox_per_month_on_road / df.trips_per_month_on_road)\n",
    "\n",
    "df = df.withColumn(\"monthly_trips_per_vehicle_on_road\", df.trips_per_month_on_road / df.unique_vehicles)"
   ]
  },
  {
   "cell_type": "markdown",
   "metadata": {
    "application/vnd.databricks.v1+cell": {
     "cellMetadata": {
      "byteLimit": 2048000,
      "rowLimit": 10000
     },
     "inputWidgets": {},
     "nuid": "041fbc4b-4427-4814-bbb4-89f5c49abef0",
     "showTitle": false,
     "title": ""
    }
   },
   "source": [
    "### Carga a SQL Database"
   ]
  },
  {
   "cell_type": "code",
   "execution_count": 0,
   "metadata": {
    "application/vnd.databricks.v1+cell": {
     "cellMetadata": {
      "byteLimit": 2048000,
      "rowLimit": 10000
     },
     "inputWidgets": {},
     "nuid": "214c90b9-5dea-4fa5-ad19-a57d2d705e6e",
     "showTitle": false,
     "title": ""
    }
   },
   "outputs": [],
   "source": [
    "def output_sqldb(batch_df, batch_id):\n",
    "\n",
    "    #Propiedades para la conexión.\n",
    "    jdbcHostname = \"pfservidor.database.windows.net\"\n",
    "    jdbcPort = 1433\n",
    "    jdbcDatabase = \"yellowtaxis\"\n",
    "    jdbcUsername = \"ivnng\"\n",
    "    jdbcPassword = \"henryPF2023\"\n",
    "    jdbcDriver = \"com.microsoft.sqlserver.jdbc.SQLServerDriver\"\n",
    "\n",
    "    jdbcUrl = f\"jdbc:sqlserver://{jdbcHostname}:{jdbcPort};databaseName={jdbcDatabase};user={jdbcUsername};password={jdbcPassword}\"\n",
    "\n",
    "    dbtable = \"monthlyreports\"\n",
    "\n",
    "    #Convertir de PySpark DataFrame a Azure DW...\n",
    "    batch_df.write.format(\"jdbc\").mode(\"append\").option(\"url\", jdbcUrl).option(\"dbtable\", dbtable).save()"
   ]
  },
  {
   "cell_type": "markdown",
   "metadata": {
    "application/vnd.databricks.v1+cell": {
     "cellMetadata": {},
     "inputWidgets": {},
     "nuid": "326efddc-e619-44d3-9a81-afd1bb6871be",
     "showTitle": false,
     "title": ""
    }
   },
   "source": [
    "Auto Loader"
   ]
  },
  {
   "cell_type": "code",
   "execution_count": 0,
   "metadata": {
    "application/vnd.databricks.v1+cell": {
     "cellMetadata": {
      "byteLimit": 2048000,
      "rowLimit": 10000
     },
     "inputWidgets": {},
     "nuid": "46127c53-29e2-47b4-97cb-5005d30def6f",
     "showTitle": false,
     "title": ""
    }
   },
   "outputs": [],
   "source": [
    "stream_out = (df.writeStream\n",
    "                .trigger(once = True)\n",
    "                .foreachBatch(output_sqldb)\n",
    "                .option(\"checkpointLocation\", \"wasbs://reportscheckpoint@pfcrudo.blob.core.windows.net/\")\n",
    "                .start())"
   ]
  }
 ],
 "metadata": {
  "application/vnd.databricks.v1+notebook": {
   "dashboards": [],
   "language": "python",
   "notebookMetadata": {
    "pythonIndentUnit": 4
   },
   "notebookName": "tuberia_mr",
   "notebookOrigID": 2336325142784035,
   "widgets": {}
  }
 },
 "nbformat": 4,
 "nbformat_minor": 0
}
