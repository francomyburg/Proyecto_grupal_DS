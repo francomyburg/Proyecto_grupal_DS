{
 "cells": [
  {
   "attachments": {},
   "cell_type": "markdown",
   "metadata": {},
   "source": [
    "### Green Taxi Trip Records"
   ]
  },
  {
   "cell_type": "code",
   "execution_count": 1,
   "metadata": {},
   "outputs": [],
   "source": [
    "#Importar librerías.\n",
    "import numpy as np\n",
    "import pandas as pd"
   ]
  },
  {
   "cell_type": "code",
   "execution_count": 2,
   "metadata": {},
   "outputs": [],
   "source": [
    "#Leer diccionario con vínculos.\n",
    "diccionario = pd.read_pickle('datos_tlc/tlc_verdes')"
   ]
  },
  {
   "cell_type": "code",
   "execution_count": 3,
   "metadata": {},
   "outputs": [],
   "source": [
    "#Descargar primer tabla (12/2018).\n",
    "exec(diccionario['green_2018_61'])"
   ]
  },
  {
   "cell_type": "code",
   "execution_count": 4,
   "metadata": {},
   "outputs": [
    {
     "name": "stdout",
     "output_type": "stream",
     "text": [
      "<class 'pandas.core.frame.DataFrame'>\n",
      "RangeIndex: 719654 entries, 0 to 719653\n",
      "Data columns (total 20 columns):\n",
      " #   Column                 Non-Null Count   Dtype         \n",
      "---  ------                 --------------   -----         \n",
      " 0   VendorID               719654 non-null  int64         \n",
      " 1   lpep_pickup_datetime   719654 non-null  datetime64[ns]\n",
      " 2   lpep_dropoff_datetime  719654 non-null  datetime64[ns]\n",
      " 3   store_and_fwd_flag     685031 non-null  object        \n",
      " 4   RatecodeID             685031 non-null  float64       \n",
      " 5   PULocationID           719654 non-null  int64         \n",
      " 6   DOLocationID           719654 non-null  int64         \n",
      " 7   passenger_count        685031 non-null  float64       \n",
      " 8   trip_distance          719654 non-null  float64       \n",
      " 9   fare_amount            719654 non-null  float64       \n",
      " 10  extra                  719654 non-null  float64       \n",
      " 11  mta_tax                719654 non-null  float64       \n",
      " 12  tip_amount             719654 non-null  float64       \n",
      " 13  tolls_amount           719654 non-null  float64       \n",
      " 14  ehail_fee              394 non-null     float64       \n",
      " 15  improvement_surcharge  719654 non-null  float64       \n",
      " 16  total_amount           719654 non-null  float64       \n",
      " 17  payment_type           685031 non-null  float64       \n",
      " 18  trip_type              684635 non-null  float64       \n",
      " 19  congestion_surcharge   0 non-null       object        \n",
      "dtypes: datetime64[ns](2), float64(13), int64(3), object(2)\n",
      "memory usage: 109.8+ MB\n"
     ]
    }
   ],
   "source": [
    "#Ver primer tabla (12/2018).\n",
    "green_2018_61.info()"
   ]
  },
  {
   "attachments": {},
   "cell_type": "markdown",
   "metadata": {},
   "source": [
    "Eliminar:\n",
    "* VendorID (Código que indica el proveedor de datos)\n",
    "* store_and_fwd_flag (Indica si el registro del viaje se mantuvo en memoria del vehículo antes de enviarlo al proveedor)\n",
    "* RatecodeID (Código de tarifa final en vigor al final del viaje)\n",
    "* ehail_fee (?)"
   ]
  },
  {
   "cell_type": "code",
   "execution_count": 5,
   "metadata": {},
   "outputs": [],
   "source": [
    "#Eliminar columnas indeseadas.\n",
    "green_2018_61 = green_2018_61.drop(columns = ['VendorID', 'store_and_fwd_flag', 'RatecodeID', 'ehail_fee'])"
   ]
  },
  {
   "attachments": {},
   "cell_type": "markdown",
   "metadata": {},
   "source": [
    "Separar:\n",
    "* lpep_pickup_datetime\n",
    "* lpep_dropoff_datetime\n",
    "\n",
    "En día (YYYY-MM-DD) Hora de pickup Hora de dropoff"
   ]
  },
  {
   "cell_type": "code",
   "execution_count": 6,
   "metadata": {},
   "outputs": [],
   "source": [
    "#Insertar 'pickup_day'.\n",
    "green_2018_61.insert(0, 'pickup_day', green_2018_61['lpep_pickup_datetime'].dt.date)"
   ]
  },
  {
   "cell_type": "code",
   "execution_count": 7,
   "metadata": {},
   "outputs": [],
   "source": [
    "#Insertar 'pickup_time'.\n",
    "green_2018_61.insert(1, 'pickup_time', green_2018_61['lpep_pickup_datetime'].dt.time)"
   ]
  },
  {
   "cell_type": "code",
   "execution_count": 8,
   "metadata": {},
   "outputs": [],
   "source": [
    "#Insertar 'dropoff_day'.\n",
    "green_2018_61.insert(2, 'dropoff_day', green_2018_61['lpep_dropoff_datetime'].dt.date)"
   ]
  },
  {
   "cell_type": "code",
   "execution_count": 9,
   "metadata": {},
   "outputs": [],
   "source": [
    "#Insertar 'dropoff_time'.\n",
    "green_2018_61.insert(3, 'dropoff_time', green_2018_61['lpep_dropoff_datetime'].dt.time)"
   ]
  },
  {
   "cell_type": "code",
   "execution_count": 10,
   "metadata": {},
   "outputs": [],
   "source": [
    "#Eliminar 'lpep_pickup_datetime' y 'lpep_dropoff_datetime'.\n",
    "green_2018_61 = green_2018_61.drop(columns = ['lpep_pickup_datetime', 'lpep_dropoff_datetime'])"
   ]
  },
  {
   "attachments": {},
   "cell_type": "markdown",
   "metadata": {},
   "source": [
    "Identificar valores faltantes."
   ]
  },
  {
   "cell_type": "code",
   "execution_count": 11,
   "metadata": {},
   "outputs": [
    {
     "data": {
      "text/plain": [
       "pickup_day                    0\n",
       "pickup_time                   0\n",
       "dropoff_day                   0\n",
       "dropoff_time                  0\n",
       "PULocationID                  0\n",
       "DOLocationID                  0\n",
       "passenger_count           34623\n",
       "trip_distance                 0\n",
       "fare_amount                   0\n",
       "extra                         0\n",
       "mta_tax                       0\n",
       "tip_amount                    0\n",
       "tolls_amount                  0\n",
       "improvement_surcharge         0\n",
       "total_amount                  0\n",
       "payment_type              34623\n",
       "trip_type                 35019\n",
       "congestion_surcharge     719654\n",
       "dtype: int64"
      ]
     },
     "execution_count": 11,
     "metadata": {},
     "output_type": "execute_result"
    }
   ],
   "source": [
    "#Encontrar null.\n",
    "green_2018_61.isnull().sum()"
   ]
  },
  {
   "cell_type": "code",
   "execution_count": 12,
   "metadata": {},
   "outputs": [],
   "source": [
    "#Sustituir nulos en 'congestion_surcharge' por '0'.\n",
    "green_2018_61['congestion_surcharge'] = green_2018_61['congestion_surcharge'].fillna(value = 0)"
   ]
  },
  {
   "cell_type": "code",
   "execution_count": 13,
   "metadata": {},
   "outputs": [
    {
     "data": {
      "text/plain": [
       "0         0.0\n",
       "1         0.0\n",
       "2         0.0\n",
       "3         0.0\n",
       "4         0.0\n",
       "         ... \n",
       "719649    0.0\n",
       "719650    0.0\n",
       "719651    0.0\n",
       "719652    0.0\n",
       "719653    0.0\n",
       "Name: congestion_surcharge, Length: 719654, dtype: float64"
      ]
     },
     "execution_count": 13,
     "metadata": {},
     "output_type": "execute_result"
    }
   ],
   "source": [
    "#Convertir columna a tipo float.\n",
    "green_2018_61['congestion_surcharge'].astype(float)"
   ]
  },
  {
   "attachments": {},
   "cell_type": "markdown",
   "metadata": {},
   "source": [
    "Al parecer las columnas 'passenger_count' y 'payment_type' tienen la misma cantidad de valores faltantes, así como varias coincidencias de 'trip_type'."
   ]
  },
  {
   "cell_type": "code",
   "execution_count": 14,
   "metadata": {},
   "outputs": [
    {
     "data": {
      "text/plain": [
       "passenger_count    0.0\n",
       "payment_type       0.0\n",
       "trip_type          0.0\n",
       "dtype: float64"
      ]
     },
     "execution_count": 14,
     "metadata": {},
     "output_type": "execute_result"
    }
   ],
   "source": [
    "#Revisar las tres columnas con valores faltantes.\n",
    "(green_2018_61[['passenger_count', 'payment_type', 'trip_type']].query(\"passenger_count.isnull() == True\", inplace = False)).sum()"
   ]
  },
  {
   "attachments": {},
   "cell_type": "markdown",
   "metadata": {},
   "source": [
    "Imputar valores nulos de 'passenger_count' por el promedio redondeado a entero más cercano."
   ]
  },
  {
   "cell_type": "code",
   "execution_count": 15,
   "metadata": {},
   "outputs": [],
   "source": [
    "#Promedio de 'passenger_count'.\n",
    "promedio = np.around(green_2018_61['passenger_count'].mean(), decimals = 0)"
   ]
  },
  {
   "cell_type": "code",
   "execution_count": 16,
   "metadata": {},
   "outputs": [],
   "source": [
    "#Sustituir el promedio en los valores nulos de 'passenger_count'.\n",
    "green_2018_61['passenger_count'].fillna(promedio, inplace = True)"
   ]
  },
  {
   "attachments": {},
   "cell_type": "markdown",
   "metadata": {},
   "source": [
    "Imputar valores nulos de 'payment_type' y 'trip_type' con su respectiva moda."
   ]
  },
  {
   "cell_type": "code",
   "execution_count": 17,
   "metadata": {},
   "outputs": [],
   "source": [
    "#Moda de 'payment_type' y 'trip_type'.\n",
    "moda_payment = green_2018_61['payment_type'].mode().astype(int)\n",
    "moda_trip = green_2018_61['trip_type'].mode().astype(int)"
   ]
  },
  {
   "cell_type": "code",
   "execution_count": 18,
   "metadata": {},
   "outputs": [],
   "source": [
    "#Sustituir la moda en los valores nulos.\n",
    "green_2018_61['payment_type'].fillna(value = moda_payment, inplace = True)\n",
    "green_2018_61['trip_type'].fillna(value = moda_trip, inplace = True)"
   ]
  },
  {
   "attachments": {},
   "cell_type": "markdown",
   "metadata": {},
   "source": [
    "Se rellenan medias y modas para otros posibles nulos:"
   ]
  },
  {
   "cell_type": "code",
   "execution_count": 19,
   "metadata": {},
   "outputs": [],
   "source": [
    "#Calcular medias.\n",
    "media_distance = np.around(green_2018_61['trip_distance'].mean(), decimals = 0)\n",
    "media_fare = np.around(green_2018_61['fare_amount'].mean(), decimals = 0)\n",
    "media_tip = np.around(green_2018_61['tip_amount'].mean(), decimals = 0)\n",
    "media_tolls = np.around(green_2018_61['tolls_amount'].mean(), decimals = 0)\n",
    "media_i_s = np.around(green_2018_61['improvement_surcharge'].mean(), decimals = 0)\n"
   ]
  },
  {
   "cell_type": "code",
   "execution_count": 20,
   "metadata": {},
   "outputs": [],
   "source": [
    "#Sustituir nulos por medias.\n",
    "green_2018_61['trip_distance'].fillna(value = media_distance, inplace = True)\n",
    "green_2018_61['fare_amount'].fillna(value = media_fare, inplace = True)\n",
    "green_2018_61['tip_amount'].fillna(value = media_tip, inplace = True)\n",
    "green_2018_61['tolls_amount'].fillna(value = media_tolls, inplace = True)\n",
    "green_2018_61['improvement_surcharge'].fillna(value = media_i_s, inplace = True)\n"
   ]
  },
  {
   "cell_type": "code",
   "execution_count": 21,
   "metadata": {},
   "outputs": [],
   "source": [
    "#Calcular modas.\n",
    "moda_extra = green_2018_61['extra'].mode().astype(int)\n",
    "moda_tax = green_2018_61['mta_tax'].mode().astype(int)\n"
   ]
  },
  {
   "cell_type": "code",
   "execution_count": 22,
   "metadata": {},
   "outputs": [],
   "source": [
    "#Sustituir nulos por modas.\n",
    "green_2018_61['extra'].fillna(value = moda_extra, inplace = True)\n",
    "green_2018_61['mta_tax'].fillna(value = moda_tax, inplace = True)"
   ]
  }
 ],
 "metadata": {
  "kernelspec": {
   "display_name": ".venv",
   "language": "python",
   "name": "python3"
  },
  "language_info": {
   "codemirror_mode": {
    "name": "ipython",
    "version": 3
   },
   "file_extension": ".py",
   "mimetype": "text/x-python",
   "name": "python",
   "nbconvert_exporter": "python",
   "pygments_lexer": "ipython3",
   "version": "3.11.1"
  },
  "orig_nbformat": 4
 },
 "nbformat": 4,
 "nbformat_minor": 2
}
