{
 "cells": [
  {
   "attachments": {},
   "cell_type": "markdown",
   "metadata": {},
   "source": [
    "# Web Scraping"
   ]
  },
  {
   "attachments": {},
   "cell_type": "markdown",
   "metadata": {},
   "source": [
    "En el caso de la web de TLC están bien definidos los detalles de los archivos a descargar en la liga, así que puede hacerse más sencilla la descarga.\n",
    "Por ejemplo:\n",
    "\n",
    "https://d37ci6vzurychx.cloudfront.net/trip-data/yellow_tripdata_2023-01.parquet\n",
    "\n",
    "\n"
   ]
  },
  {
   "attachments": {},
   "cell_type": "markdown",
   "metadata": {},
   "source": [
    "Para importar librerías que se reinstalan cada vez que se corre el Notebook, se puede usar el comando: %pip\n",
    "\n",
    "Podría usar esto para Beautiful Soup y separar el scraping del resto del ETL, donde sí deberán estar instaladas pandas y numpy."
   ]
  },
  {
   "cell_type": "code",
   "execution_count": null,
   "metadata": {},
   "outputs": [],
   "source": [
    "%pip install beautifulsoup4"
   ]
  },
  {
   "cell_type": "code",
   "execution_count": 7,
   "metadata": {},
   "outputs": [],
   "source": [
    "#Librerías para todo el clúster.\n",
    "import numpy as np\n",
    "import pandas as pd\n",
    "\n",
    "#Librerías para el notebook.\n",
    "from bs4 import BeautifulSoup\n",
    "import requests\n",
    "import datetime\n",
    "import pickle"
   ]
  },
  {
   "cell_type": "code",
   "execution_count": 8,
   "metadata": {},
   "outputs": [],
   "source": [
    "#URL de Fuente: TLC Trip Record Data\n",
    "tlc_url = \"https://www.nyc.gov/site/tlc/about/tlc-trip-record-data.page\"\n",
    "\n",
    "#Solicitar URL y obtener objeto de respuesta.\n",
    "tlc_respuesta = requests.get(tlc_url)\n",
    "\n",
    "#Analizar el texto obtenido.\n",
    "tlc_sopa = BeautifulSoup(tlc_respuesta.text, 'html.parser')\n",
    "\n",
    "#Encontrar todos los hipervínculos presentes en la página web.\n",
    "tlc_vinculos = tlc_sopa.find_all('a')"
   ]
  },
  {
   "cell_type": "code",
   "execution_count": 9,
   "metadata": {},
   "outputs": [
    {
     "name": "stdout",
     "output_type": "stream",
     "text": [
      "01\n"
     ]
    }
   ],
   "source": [
    "#Prueba.\n",
    "hipervinculo = 'https://d37ci6vzurychx.cloudfront.net/trip-data/yellow_tripdata_2023-01.parquet'\n",
    "print(hipervinculo[69]+hipervinculo[70])"
   ]
  },
  {
   "attachments": {},
   "cell_type": "markdown",
   "metadata": {},
   "source": [
    "Puedo dejar el código muy parecido para una descarga inicial estática (2022-2023) y programo otra sección para que descargue sólo los nuevos documentos (¿cómo?)."
   ]
  },
  {
   "cell_type": "code",
   "execution_count": 10,
   "metadata": {},
   "outputs": [
    {
     "name": "stdout",
     "output_type": "stream",
     "text": [
      "Elemento 1 leído.\n",
      "Elemento 1 escrito en diccionario.\n",
      "Elemento 2 leído.\n",
      "Elemento 2 escrito en diccionario.\n",
      "Elemento 3 leído.\n",
      "Elemento 3 escrito en diccionario.\n",
      "Elemento 4 leído.\n",
      "Elemento 4 escrito en diccionario.\n",
      "Elemento 5 leído.\n",
      "Elemento 5 escrito en diccionario.\n",
      "Elemento 6 leído.\n",
      "Elemento 6 escrito en diccionario.\n",
      "Elemento 7 leído.\n",
      "Elemento 7 escrito en diccionario.\n",
      "Elemento 8 leído.\n",
      "Elemento 8 escrito en diccionario.\n",
      "Elemento 9 leído.\n",
      "Elemento 9 escrito en diccionario.\n",
      "Elemento 10 leído.\n",
      "Elemento 10 escrito en diccionario.\n",
      "Elemento 11 leído.\n",
      "Elemento 11 escrito en diccionario.\n",
      "Elemento 12 leído.\n",
      "Elemento 12 escrito en diccionario.\n",
      "Todos los elementos se escribieron en el diccionario amarillo.\n",
      "Elemento 1 leído.\n",
      "Elemento 1 escrito en diccionario.\n",
      "Elemento 2 leído.\n",
      "Elemento 2 escrito en diccionario.\n",
      "Elemento 3 leído.\n",
      "Elemento 3 escrito en diccionario.\n",
      "Elemento 4 leído.\n",
      "Elemento 4 escrito en diccionario.\n",
      "Elemento 5 leído.\n",
      "Elemento 5 escrito en diccionario.\n",
      "Elemento 6 leído.\n",
      "Elemento 6 escrito en diccionario.\n",
      "Elemento 7 leído.\n",
      "Elemento 7 escrito en diccionario.\n",
      "Elemento 8 leído.\n",
      "Elemento 8 escrito en diccionario.\n",
      "Elemento 9 leído.\n",
      "Elemento 9 escrito en diccionario.\n",
      "Elemento 10 leído.\n",
      "Elemento 10 escrito en diccionario.\n",
      "Elemento 11 leído.\n",
      "Elemento 11 escrito en diccionario.\n",
      "Elemento 12 leído.\n",
      "Elemento 12 escrito en diccionario.\n",
      "Todos los elementos se escribieron en el diccionario verde.\n",
      "Elemento 1 leído.\n",
      "Elemento 1 escrito en diccionario.\n",
      "Elemento 2 leído.\n",
      "Elemento 2 escrito en diccionario.\n",
      "Elemento 3 leído.\n",
      "Elemento 3 escrito en diccionario.\n",
      "Elemento 4 leído.\n",
      "Elemento 4 escrito en diccionario.\n",
      "Elemento 5 leído.\n",
      "Elemento 5 escrito en diccionario.\n",
      "Elemento 6 leído.\n",
      "Elemento 6 escrito en diccionario.\n",
      "Elemento 7 leído.\n",
      "Elemento 7 escrito en diccionario.\n",
      "Elemento 8 leído.\n",
      "Elemento 8 escrito en diccionario.\n",
      "Elemento 9 leído.\n",
      "Elemento 9 escrito en diccionario.\n",
      "Elemento 10 leído.\n",
      "Elemento 10 escrito en diccionario.\n",
      "Elemento 11 leído.\n",
      "Elemento 11 escrito en diccionario.\n",
      "Elemento 12 leído.\n",
      "Elemento 12 escrito en diccionario.\n",
      "Todos los elementos se escribieron en el diccionario de FHV.\n"
     ]
    }
   ],
   "source": [
    "#Descarga inicial.\n",
    "#Yellow Taxi Trip Records.\n",
    "\n",
    "años = ['2022']\n",
    "\n",
    "i = 0\n",
    "d_amarillo = {}\n",
    "dh_amarillo = {}\n",
    "\n",
    "for vinculo in tlc_vinculos:\n",
    "    if(\n",
    "        ('yellow' in vinculo.get('href', [])) and\n",
    "        ('.parquet' in vinculo.get('href', []))\n",
    "    ):\n",
    "        for año in años:\n",
    "            if (año in vinculo.get('href', [])):\n",
    "                i += 1\n",
    "                hipervinculo = vinculo.get('href', [])\n",
    "                mes = hipervinculo[69]+hipervinculo[70]\n",
    "                print('Elemento', i, 'leído.')\n",
    "                #Leer el vínculo y asignarlo a un diccionario.\n",
    "                d_amarillo[\"yellow_{0}_{1}\".format(año, mes)] = \"yellow_{0}_{1} = pd.read_parquet('{2}')\".format(año, mes, hipervinculo)\n",
    "                print('Elemento', i, 'escrito en diccionario.')\n",
    "\n",
    "print('Todos los elementos se escribieron en el diccionario amarillo.')\n",
    "\n",
    "#Green Taxi Trip Records.\n",
    "\n",
    "i = 0\n",
    "d_verde = {}\n",
    "dh_verde = {}\n",
    "\n",
    "for vinculo in tlc_vinculos:\n",
    "    if(\n",
    "        ('green' in vinculo.get('href', [])) and\n",
    "        ('.parquet' in vinculo.get('href', []))\n",
    "    ):\n",
    "        for año in años:\n",
    "            if (año in vinculo.get('href', [])):\n",
    "                i += 1\n",
    "                hipervinculo = vinculo.get('href', [])\n",
    "                mes = hipervinculo[69]+hipervinculo[70]\n",
    "                print('Elemento', i, 'leído.')\n",
    "                #Leer el vínculo y asignarlo a un diccionario.\n",
    "                d_verde[\"green_{0}_{1}\".format(año, mes)] = \"green_{0}_{1} = pd.read_parquet('{2}')\".format(año, mes, hipervinculo)\n",
    "                print('Elemento', i, 'escrito en diccionario.')\n",
    "                \n",
    "print('Todos los elementos se escribieron en el diccionario verde.')\n",
    "\n",
    "#High Volume For-Hire Taxi Trip Records.\n",
    "\n",
    "i = 0\n",
    "d_fhv = {}\n",
    "dh_fhv = {}\n",
    "\n",
    "for vinculo in tlc_vinculos:\n",
    "    if(\n",
    "        ('fhvhv' in vinculo.get('href', [])) and\n",
    "        ('.parquet' in vinculo.get('href', []))\n",
    "    ):\n",
    "        for año in años:\n",
    "            if (año in vinculo.get('href', [])):\n",
    "                i += 1\n",
    "                hipervinculo = vinculo.get('href', [])\n",
    "                mes = hipervinculo[69]+hipervinculo[70]\n",
    "                print('Elemento', i, 'leído.')\n",
    "                #Leer el vínculo y asignarlo a un diccionario.\n",
    "                d_fhv[\"fhv_{0}_{1}\".format(año, mes)] = \"fhv_{0}_{1} = pd.read_parquet('{2}')\".format(año, mes, hipervinculo)\n",
    "                print('Elemento', i, 'escrito en diccionario.')\n",
    "                \n",
    "print('Todos los elementos se escribieron en el diccionario de FHV.')"
   ]
  },
  {
   "cell_type": "code",
   "execution_count": 11,
   "metadata": {},
   "outputs": [
    {
     "name": "stdout",
     "output_type": "stream",
     "text": [
      "yellow_2022_01 = pd.read_parquet('https://d37ci6vzurychx.cloudfront.net/trip-data/yellow_tripdata_2022-01.parquet')\n",
      "yellow_2022_01\n",
      "yellow_2022_02 = pd.read_parquet('https://d37ci6vzurychx.cloudfront.net/trip-data/yellow_tripdata_2022-02.parquet')\n",
      "yellow_2022_02\n",
      "yellow_2022_03 = pd.read_parquet('https://d37ci6vzurychx.cloudfront.net/trip-data/yellow_tripdata_2022-03.parquet')\n",
      "yellow_2022_03\n",
      "yellow_2022_04 = pd.read_parquet('https://d37ci6vzurychx.cloudfront.net/trip-data/yellow_tripdata_2022-04.parquet')\n",
      "yellow_2022_04\n",
      "yellow_2022_05 = pd.read_parquet('https://d37ci6vzurychx.cloudfront.net/trip-data/yellow_tripdata_2022-05.parquet')\n",
      "yellow_2022_05\n",
      "yellow_2022_06 = pd.read_parquet('https://d37ci6vzurychx.cloudfront.net/trip-data/yellow_tripdata_2022-06.parquet')\n",
      "yellow_2022_06\n",
      "yellow_2022_07 = pd.read_parquet('https://d37ci6vzurychx.cloudfront.net/trip-data/yellow_tripdata_2022-07.parquet')\n",
      "yellow_2022_07\n",
      "yellow_2022_08 = pd.read_parquet('https://d37ci6vzurychx.cloudfront.net/trip-data/yellow_tripdata_2022-08.parquet')\n",
      "yellow_2022_08\n",
      "yellow_2022_09 = pd.read_parquet('https://d37ci6vzurychx.cloudfront.net/trip-data/yellow_tripdata_2022-09.parquet')\n",
      "yellow_2022_09\n",
      "yellow_2022_10 = pd.read_parquet('https://d37ci6vzurychx.cloudfront.net/trip-data/yellow_tripdata_2022-10.parquet')\n",
      "yellow_2022_10\n",
      "yellow_2022_11 = pd.read_parquet('https://d37ci6vzurychx.cloudfront.net/trip-data/yellow_tripdata_2022-11.parquet')\n",
      "yellow_2022_11\n",
      "yellow_2022_12 = pd.read_parquet('https://d37ci6vzurychx.cloudfront.net/trip-data/yellow_tripdata_2022-12.parquet')\n",
      "yellow_2022_12\n"
     ]
    }
   ],
   "source": [
    "#Leer de los diccionarios.\n",
    "\n",
    "for variable in d_amarillo.values():\n",
    "    print(variable)\n",
    "    #exec(variable)\n",
    "    for clave, valor in d_amarillo.items():\n",
    "        if variable == valor:\n",
    "            print(clave)\n",
    "            #Código para exportar al almacenamiento previo (antes de transformar)\n",
    "            #df.to_parquet(f\"/dbfs/mnt/raw/raw/taxi/{clave}\")"
   ]
  },
  {
   "attachments": {},
   "cell_type": "markdown",
   "metadata": {},
   "source": [
    "**Copiar y pegar lo que se resuelva de lo anterior para todos los diccionarios. Así se exportan todos los contenidos de dataframe a archivo parquet en el almacenamiento.**"
   ]
  },
  {
   "cell_type": "code",
   "execution_count": null,
   "metadata": {},
   "outputs": [],
   "source": [
    "#Exportar archivos pickles de los diccionarios de referencia al directorio del almacenamiento conveniente.\n",
    "try:\n",
    "    directorio_diccionarios = \"\"\n",
    "    amarillo = open(directorio_diccionarios, 'wb')\n",
    "    pickle.dump(d_amarillo, amarillo)\n",
    "    amarillo.close()\n",
    "except:\n",
    "    print('Algo salió mal al exportar el diccionario amarillo.')\n"
   ]
  },
  {
   "attachments": {},
   "cell_type": "markdown",
   "metadata": {},
   "source": [
    "Lo siguiente es hacer el código que se ejecutará cada mes (configurado en databricks), para actualizar los diccionarios y descargar el nuevo dataframe. (Este es otro Notebook)"
   ]
  },
  {
   "cell_type": "code",
   "execution_count": null,
   "metadata": {},
   "outputs": [],
   "source": [
    "#Se repite la celda en otro Notebook para leer los vínculos del website.\n",
    "\n",
    "#URL de Fuente: TLC Trip Record Data\n",
    "tlc_url = \"https://www.nyc.gov/site/tlc/about/tlc-trip-record-data.page\"\n",
    "\n",
    "#Solicitar URL y obtener objeto de respuesta.\n",
    "tlc_respuesta = requests.get(tlc_url)\n",
    "\n",
    "#Analizar el texto obtenido.\n",
    "tlc_sopa = BeautifulSoup(tlc_respuesta.text, 'html.parser')\n",
    "\n",
    "#Encontrar todos los hipervínculos presentes en la página web.\n",
    "tlc_vinculos = tlc_sopa.find_all('a')"
   ]
  },
  {
   "cell_type": "code",
   "execution_count": null,
   "metadata": {},
   "outputs": [],
   "source": [
    "#Leer diccionarios de referencia.\n",
    "directorio_diccionarios = \"\"\n",
    "d_amarillo = pd.read_pickle(directorio_diccionarios)"
   ]
  },
  {
   "cell_type": "code",
   "execution_count": 12,
   "metadata": {},
   "outputs": [],
   "source": [
    "#Obtener el año en curso.\n",
    "date = datetime.date.today()\n",
    "año = '{0}'.format(date.year)"
   ]
  },
  {
   "cell_type": "code",
   "execution_count": 13,
   "metadata": {},
   "outputs": [
    {
     "name": "stdout",
     "output_type": "stream",
     "text": [
      "2023\n"
     ]
    }
   ],
   "source": [
    "#Prueba.\n",
    "texto = \"yellow_2023_01 = pd.read_parquet('https://d37ci6vzurychx.cloudfront.net/trip-data/yellow_tripdata_2023-01.parquet')\"\n",
    "print(texto[7]+texto[8]+texto[9]+texto[10])"
   ]
  },
  {
   "cell_type": "code",
   "execution_count": 17,
   "metadata": {},
   "outputs": [
    {
     "data": {
      "text/plain": [
       "'yellow_2023_01'"
      ]
     },
     "execution_count": 17,
     "metadata": {},
     "output_type": "execute_result"
    }
   ],
   "source": [
    "list(d_amarillo)[-1]"
   ]
  },
  {
   "cell_type": "code",
   "execution_count": 19,
   "metadata": {},
   "outputs": [],
   "source": [
    "#Comparar con diccionario actual. Agregar (y exportar) sólo nueva variable.\n",
    "for vinculo in tlc_vinculos:\n",
    "    if(\n",
    "        'yellow' in vinculo.get('href', []) and\n",
    "        '.parquet' in vinculo.get('href', [])\n",
    "    ):\n",
    "        if (\n",
    "            año in vinculo.get('href', [])\n",
    "        ):\n",
    "            hipervinculo = vinculo.get('href', [])\n",
    "            mes = hipervinculo[69]+hipervinculo[70]\n",
    "\n",
    "            #Leer el vínculo y compararlo con las otras entradas del diccionario.\n",
    "\n",
    "            for clave, valor in d_amarillo.items():\n",
    "                valor_año = valor[7]+valor[8]+valor[9]+valor[10]\n",
    "                valor_mes = valor[13]+valor[14]\n",
    "                \n",
    "                if (\n",
    "                    (año == valor_año) and\n",
    "                    (mes == valor_mes)\n",
    "                ):\n",
    "                    equal = True\n",
    "                    break\n",
    "                else:\n",
    "                    equal = False\n",
    "\n",
    "            if (equal == False):\n",
    "                #Agregar entrada nueva al diccionario.\n",
    "                d_amarillo[\"yellow_{0}_{1}\".format(año, mes)] = \"yellow_{0}_{1} = pd.read_parquet('{2}')\".format(año, mes, hipervinculo)\n",
    "\n",
    "                #Exportar diccionario actualizado a almacenamiento conveniente.\n",
    "                #amarillo = open(directorio_diccionarios, 'wb')\n",
    "                #pickle.dump(d_amarillo, amarillo)\n",
    "                #amarillo.close()\n",
    "\n",
    "                #Exportar nuevo archivo parquet (tabla) a almacenamiento previo (raw).\n",
    "                #Ejecutar el comando\n",
    "                exec(d_amarillo[\"yellow_{0}_{1}\".format(año, mes)])\n",
    "\n",
    "                #Pasar dataframe a parquet en la ubicación\n",
    "                vars()[list(d_amarillo)[-1]].to_parquet(\"yellow_{0}_{1}\".format(año, mes))\n",
    "                #vars()[list(d_amarillo)[-1]].to_parquet(f\"/dbfs/mnt/raw/raw/taxi/yellow_{año}_{mes}\")\n",
    "\n",
    "#food = 'bread'\n",
    "#vars()[food] = 123\n",
    "#print bread  # --> 123"
   ]
  }
 ],
 "metadata": {
  "kernelspec": {
   "display_name": ".venv",
   "language": "python",
   "name": "python3"
  },
  "language_info": {
   "codemirror_mode": {
    "name": "ipython",
    "version": 3
   },
   "file_extension": ".py",
   "mimetype": "text/x-python",
   "name": "python",
   "nbconvert_exporter": "python",
   "pygments_lexer": "ipython3",
   "version": "3.11.1"
  },
  "orig_nbformat": 4
 },
 "nbformat": 4,
 "nbformat_minor": 2
}
