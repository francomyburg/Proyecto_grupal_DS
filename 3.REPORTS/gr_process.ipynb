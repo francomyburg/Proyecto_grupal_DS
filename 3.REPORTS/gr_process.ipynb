{
 "cells": [
  {
   "cell_type": "code",
   "execution_count": 1,
   "id": "c0ef9b01",
   "metadata": {},
   "outputs": [],
   "source": [
    "import pandas as pd\n",
    "import datetime as dt\n",
    "import gradio as gr\n"
   ]
  },
  {
   "cell_type": "code",
   "execution_count": 2,
   "id": "d6d1fc76",
   "metadata": {},
   "outputs": [],
   "source": [
    "import warnings \n",
    "pd.options.mode.chained_assignment = None # se desactiva advertencias de pandas por la edición_sobrescritura"
   ]
  },
  {
   "cell_type": "code",
   "execution_count": 3,
   "id": "74bedf3a",
   "metadata": {},
   "outputs": [],
   "source": [
    "# Lectura manual\n",
    "data=pd.read_csv(\"../data/Automated_Traffic_Volume_Counts.csv\")\n",
    "air_quality=pd.read_csv(\"../data/finale_dataset/air_pollution.csv\")"
   ]
  },
  {
   "cell_type": "markdown",
   "id": "e08cbd29",
   "metadata": {},
   "source": [
    "## Calidad de aire en PM 2,5"
   ]
  },
  {
   "cell_type": "markdown",
   "id": "b735038f",
   "metadata": {},
   "source": [
    "Se calcula el PM 2,5 particulado promedio de cada borough de todos los años de análisis"
   ]
  },
  {
   "cell_type": "code",
   "execution_count": 4,
   "id": "eb83b2e4",
   "metadata": {},
   "outputs": [],
   "source": [
    "air_quality=air_quality[air_quality['polluting_agent'] == 'PM 2.5 (µg/cm3)'].reset_index()\n"
   ]
  },
  {
   "cell_type": "code",
   "execution_count": 5,
   "id": "29fffb47",
   "metadata": {},
   "outputs": [
    {
     "data": {
      "text/html": [
       "<div>\n",
       "<style scoped>\n",
       "    .dataframe tbody tr th:only-of-type {\n",
       "        vertical-align: middle;\n",
       "    }\n",
       "\n",
       "    .dataframe tbody tr th {\n",
       "        vertical-align: top;\n",
       "    }\n",
       "\n",
       "    .dataframe thead th {\n",
       "        text-align: right;\n",
       "    }\n",
       "</style>\n",
       "<table border=\"1\" class=\"dataframe\">\n",
       "  <thead>\n",
       "    <tr style=\"text-align: right;\">\n",
       "      <th></th>\n",
       "      <th>borough_name</th>\n",
       "      <th>data_value</th>\n",
       "    </tr>\n",
       "  </thead>\n",
       "  <tbody>\n",
       "    <tr>\n",
       "      <th>0</th>\n",
       "      <td>bronx</td>\n",
       "      <td>9.709606</td>\n",
       "    </tr>\n",
       "    <tr>\n",
       "      <th>1</th>\n",
       "      <td>brooklyn</td>\n",
       "      <td>9.263040</td>\n",
       "    </tr>\n",
       "    <tr>\n",
       "      <th>2</th>\n",
       "      <td>manhattan</td>\n",
       "      <td>10.874167</td>\n",
       "    </tr>\n",
       "    <tr>\n",
       "      <th>3</th>\n",
       "      <td>queens</td>\n",
       "      <td>8.929167</td>\n",
       "    </tr>\n",
       "    <tr>\n",
       "      <th>4</th>\n",
       "      <td>staten island</td>\n",
       "      <td>8.486759</td>\n",
       "    </tr>\n",
       "  </tbody>\n",
       "</table>\n",
       "</div>"
      ],
      "text/plain": [
       "    borough_name  data_value\n",
       "0          bronx    9.709606\n",
       "1       brooklyn    9.263040\n",
       "2      manhattan   10.874167\n",
       "3         queens    8.929167\n",
       "4  staten island    8.486759"
      ]
     },
     "execution_count": 5,
     "metadata": {},
     "output_type": "execute_result"
    }
   ],
   "source": [
    "air_quality.groupby(['borough_name'])['data_value'].mean().reset_index()"
   ]
  },
  {
   "cell_type": "markdown",
   "id": "b7b40d38",
   "metadata": {},
   "source": [
    "## Volumen de trafico "
   ]
  },
  {
   "cell_type": "markdown",
   "id": "839cdb44",
   "metadata": {},
   "source": [
    "Se calcula el volumen de trafico de todos los años de análisis para cada borough"
   ]
  },
  {
   "cell_type": "code",
   "execution_count": 6,
   "id": "ee027d7d",
   "metadata": {},
   "outputs": [],
   "source": [
    "# Se renombra columnas\n",
    "\n",
    "data = data.rename(columns={'Yr': 'year', 'M': 'month','D': 'day' })\n",
    "\n",
    "# Se crea columna 'date'\n",
    "\n",
    "data['date'] = pd.to_datetime(data[['year', 'month', 'day']])\n",
    "\n"
   ]
  },
  {
   "cell_type": "code",
   "execution_count": 7,
   "id": "7b805fdb",
   "metadata": {},
   "outputs": [],
   "source": [
    "# Se toman las variables necesarias\n",
    "\n",
    "data_new=data[['Boro','date','Vol','WktGeom']]\n",
    "\n",
    "# Se renombra columnas\n",
    "\n",
    "data_new.columns=['borough', 'date', 'volume', 'WktGeom']\n",
    "\n",
    "# se establece rango desde 2010 al 2020\n",
    "data_new=data_new.loc[data['date'] > '2010-01-01']\n",
    "\n",
    "# Se modifica la columna 'Date' en formato año\n",
    "\n",
    "data_new['date']=data_new['date'].dt.year"
   ]
  },
  {
   "cell_type": "code",
   "execution_count": 8,
   "id": "c1bb803b",
   "metadata": {},
   "outputs": [
    {
     "data": {
      "text/html": [
       "<div>\n",
       "<style scoped>\n",
       "    .dataframe tbody tr th:only-of-type {\n",
       "        vertical-align: middle;\n",
       "    }\n",
       "\n",
       "    .dataframe tbody tr th {\n",
       "        vertical-align: top;\n",
       "    }\n",
       "\n",
       "    .dataframe thead th {\n",
       "        text-align: right;\n",
       "    }\n",
       "</style>\n",
       "<table border=\"1\" class=\"dataframe\">\n",
       "  <thead>\n",
       "    <tr style=\"text-align: right;\">\n",
       "      <th></th>\n",
       "      <th>borough</th>\n",
       "      <th>volume</th>\n",
       "    </tr>\n",
       "  </thead>\n",
       "  <tbody>\n",
       "    <tr>\n",
       "      <th>2</th>\n",
       "      <td>Manhattan</td>\n",
       "      <td>58420.411266</td>\n",
       "    </tr>\n",
       "    <tr>\n",
       "      <th>3</th>\n",
       "      <td>Queens</td>\n",
       "      <td>54046.743319</td>\n",
       "    </tr>\n",
       "    <tr>\n",
       "      <th>1</th>\n",
       "      <td>Brooklyn</td>\n",
       "      <td>49682.108176</td>\n",
       "    </tr>\n",
       "    <tr>\n",
       "      <th>0</th>\n",
       "      <td>Bronx</td>\n",
       "      <td>31839.043899</td>\n",
       "    </tr>\n",
       "    <tr>\n",
       "      <th>4</th>\n",
       "      <td>Staten Island</td>\n",
       "      <td>8962.459457</td>\n",
       "    </tr>\n",
       "  </tbody>\n",
       "</table>\n",
       "</div>"
      ],
      "text/plain": [
       "         borough        volume\n",
       "2      Manhattan  58420.411266\n",
       "3         Queens  54046.743319\n",
       "1       Brooklyn  49682.108176\n",
       "0          Bronx  31839.043899\n",
       "4  Staten Island   8962.459457"
      ]
     },
     "execution_count": 8,
     "metadata": {},
     "output_type": "execute_result"
    }
   ],
   "source": [
    "# Se agrupa por la posiccion geografica con la media para calcular el volumen de trafico\n",
    "\n",
    "data_new=data_new.groupby(['WktGeom', 'date', 'borough'])['volume'].mean().reset_index()\n",
    "\n",
    "# Se agrupa por año y por borough\n",
    "\n",
    "data_new=data_new.groupby(['date', 'borough'])['volume'].sum().reset_index().sort_values('volume', ascending=False)\n",
    "data_new.groupby('borough')['volume'].mean().reset_index().sort_values('volume', ascending=False)"
   ]
  },
  {
   "cell_type": "markdown",
   "id": "518d41c8",
   "metadata": {},
   "source": [
    "De la contaminación al aire por PM 2,5 en NYC el sector de tráfico genera el 17%.<br>\n",
    "Del sector de tráfico los carros generan un 5%, y los camiones 12%. \n",
    "\n",
    "https://a816-dohbesp.nyc.gov/IndicatorPublic/Traffic/index.html"
   ]
  },
  {
   "cell_type": "code",
   "execution_count": 9,
   "id": "2b874a7e",
   "metadata": {},
   "outputs": [],
   "source": [
    "# Funcion para calcular el % de disminucion de contaminación al aire por PM 2,5  en el sector de automoviles \n",
    "\n",
    "def kpi_brooklyn(carros):\n",
    "    \n",
    "    volume_brooklyn = 58420 * 4 * 24\n",
    "    pm_brooklyn = 9.26\n",
    "    pm_brooklyn=pm_brooklyn*0.05\n",
    "   \n",
    "    new_volume_brooklyn = (volume_brooklyn-(carros*4*24))\n",
    "    new_pm_brooklyn= (new_volume_brooklyn*pm_brooklyn)/volume_brooklyn\n",
    "    ptc_disminuye = (new_pm_brooklyn - pm_brooklyn)/pm_brooklyn\n",
    "    brooklyn=round(-100*ptc_disminuye,2)\n",
    "    \n",
    "    return brooklyn\n",
    "\n",
    "    \n",
    "def kpi_manhattan(carros):\n",
    "    \n",
    "    volume_manhattan = 49682 * 4 * 24\n",
    "    pm_manhattan = 11\n",
    "    pm_manhattan=pm_manhattan*0.05\n",
    "   \n",
    "    new_volume_manhattan = (volume_manhattan-(carros*4*24))\n",
    "    new_pm_manhattan= (new_volume_manhattan*pm_manhattan)/volume_manhattan\n",
    "    ptc_disminuye = (new_pm_manhattan - pm_manhattan)/pm_manhattan\n",
    "    manhattan=round(-100*ptc_disminuye,2)\n",
    "    \n",
    "    return manhattan\n",
    "    \n",
    "\n",
    "def kpi_queen(carros):\n",
    "    volume_queen = 54046 * 4 * 24\n",
    "    pm_queen = 9\n",
    "    pm_queen=pm_queen*0.05\n",
    "   \n",
    "    new_volume_queen = (volume_queen-(carros*4*24))\n",
    "    new_pm_queen= (new_volume_queen*pm_queen)/volume_queen\n",
    "    ptc_disminuye = (new_pm_queen - pm_queen)/pm_queen\n",
    "    queen=round(-100*ptc_disminuye,2)\n",
    "    \n",
    "       \n",
    "    return queen\n",
    "\n",
    "def kpi_staten_island(carros):\n",
    "    volume_staten_island = 8962 * 4 * 24\n",
    "    pm_staten_island = 8.5\n",
    "    pm_staten_island=pm_staten_island*0.05\n",
    "   \n",
    "    new_volume_staten_island = (volume_staten_island-(carros*4*24))\n",
    "    new_pm_staten_island= (new_volume_staten_island*pm_staten_island)/volume_staten_island\n",
    "    ptc_disminuye = (new_pm_staten_island - pm_staten_island)/pm_staten_island\n",
    "    staten_island=round(-100*ptc_disminuye,2)\n",
    "    \n",
    "    return staten_island\n",
    "\n",
    "def kpi_the_bronx(carros):\n",
    "    \n",
    "    volume_the_bronx = 31839 * 4 * 24\n",
    "    pm_the_bronx = 9.7\n",
    "    pm_the_bronx=pm_the_bronx*0.05\n",
    "   \n",
    "    new_volume_bronx = (volume_the_bronx-(carros*4*24))\n",
    "    new_pm_the_bronx= (new_volume_bronx*pm_the_bronx)/volume_the_bronx\n",
    "    ptc_disminuye = (new_pm_the_bronx - pm_the_bronx)/pm_the_bronx\n",
    "    the_bronx=round(-100*ptc_disminuye,2)\n",
    "    \n",
    "    return the_bronx\n",
    "\n",
    "def taxis(carros):\n",
    "    \n",
    "    volume_taxi = 7737\n",
    "    pm_nyc = 0.47\n",
    "  \n",
    "   \n",
    "    new_volume_taxi = (volume_taxi-carros)\n",
    "    new_pm_nyc= (new_volume_taxi*pm_nyc)/volume_taxi\n",
    "    ptc_disminuye = (new_pm_nyc - pm_nyc)/pm_nyc\n",
    "    taxis=round(-100*ptc_disminuye,2)\n",
    "    \n",
    "    return taxis\n",
    "    \n",
    "\n",
    "def disminucion_sector_automoviles(carros):\n",
    "    kpi_b = kpi_brooklyn(carros)\n",
    "    kpi_m = kpi_manhattan(carros)\n",
    "    kpi_q = kpi_queen(carros)\n",
    "    kpi_s = kpi_staten_island(carros)\n",
    "    kpi_bx= kpi_the_bronx(carros)\n",
    "    kpi_taxis= taxis(carros)\n",
    "    \n",
    "    indicador=f\"{int(carros)} carros eléctricos disminuyen la contaminación al aire por PM 2,5 generada por el sector de los automoviles en: \\n {kpi_b}% en Brooklyn. \\n {kpi_m}% en Manhattan. \\n {kpi_q}% en Quenns. \\n {kpi_s}% Staten en Islands \\n {kpi_bx}% en Bronx. \\n \\n{int(carros)} taxis eléctricos disminuyen un {kpi_taxis}% de la contaminacón al aire por PM 2,5 generada por el sector de taxis en NYC\"\n",
    "    return indicador"
   ]
  },
  {
   "cell_type": "code",
   "execution_count": 10,
   "id": "5cbba7f6",
   "metadata": {},
   "outputs": [
    {
     "data": {
      "text/plain": [
       "'7000 carros eléctricos disminuyen la contaminación al aire por PM 2,5 generada por el sector de los automoviles en: \\n 11.98% en Brooklyn. \\n 14.09% en Manhattan. \\n 12.95% en Quenns. \\n 78.11% Staten en Islands \\n 21.99% en Bronx. \\n \\n7000 taxis eléctricos disminuyen un 90.47% de la contaminacón al aire por PM 2,5 generada por el sector de taxis en NYC'"
      ]
     },
     "execution_count": 10,
     "metadata": {},
     "output_type": "execute_result"
    }
   ],
   "source": [
    "disminucion_sector_automoviles(7000)"
   ]
  },
  {
   "cell_type": "code",
   "execution_count": 12,
   "id": "bd341565",
   "metadata": {},
   "outputs": [
    {
     "name": "stdout",
     "output_type": "stream",
     "text": [
      "Running on local URL:  http://127.0.0.1:7861\n",
      "Running on public URL: https://248cbe862164dc2c09.gradio.live\n",
      "\n",
      "This share link expires in 72 hours. For free permanent hosting and GPU upgrades (NEW!), check out Spaces: https://huggingface.co/spaces\n"
     ]
    },
    {
     "data": {
      "text/html": [
       "<div><iframe src=\"https://248cbe862164dc2c09.gradio.live\" width=\"100%\" height=\"500\" allow=\"autoplay; camera; microphone; clipboard-read; clipboard-write;\" frameborder=\"0\" allowfullscreen></iframe></div>"
      ],
      "text/plain": [
       "<IPython.core.display.HTML object>"
      ]
     },
     "metadata": {},
     "output_type": "display_data"
    },
    {
     "data": {
      "text/plain": []
     },
     "execution_count": 12,
     "metadata": {},
     "output_type": "execute_result"
    }
   ],
   "source": [
    "import gradio as gr\n",
    "\n",
    "title = \"REPORTE MEDIOAMBIENTAL\"\n",
    "table_html = \"\"\"\n",
    "   <table>\n",
    "  <tr>\n",
    "    <th>borough</th>\n",
    "    <th>Pm 2,5</th>\n",
    "  </tr>\n",
    "  <tr>\n",
    "    <td>bronx</td>\n",
    "    <td>9.7</td>\n",
    "  </tr>\n",
    "  <tr>\n",
    "    <td>brooklyn</td>\n",
    "    <td>9.3</td>\n",
    "  </tr>\n",
    "  <tr>\n",
    "    <td>manhattan</td>\n",
    "    <td>10.9</td>\n",
    "  </tr>\n",
    "  <tr>\n",
    "    <td>queens</td>\n",
    "    <td>8.9</td>\n",
    "  </tr>\n",
    "  <tr>\n",
    "    <td>staten island</td>\n",
    "    <td>8.5</td>\n",
    "  </tr>\n",
    "</table>\n",
    "\n",
    "\"\"\"\n",
    "\n",
    "with gr.Blocks(title=title) as demo:\n",
    "    text = gr.components.HTML(\"\"\"\n",
    "        <h1>Indicadores Ambientales</h1>\n",
    "        <h2>Contaminación al aire</h2>\n",
    "        \n",
    "        <p> La contaminación al aire por PM 2.5 Promedio al año en los distintos distritos de New York es:\n",
    "        \n",
    "        \n",
    "        \"\"\" + table_html + \"\"\"\n",
    "        \n",
    "        \n",
    "        El sector de transporte genera el 17% de la contaminacón. <br>\n",
    "        \n",
    "        <img src=\"https://drive.google.com/file/d/1ZOI97Wi5lc73SylyLg71JHLDlul9bX8P/view?usp=share_link\" alt=\"descripción de la imagen\">\n",
    "\n",
    "\n",
    "            \n",
    "       Se genera un indicador clave de rendimiento que estipula el Porcentaje de disminución de la contaminacón al aire por el uso \n",
    "       de carros electricos.<br>\n",
    "\n",
    "       <b> KPI: Valor Porcentual de disminución de la contaminación al aire de PM 2,5 por # de Autos Eléctricos </b>\n",
    "        \n",
    "        </p>\n",
    "    \"\"\")\n",
    "    \n",
    "    vehiculos_electricos = gr.Number(label=\"Numero de Vehículos Electricos en la Flota\")\n",
    "    calcular_btn = gr.Button(\"% disminución a la contaminación al aire per # Vehículos Eléctricos:\")\n",
    "    indicador = gr.Textbox(label = \"Indicadores:\")\n",
    "    \n",
    "    calcular_btn.click(fn=disminucion_sector_automoviles, inputs=[vehiculos_electricos], outputs=[indicador])\n",
    "    \n",
    "\n",
    "demo.launch(share=True)\n",
    "\n"
   ]
  }
 ],
 "metadata": {
  "kernelspec": {
   "display_name": "Python 3 (ipykernel)",
   "language": "python",
   "name": "python3"
  },
  "language_info": {
   "codemirror_mode": {
    "name": "ipython",
    "version": 3
   },
   "file_extension": ".py",
   "mimetype": "text/x-python",
   "name": "python",
   "nbconvert_exporter": "python",
   "pygments_lexer": "ipython3",
   "version": "3.9.13"
  }
 },
 "nbformat": 4,
 "nbformat_minor": 5
}
