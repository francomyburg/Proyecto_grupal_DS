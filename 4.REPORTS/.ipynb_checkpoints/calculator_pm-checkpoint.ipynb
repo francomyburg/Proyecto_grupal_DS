{
 "cells": [
  {
   "cell_type": "code",
   "execution_count": 1,
   "id": "c0ef9b01",
   "metadata": {},
   "outputs": [],
   "source": [
    "import pandas as pd\n",
    "import datetime as dt\n",
    "import gradio as gr\n"
   ]
  },
  {
   "cell_type": "code",
   "execution_count": 2,
   "id": "d6d1fc76",
   "metadata": {},
   "outputs": [],
   "source": [
    "import warnings \n",
    "pd.options.mode.chained_assignment = None # se desactiva advertencias de pandas por la edición_sobrescritura"
   ]
  },
  {
   "cell_type": "code",
   "execution_count": 3,
   "id": "74bedf3a",
   "metadata": {},
   "outputs": [
    {
     "ename": "FileNotFoundError",
     "evalue": "[Errno 2] No such file or directory: '../data/Automated_Traffic_Volume_Counts.csv'",
     "output_type": "error",
     "traceback": [
      "\u001b[1;31m---------------------------------------------------------------------------\u001b[0m",
      "\u001b[1;31mFileNotFoundError\u001b[0m                         Traceback (most recent call last)",
      "Cell \u001b[1;32mIn [3], line 2\u001b[0m\n\u001b[0;32m      1\u001b[0m \u001b[38;5;66;03m# Lectura manual\u001b[39;00m\n\u001b[1;32m----> 2\u001b[0m data\u001b[38;5;241m=\u001b[39m\u001b[43mpd\u001b[49m\u001b[38;5;241;43m.\u001b[39;49m\u001b[43mread_csv\u001b[49m\u001b[43m(\u001b[49m\u001b[38;5;124;43m\"\u001b[39;49m\u001b[38;5;124;43m../data/Automated_Traffic_Volume_Counts.csv\u001b[39;49m\u001b[38;5;124;43m\"\u001b[39;49m\u001b[43m)\u001b[49m\n\u001b[0;32m      3\u001b[0m air_quality\u001b[38;5;241m=\u001b[39mpd\u001b[38;5;241m.\u001b[39mread_csv(\u001b[38;5;124m\"\u001b[39m\u001b[38;5;124m../data/finale_dataset/air_pollution.csv\u001b[39m\u001b[38;5;124m\"\u001b[39m)\n",
      "File \u001b[1;32mC:\\ProgramData\\Anaconda3\\lib\\site-packages\\pandas\\util\\_decorators.py:311\u001b[0m, in \u001b[0;36mdeprecate_nonkeyword_arguments.<locals>.decorate.<locals>.wrapper\u001b[1;34m(*args, **kwargs)\u001b[0m\n\u001b[0;32m    305\u001b[0m \u001b[38;5;28;01mif\u001b[39;00m \u001b[38;5;28mlen\u001b[39m(args) \u001b[38;5;241m>\u001b[39m num_allow_args:\n\u001b[0;32m    306\u001b[0m     warnings\u001b[38;5;241m.\u001b[39mwarn(\n\u001b[0;32m    307\u001b[0m         msg\u001b[38;5;241m.\u001b[39mformat(arguments\u001b[38;5;241m=\u001b[39marguments),\n\u001b[0;32m    308\u001b[0m         \u001b[38;5;167;01mFutureWarning\u001b[39;00m,\n\u001b[0;32m    309\u001b[0m         stacklevel\u001b[38;5;241m=\u001b[39mstacklevel,\n\u001b[0;32m    310\u001b[0m     )\n\u001b[1;32m--> 311\u001b[0m \u001b[38;5;28;01mreturn\u001b[39;00m func(\u001b[38;5;241m*\u001b[39margs, \u001b[38;5;241m*\u001b[39m\u001b[38;5;241m*\u001b[39mkwargs)\n",
      "File \u001b[1;32mC:\\ProgramData\\Anaconda3\\lib\\site-packages\\pandas\\io\\parsers\\readers.py:678\u001b[0m, in \u001b[0;36mread_csv\u001b[1;34m(filepath_or_buffer, sep, delimiter, header, names, index_col, usecols, squeeze, prefix, mangle_dupe_cols, dtype, engine, converters, true_values, false_values, skipinitialspace, skiprows, skipfooter, nrows, na_values, keep_default_na, na_filter, verbose, skip_blank_lines, parse_dates, infer_datetime_format, keep_date_col, date_parser, dayfirst, cache_dates, iterator, chunksize, compression, thousands, decimal, lineterminator, quotechar, quoting, doublequote, escapechar, comment, encoding, encoding_errors, dialect, error_bad_lines, warn_bad_lines, on_bad_lines, delim_whitespace, low_memory, memory_map, float_precision, storage_options)\u001b[0m\n\u001b[0;32m    663\u001b[0m kwds_defaults \u001b[38;5;241m=\u001b[39m _refine_defaults_read(\n\u001b[0;32m    664\u001b[0m     dialect,\n\u001b[0;32m    665\u001b[0m     delimiter,\n\u001b[1;32m   (...)\u001b[0m\n\u001b[0;32m    674\u001b[0m     defaults\u001b[38;5;241m=\u001b[39m{\u001b[38;5;124m\"\u001b[39m\u001b[38;5;124mdelimiter\u001b[39m\u001b[38;5;124m\"\u001b[39m: \u001b[38;5;124m\"\u001b[39m\u001b[38;5;124m,\u001b[39m\u001b[38;5;124m\"\u001b[39m},\n\u001b[0;32m    675\u001b[0m )\n\u001b[0;32m    676\u001b[0m kwds\u001b[38;5;241m.\u001b[39mupdate(kwds_defaults)\n\u001b[1;32m--> 678\u001b[0m \u001b[38;5;28;01mreturn\u001b[39;00m \u001b[43m_read\u001b[49m\u001b[43m(\u001b[49m\u001b[43mfilepath_or_buffer\u001b[49m\u001b[43m,\u001b[49m\u001b[43m \u001b[49m\u001b[43mkwds\u001b[49m\u001b[43m)\u001b[49m\n",
      "File \u001b[1;32mC:\\ProgramData\\Anaconda3\\lib\\site-packages\\pandas\\io\\parsers\\readers.py:575\u001b[0m, in \u001b[0;36m_read\u001b[1;34m(filepath_or_buffer, kwds)\u001b[0m\n\u001b[0;32m    572\u001b[0m _validate_names(kwds\u001b[38;5;241m.\u001b[39mget(\u001b[38;5;124m\"\u001b[39m\u001b[38;5;124mnames\u001b[39m\u001b[38;5;124m\"\u001b[39m, \u001b[38;5;28;01mNone\u001b[39;00m))\n\u001b[0;32m    574\u001b[0m \u001b[38;5;66;03m# Create the parser.\u001b[39;00m\n\u001b[1;32m--> 575\u001b[0m parser \u001b[38;5;241m=\u001b[39m TextFileReader(filepath_or_buffer, \u001b[38;5;241m*\u001b[39m\u001b[38;5;241m*\u001b[39mkwds)\n\u001b[0;32m    577\u001b[0m \u001b[38;5;28;01mif\u001b[39;00m chunksize \u001b[38;5;129;01mor\u001b[39;00m iterator:\n\u001b[0;32m    578\u001b[0m     \u001b[38;5;28;01mreturn\u001b[39;00m parser\n",
      "File \u001b[1;32mC:\\ProgramData\\Anaconda3\\lib\\site-packages\\pandas\\io\\parsers\\readers.py:932\u001b[0m, in \u001b[0;36mTextFileReader.__init__\u001b[1;34m(self, f, engine, **kwds)\u001b[0m\n\u001b[0;32m    929\u001b[0m     \u001b[38;5;28mself\u001b[39m\u001b[38;5;241m.\u001b[39moptions[\u001b[38;5;124m\"\u001b[39m\u001b[38;5;124mhas_index_names\u001b[39m\u001b[38;5;124m\"\u001b[39m] \u001b[38;5;241m=\u001b[39m kwds[\u001b[38;5;124m\"\u001b[39m\u001b[38;5;124mhas_index_names\u001b[39m\u001b[38;5;124m\"\u001b[39m]\n\u001b[0;32m    931\u001b[0m \u001b[38;5;28mself\u001b[39m\u001b[38;5;241m.\u001b[39mhandles: IOHandles \u001b[38;5;241m|\u001b[39m \u001b[38;5;28;01mNone\u001b[39;00m \u001b[38;5;241m=\u001b[39m \u001b[38;5;28;01mNone\u001b[39;00m\n\u001b[1;32m--> 932\u001b[0m \u001b[38;5;28mself\u001b[39m\u001b[38;5;241m.\u001b[39m_engine \u001b[38;5;241m=\u001b[39m \u001b[38;5;28;43mself\u001b[39;49m\u001b[38;5;241;43m.\u001b[39;49m\u001b[43m_make_engine\u001b[49m\u001b[43m(\u001b[49m\u001b[43mf\u001b[49m\u001b[43m,\u001b[49m\u001b[43m \u001b[49m\u001b[38;5;28;43mself\u001b[39;49m\u001b[38;5;241;43m.\u001b[39;49m\u001b[43mengine\u001b[49m\u001b[43m)\u001b[49m\n",
      "File \u001b[1;32mC:\\ProgramData\\Anaconda3\\lib\\site-packages\\pandas\\io\\parsers\\readers.py:1216\u001b[0m, in \u001b[0;36mTextFileReader._make_engine\u001b[1;34m(self, f, engine)\u001b[0m\n\u001b[0;32m   1212\u001b[0m     mode \u001b[38;5;241m=\u001b[39m \u001b[38;5;124m\"\u001b[39m\u001b[38;5;124mrb\u001b[39m\u001b[38;5;124m\"\u001b[39m\n\u001b[0;32m   1213\u001b[0m \u001b[38;5;66;03m# error: No overload variant of \"get_handle\" matches argument types\u001b[39;00m\n\u001b[0;32m   1214\u001b[0m \u001b[38;5;66;03m# \"Union[str, PathLike[str], ReadCsvBuffer[bytes], ReadCsvBuffer[str]]\"\u001b[39;00m\n\u001b[0;32m   1215\u001b[0m \u001b[38;5;66;03m# , \"str\", \"bool\", \"Any\", \"Any\", \"Any\", \"Any\", \"Any\"\u001b[39;00m\n\u001b[1;32m-> 1216\u001b[0m \u001b[38;5;28mself\u001b[39m\u001b[38;5;241m.\u001b[39mhandles \u001b[38;5;241m=\u001b[39m \u001b[43mget_handle\u001b[49m\u001b[43m(\u001b[49m\u001b[43m  \u001b[49m\u001b[38;5;66;43;03m# type: ignore[call-overload]\u001b[39;49;00m\n\u001b[0;32m   1217\u001b[0m \u001b[43m    \u001b[49m\u001b[43mf\u001b[49m\u001b[43m,\u001b[49m\n\u001b[0;32m   1218\u001b[0m \u001b[43m    \u001b[49m\u001b[43mmode\u001b[49m\u001b[43m,\u001b[49m\n\u001b[0;32m   1219\u001b[0m \u001b[43m    \u001b[49m\u001b[43mencoding\u001b[49m\u001b[38;5;241;43m=\u001b[39;49m\u001b[38;5;28;43mself\u001b[39;49m\u001b[38;5;241;43m.\u001b[39;49m\u001b[43moptions\u001b[49m\u001b[38;5;241;43m.\u001b[39;49m\u001b[43mget\u001b[49m\u001b[43m(\u001b[49m\u001b[38;5;124;43m\"\u001b[39;49m\u001b[38;5;124;43mencoding\u001b[39;49m\u001b[38;5;124;43m\"\u001b[39;49m\u001b[43m,\u001b[49m\u001b[43m \u001b[49m\u001b[38;5;28;43;01mNone\u001b[39;49;00m\u001b[43m)\u001b[49m\u001b[43m,\u001b[49m\n\u001b[0;32m   1220\u001b[0m \u001b[43m    \u001b[49m\u001b[43mcompression\u001b[49m\u001b[38;5;241;43m=\u001b[39;49m\u001b[38;5;28;43mself\u001b[39;49m\u001b[38;5;241;43m.\u001b[39;49m\u001b[43moptions\u001b[49m\u001b[38;5;241;43m.\u001b[39;49m\u001b[43mget\u001b[49m\u001b[43m(\u001b[49m\u001b[38;5;124;43m\"\u001b[39;49m\u001b[38;5;124;43mcompression\u001b[39;49m\u001b[38;5;124;43m\"\u001b[39;49m\u001b[43m,\u001b[49m\u001b[43m \u001b[49m\u001b[38;5;28;43;01mNone\u001b[39;49;00m\u001b[43m)\u001b[49m\u001b[43m,\u001b[49m\n\u001b[0;32m   1221\u001b[0m \u001b[43m    \u001b[49m\u001b[43mmemory_map\u001b[49m\u001b[38;5;241;43m=\u001b[39;49m\u001b[38;5;28;43mself\u001b[39;49m\u001b[38;5;241;43m.\u001b[39;49m\u001b[43moptions\u001b[49m\u001b[38;5;241;43m.\u001b[39;49m\u001b[43mget\u001b[49m\u001b[43m(\u001b[49m\u001b[38;5;124;43m\"\u001b[39;49m\u001b[38;5;124;43mmemory_map\u001b[39;49m\u001b[38;5;124;43m\"\u001b[39;49m\u001b[43m,\u001b[49m\u001b[43m \u001b[49m\u001b[38;5;28;43;01mFalse\u001b[39;49;00m\u001b[43m)\u001b[49m\u001b[43m,\u001b[49m\n\u001b[0;32m   1222\u001b[0m \u001b[43m    \u001b[49m\u001b[43mis_text\u001b[49m\u001b[38;5;241;43m=\u001b[39;49m\u001b[43mis_text\u001b[49m\u001b[43m,\u001b[49m\n\u001b[0;32m   1223\u001b[0m \u001b[43m    \u001b[49m\u001b[43merrors\u001b[49m\u001b[38;5;241;43m=\u001b[39;49m\u001b[38;5;28;43mself\u001b[39;49m\u001b[38;5;241;43m.\u001b[39;49m\u001b[43moptions\u001b[49m\u001b[38;5;241;43m.\u001b[39;49m\u001b[43mget\u001b[49m\u001b[43m(\u001b[49m\u001b[38;5;124;43m\"\u001b[39;49m\u001b[38;5;124;43mencoding_errors\u001b[39;49m\u001b[38;5;124;43m\"\u001b[39;49m\u001b[43m,\u001b[49m\u001b[43m \u001b[49m\u001b[38;5;124;43m\"\u001b[39;49m\u001b[38;5;124;43mstrict\u001b[39;49m\u001b[38;5;124;43m\"\u001b[39;49m\u001b[43m)\u001b[49m\u001b[43m,\u001b[49m\n\u001b[0;32m   1224\u001b[0m \u001b[43m    \u001b[49m\u001b[43mstorage_options\u001b[49m\u001b[38;5;241;43m=\u001b[39;49m\u001b[38;5;28;43mself\u001b[39;49m\u001b[38;5;241;43m.\u001b[39;49m\u001b[43moptions\u001b[49m\u001b[38;5;241;43m.\u001b[39;49m\u001b[43mget\u001b[49m\u001b[43m(\u001b[49m\u001b[38;5;124;43m\"\u001b[39;49m\u001b[38;5;124;43mstorage_options\u001b[39;49m\u001b[38;5;124;43m\"\u001b[39;49m\u001b[43m,\u001b[49m\u001b[43m \u001b[49m\u001b[38;5;28;43;01mNone\u001b[39;49;00m\u001b[43m)\u001b[49m\u001b[43m,\u001b[49m\n\u001b[0;32m   1225\u001b[0m \u001b[43m\u001b[49m\u001b[43m)\u001b[49m\n\u001b[0;32m   1226\u001b[0m \u001b[38;5;28;01massert\u001b[39;00m \u001b[38;5;28mself\u001b[39m\u001b[38;5;241m.\u001b[39mhandles \u001b[38;5;129;01mis\u001b[39;00m \u001b[38;5;129;01mnot\u001b[39;00m \u001b[38;5;28;01mNone\u001b[39;00m\n\u001b[0;32m   1227\u001b[0m f \u001b[38;5;241m=\u001b[39m \u001b[38;5;28mself\u001b[39m\u001b[38;5;241m.\u001b[39mhandles\u001b[38;5;241m.\u001b[39mhandle\n",
      "File \u001b[1;32mC:\\ProgramData\\Anaconda3\\lib\\site-packages\\pandas\\io\\common.py:786\u001b[0m, in \u001b[0;36mget_handle\u001b[1;34m(path_or_buf, mode, encoding, compression, memory_map, is_text, errors, storage_options)\u001b[0m\n\u001b[0;32m    781\u001b[0m \u001b[38;5;28;01melif\u001b[39;00m \u001b[38;5;28misinstance\u001b[39m(handle, \u001b[38;5;28mstr\u001b[39m):\n\u001b[0;32m    782\u001b[0m     \u001b[38;5;66;03m# Check whether the filename is to be opened in binary mode.\u001b[39;00m\n\u001b[0;32m    783\u001b[0m     \u001b[38;5;66;03m# Binary mode does not support 'encoding' and 'newline'.\u001b[39;00m\n\u001b[0;32m    784\u001b[0m     \u001b[38;5;28;01mif\u001b[39;00m ioargs\u001b[38;5;241m.\u001b[39mencoding \u001b[38;5;129;01mand\u001b[39;00m \u001b[38;5;124m\"\u001b[39m\u001b[38;5;124mb\u001b[39m\u001b[38;5;124m\"\u001b[39m \u001b[38;5;129;01mnot\u001b[39;00m \u001b[38;5;129;01min\u001b[39;00m ioargs\u001b[38;5;241m.\u001b[39mmode:\n\u001b[0;32m    785\u001b[0m         \u001b[38;5;66;03m# Encoding\u001b[39;00m\n\u001b[1;32m--> 786\u001b[0m         handle \u001b[38;5;241m=\u001b[39m \u001b[38;5;28;43mopen\u001b[39;49m\u001b[43m(\u001b[49m\n\u001b[0;32m    787\u001b[0m \u001b[43m            \u001b[49m\u001b[43mhandle\u001b[49m\u001b[43m,\u001b[49m\n\u001b[0;32m    788\u001b[0m \u001b[43m            \u001b[49m\u001b[43mioargs\u001b[49m\u001b[38;5;241;43m.\u001b[39;49m\u001b[43mmode\u001b[49m\u001b[43m,\u001b[49m\n\u001b[0;32m    789\u001b[0m \u001b[43m            \u001b[49m\u001b[43mencoding\u001b[49m\u001b[38;5;241;43m=\u001b[39;49m\u001b[43mioargs\u001b[49m\u001b[38;5;241;43m.\u001b[39;49m\u001b[43mencoding\u001b[49m\u001b[43m,\u001b[49m\n\u001b[0;32m    790\u001b[0m \u001b[43m            \u001b[49m\u001b[43merrors\u001b[49m\u001b[38;5;241;43m=\u001b[39;49m\u001b[43merrors\u001b[49m\u001b[43m,\u001b[49m\n\u001b[0;32m    791\u001b[0m \u001b[43m            \u001b[49m\u001b[43mnewline\u001b[49m\u001b[38;5;241;43m=\u001b[39;49m\u001b[38;5;124;43m\"\u001b[39;49m\u001b[38;5;124;43m\"\u001b[39;49m\u001b[43m,\u001b[49m\n\u001b[0;32m    792\u001b[0m \u001b[43m        \u001b[49m\u001b[43m)\u001b[49m\n\u001b[0;32m    793\u001b[0m     \u001b[38;5;28;01melse\u001b[39;00m:\n\u001b[0;32m    794\u001b[0m         \u001b[38;5;66;03m# Binary mode\u001b[39;00m\n\u001b[0;32m    795\u001b[0m         handle \u001b[38;5;241m=\u001b[39m \u001b[38;5;28mopen\u001b[39m(handle, ioargs\u001b[38;5;241m.\u001b[39mmode)\n",
      "\u001b[1;31mFileNotFoundError\u001b[0m: [Errno 2] No such file or directory: '../data/Automated_Traffic_Volume_Counts.csv'"
     ]
    }
   ],
   "source": [
    "# Lectura manual\n",
    "data=pd.read_csv(\"../data/Automated_Traffic_Volume_Counts.csv\")\n",
    "air_quality=pd.read_csv(\"../data/finale_dataset/air_pollution.csv\")"
   ]
  },
  {
   "cell_type": "markdown",
   "id": "e08cbd29",
   "metadata": {},
   "source": [
    "## Calidad de aire en PM 2,5"
   ]
  },
  {
   "cell_type": "markdown",
   "id": "b735038f",
   "metadata": {},
   "source": [
    "Se calcula el PM 2,5 particulado promedio de cada borough de todos los años de análisis"
   ]
  },
  {
   "cell_type": "code",
   "execution_count": null,
   "id": "eb83b2e4",
   "metadata": {},
   "outputs": [],
   "source": [
    "air_quality=air_quality[air_quality['polluting_agent'] == 'PM 2.5 (µg/cm3)'].reset_index()\n"
   ]
  },
  {
   "cell_type": "code",
   "execution_count": null,
   "id": "29fffb47",
   "metadata": {},
   "outputs": [],
   "source": [
    "air_quality.groupby(['borough_name'])['data_value'].mean().reset_index()"
   ]
  },
  {
   "cell_type": "markdown",
   "id": "b7b40d38",
   "metadata": {},
   "source": [
    "## Volumen de trafico "
   ]
  },
  {
   "cell_type": "markdown",
   "id": "839cdb44",
   "metadata": {},
   "source": [
    "Se calcula el volumen de trafico de todos los años de análisis para cada borough"
   ]
  },
  {
   "cell_type": "code",
   "execution_count": null,
   "id": "ee027d7d",
   "metadata": {},
   "outputs": [],
   "source": [
    "# Se renombra columnas\n",
    "\n",
    "data = data.rename(columns={'Yr': 'year', 'M': 'month','D': 'day' })\n",
    "\n",
    "# Se crea columna 'date'\n",
    "\n",
    "data['date'] = pd.to_datetime(data[['year', 'month', 'day']])\n",
    "\n"
   ]
  },
  {
   "cell_type": "code",
   "execution_count": null,
   "id": "7b805fdb",
   "metadata": {},
   "outputs": [],
   "source": [
    "# Se toman las variables necesarias\n",
    "\n",
    "data_new=data[['Boro','date','Vol','WktGeom']]\n",
    "\n",
    "# Se renombra columnas\n",
    "\n",
    "data_new.columns=['borough', 'date', 'volume', 'WktGeom']\n",
    "\n",
    "# se establece rango desde 2010 al 2020\n",
    "data_new=data_new.loc[data['date'] > '2010-01-01']\n",
    "\n",
    "# Se modifica la columna 'Date' en formato año\n",
    "\n",
    "data_new['date']=data_new['date'].dt.year"
   ]
  },
  {
   "cell_type": "code",
   "execution_count": null,
   "id": "c1bb803b",
   "metadata": {},
   "outputs": [],
   "source": [
    "# Se agrupa por la posiccion geografica con la media para calcular el volumen de trafico\n",
    "\n",
    "data_new=data_new.groupby(['WktGeom', 'date', 'borough'])['volume'].mean().reset_index()\n",
    "\n",
    "# Se agrupa por año y por borough\n",
    "\n",
    "data_new=data_new.groupby(['date', 'borough'])['volume'].sum().reset_index().sort_values('volume', ascending=False)\n",
    "data_new.groupby('borough')['volume'].mean().reset_index().sort_values('volume', ascending=False)"
   ]
  },
  {
   "cell_type": "markdown",
   "id": "518d41c8",
   "metadata": {},
   "source": [
    "De la contaminación al aire por PM 2,5 en NYC el sector de tráfico genera el 17%.<br>\n",
    "Del sector de tráfico los carros generan un 5%, y los camiones 12%. \n",
    "\n",
    "https://a816-dohbesp.nyc.gov/IndicatorPublic/Traffic/index.html"
   ]
  },
  {
   "cell_type": "code",
   "execution_count": null,
   "id": "2b874a7e",
   "metadata": {},
   "outputs": [],
   "source": [
    "# Funcion para calcular el % de disminucion de contaminación al aire por PM 2,5  en el sector de automoviles \n",
    "\n",
    "def kpi_brooklyn(carros):\n",
    "    \n",
    "    volume_brooklyn = 58420 * 4 * 24\n",
    "    pm_brooklyn = 9.26\n",
    "    pm_brooklyn=pm_brooklyn*0.05\n",
    "   \n",
    "    new_volume_brooklyn = (volume_brooklyn-(carros*4*24))\n",
    "    new_pm_brooklyn= (new_volume_brooklyn*pm_brooklyn)/volume_brooklyn\n",
    "    ptc_disminuye = (new_pm_brooklyn - pm_brooklyn)/pm_brooklyn\n",
    "    brooklyn=round(-100*ptc_disminuye,2)\n",
    "    \n",
    "    return brooklyn\n",
    "\n",
    "    \n",
    "def kpi_manhattan(carros):\n",
    "    \n",
    "    volume_manhattan = 49682 * 4 * 24\n",
    "    pm_manhattan = 11\n",
    "    pm_manhattan=pm_manhattan*0.05\n",
    "   \n",
    "    new_volume_manhattan = (volume_manhattan-(carros*4*24))\n",
    "    new_pm_manhattan= (new_volume_manhattan*pm_manhattan)/volume_manhattan\n",
    "    ptc_disminuye = (new_pm_manhattan - pm_manhattan)/pm_manhattan\n",
    "    manhattan=round(-100*ptc_disminuye,2)\n",
    "    \n",
    "    return manhattan\n",
    "    \n",
    "\n",
    "def kpi_queen(carros):\n",
    "    volume_queen = 54046 * 4 * 24\n",
    "    pm_queen = 9\n",
    "    pm_queen=pm_queen*0.05\n",
    "   \n",
    "    new_volume_queen = (volume_queen-(carros*4*24))\n",
    "    new_pm_queen= (new_volume_queen*pm_queen)/volume_queen\n",
    "    ptc_disminuye = (new_pm_queen - pm_queen)/pm_queen\n",
    "    queen=round(-100*ptc_disminuye,2)\n",
    "    \n",
    "       \n",
    "    return queen\n",
    "\n",
    "def kpi_staten_island(carros):\n",
    "    volume_staten_island = 8962 * 4 * 24\n",
    "    pm_staten_island = 8.5\n",
    "    pm_staten_island=pm_staten_island*0.05\n",
    "   \n",
    "    new_volume_staten_island = (volume_staten_island-(carros*4*24))\n",
    "    new_pm_staten_island= (new_volume_staten_island*pm_staten_island)/volume_staten_island\n",
    "    ptc_disminuye = (new_pm_staten_island - pm_staten_island)/pm_staten_island\n",
    "    staten_island=round(-100*ptc_disminuye,2)\n",
    "    \n",
    "    return staten_island\n",
    "\n",
    "def kpi_the_bronx(carros):\n",
    "    \n",
    "    volume_the_bronx = 31839 * 4 * 24\n",
    "    pm_the_bronx = 9.7\n",
    "    pm_the_bronx=pm_the_bronx*0.05\n",
    "   \n",
    "    new_volume_bronx = (volume_the_bronx-(carros*4*24))\n",
    "    new_pm_the_bronx= (new_volume_bronx*pm_the_bronx)/volume_the_bronx\n",
    "    ptc_disminuye = (new_pm_the_bronx - pm_the_bronx)/pm_the_bronx\n",
    "    the_bronx=round(-100*ptc_disminuye,2)\n",
    "    \n",
    "    return the_bronx\n",
    "\n",
    "def taxis(carros):\n",
    "    \n",
    "    volume_taxi = 7737\n",
    "    pm_nyc = 0.47\n",
    "  \n",
    "   \n",
    "    new_volume_taxi = (volume_taxi-carros)\n",
    "    new_pm_nyc= (new_volume_taxi*pm_nyc)/volume_taxi\n",
    "    ptc_disminuye = (new_pm_nyc - pm_nyc)/pm_nyc\n",
    "    taxis=round(-100*ptc_disminuye,2)\n",
    "    \n",
    "    return taxis\n",
    "    \n",
    "\n",
    "def disminucion_sector_automoviles(carros):\n",
    "    kpi_b = kpi_brooklyn(carros)\n",
    "    kpi_m = kpi_manhattan(carros)\n",
    "    kpi_q = kpi_queen(carros)\n",
    "    kpi_s = kpi_staten_island(carros)\n",
    "    kpi_bx= kpi_the_bronx(carros)\n",
    "    kpi_taxis= taxis(carros)\n",
    "    \n",
    "    indicador=f\"{int(carros)} carros eléctricos disminuyen la contaminación al aire por PM 2,5 generada por el sector de los automoviles en: \\n {kpi_b}% en Brooklyn. \\n {kpi_m}% en Manhattan. \\n {kpi_q}% en Quenns. \\n {kpi_s}% Staten en Islands \\n {kpi_bx}% en Bronx. \\n \\n{int(carros)} taxis eléctricos disminuyen un {kpi_taxis}% de la contaminacón al aire por PM 2,5 generada por el sector de taxis en NYC\"\n",
    "    return indicador"
   ]
  },
  {
   "cell_type": "code",
   "execution_count": null,
   "id": "5cbba7f6",
   "metadata": {},
   "outputs": [],
   "source": [
    "disminucion_sector_automoviles(7000)"
   ]
  },
  {
   "cell_type": "code",
   "execution_count": null,
   "id": "bd341565",
   "metadata": {},
   "outputs": [],
   "source": [
    "import gradio as gr\n",
    "\n",
    "title = \"REPORTE MEDIOAMBIENTAL\"\n",
    "table_html = \"\"\"\n",
    "   <table>\n",
    "  <tr>\n",
    "    <th>borough</th>\n",
    "    <th>Pm 2,5</th>\n",
    "  </tr>\n",
    "  <tr>\n",
    "    <td>bronx</td>\n",
    "    <td>9.7</td>\n",
    "  </tr>\n",
    "  <tr>\n",
    "    <td>brooklyn</td>\n",
    "    <td>9.3</td>\n",
    "  </tr>\n",
    "  <tr>\n",
    "    <td>manhattan</td>\n",
    "    <td>10.9</td>\n",
    "  </tr>\n",
    "  <tr>\n",
    "    <td>queens</td>\n",
    "    <td>8.9</td>\n",
    "  </tr>\n",
    "  <tr>\n",
    "    <td>staten island</td>\n",
    "    <td>8.5</td>\n",
    "  </tr>\n",
    "</table>\n",
    "\n",
    "\"\"\"\n",
    "\n",
    "with gr.Blocks(title=title) as demo:\n",
    "    text = gr.components.HTML(\"\"\"\n",
    "        <h1>Indicadores Ambientales</h1>\n",
    "        <h2>Contaminación al aire</h2>\n",
    "        \n",
    "        <p> La contaminación al aire por PM 2.5 Promedio al año en los distintos distritos de New York es:\n",
    "        \n",
    "        \n",
    "        \"\"\" + table_html + \"\"\"\n",
    "        \n",
    "        \n",
    "        El sector de transporte genera el 17% de la contaminacón. <br>\n",
    "        \n",
    "        <img src=\"https://drive.google.com/file/d/1ZOI97Wi5lc73SylyLg71JHLDlul9bX8P/view?usp=share_link\" alt=\"descripción de la imagen\">\n",
    "\n",
    "\n",
    "            \n",
    "       Se genera un indicador clave de rendimiento que estipula el Porcentaje de disminución de la contaminacón al aire por el uso \n",
    "       de carros electricos.<br>\n",
    "\n",
    "       <b> KPI: Valor Porcentual de disminución de la contaminación al aire de PM 2,5 por # de Autos Eléctricos </b>\n",
    "        \n",
    "        </p>\n",
    "    \"\"\")\n",
    "    \n",
    "    vehiculos_electricos = gr.Number(label=\"Numero de Vehículos Electricos en la Flota\")\n",
    "    calcular_btn = gr.Button(\"% disminución a la contaminación al aire per # Vehículos Eléctricos:\")\n",
    "    indicador = gr.Textbox(label = \"Indicadores:\")\n",
    "    \n",
    "    calcular_btn.click(fn=disminucion_sector_automoviles, inputs=[vehiculos_electricos], outputs=[indicador])\n",
    "    \n",
    "\n",
    "demo.launch(share=True)\n",
    "\n"
   ]
  }
 ],
 "metadata": {
  "kernelspec": {
   "display_name": "Python 3 (ipykernel)",
   "language": "python",
   "name": "python3"
  },
  "language_info": {
   "codemirror_mode": {
    "name": "ipython",
    "version": 3
   },
   "file_extension": ".py",
   "mimetype": "text/x-python",
   "name": "python",
   "nbconvert_exporter": "python",
   "pygments_lexer": "ipython3",
   "version": "3.9.13"
  }
 },
 "nbformat": 4,
 "nbformat_minor": 5
}
