{
 "cells": [
  {
   "cell_type": "code",
   "execution_count": 1,
   "metadata": {},
   "outputs": [],
   "source": [
    "%load_ext autoreload\n",
    "%autoreload 2"
   ]
  },
  {
   "cell_type": "code",
   "execution_count": 2,
   "metadata": {},
   "outputs": [],
   "source": [
    "# Gestion de rutas\n",
    "import utils.paths as path\n",
    "# Importacion de librerías\n",
    "import pandas as pd\n",
    "import numpy as np\n",
    "import requests\n",
    "from tqdm import tqdm"
   ]
  },
  {
   "cell_type": "code",
   "execution_count": 3,
   "metadata": {},
   "outputs": [],
   "source": [
    "# Definiendo las rutas a la capetas de datos procesados y crudos\n",
    "raw_data_dir = path.make_dir_function(['datasets', 'raw'])\n",
    "proc_data_dir = path.make_dir_function([\"datasets\",\"processed\"])"
   ]
  },
  {
   "cell_type": "code",
   "execution_count": 4,
   "metadata": {},
   "outputs": [],
   "source": [
    "# Funcion para descargar la data del clima\n",
    "def download_weather_data(dataframe, start_date, end_date):\n",
    "    url = 'https://archive-api.open-meteo.com/v1/archive'\n",
    "    columns = ['latitude', 'longitude', 'temperature_2m', 'relativehumidity_2m', 'precipitation', 'rain', 'windspeed_10m']\n",
    "    df = pd.DataFrame(columns=columns)\n",
    "    \n",
    "    for index, row in tqdm(dataframe.iterrows(), total=dataframe.shape[0], desc='Downloading weather data'):\n",
    "        params = {\n",
    "            'latitude': row['latitude'],\n",
    "            'longitude': row['longitude'],\n",
    "            'start_date': start_date,\n",
    "            'end_date': end_date,\n",
    "            'hourly': ['temperature_2m', 'relativehumidity_2m', 'precipitation', 'rain', 'windspeed_10m']\n",
    "        }\n",
    "        try:\n",
    "            res = requests.get(url, params=params)\n",
    "            if res.status_code == 200:\n",
    "                data = res.json()\n",
    "                hourly_data = pd.DataFrame.from_dict(data['hourly'])\n",
    "                hourly_data['latitude'] = row['latitude']\n",
    "                hourly_data['longitude'] = row['longitude']\n",
    "                df = pd.concat([df, hourly_data], ignore_index=True)\n",
    "            else:\n",
    "                print(f\"Peticion fallida para el registro {index}: {res.status_code}\")\n",
    "        except Exception as e:\n",
    "            print(f\"Error al descargar la data para el registro {index}: {str(e)}\")\n",
    "\n",
    "    return df"
   ]
  },
  {
   "cell_type": "code",
   "execution_count": null,
   "metadata": {},
   "outputs": [],
   "source": [
    "# Descargar de la data de clima\n",
    "# download_weather_data(dataframe, start_date, end_date)"
   ]
  }
 ],
 "metadata": {
  "kernelspec": {
   "display_name": "env",
   "language": "python",
   "name": "python3"
  },
  "language_info": {
   "codemirror_mode": {
    "name": "ipython",
    "version": 3
   },
   "file_extension": ".py",
   "mimetype": "text/x-python",
   "name": "python",
   "nbconvert_exporter": "python",
   "pygments_lexer": "ipython3",
   "version": "3.7.9"
  },
  "orig_nbformat": 4
 },
 "nbformat": 4,
 "nbformat_minor": 2
}
