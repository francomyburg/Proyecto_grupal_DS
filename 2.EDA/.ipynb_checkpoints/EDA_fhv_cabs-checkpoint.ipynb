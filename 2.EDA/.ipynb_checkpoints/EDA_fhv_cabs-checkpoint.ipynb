{
 "cells": [
  {
   "cell_type": "markdown",
   "metadata": {},
   "source": [
    "### For Hire Vehicles"
   ]
  },
  {
   "cell_type": "code",
   "execution_count": 1,
   "metadata": {},
   "outputs": [],
   "source": [
    "#Importar librerías.\n",
    "import numpy as np\n",
    "import pandas as pd"
   ]
  },
  {
   "cell_type": "code",
   "execution_count": 2,
   "metadata": {},
   "outputs": [],
   "source": [
    "#Leer diccionario con vínculos.\n",
    "diccionario = pd.read_pickle('../data/tlc_fhv')"
   ]
  },
  {
   "cell_type": "code",
   "execution_count": 3,
   "metadata": {},
   "outputs": [],
   "source": [
    "#Descargar primer tabla (12/2019).\n",
    "exec(diccionario['fhv_2019_48'])"
   ]
  },
  {
   "cell_type": "code",
   "execution_count": 4,
   "metadata": {},
   "outputs": [
    {
     "name": "stdout",
     "output_type": "stream",
     "text": [
      "<class 'pandas.core.frame.DataFrame'>\n",
      "RangeIndex: 22243901 entries, 0 to 22243900\n",
      "Data columns (total 24 columns):\n",
      " #   Column                Dtype         \n",
      "---  ------                -----         \n",
      " 0   hvfhs_license_num     object        \n",
      " 1   dispatching_base_num  object        \n",
      " 2   originating_base_num  object        \n",
      " 3   request_datetime      datetime64[ns]\n",
      " 4   on_scene_datetime     datetime64[ns]\n",
      " 5   pickup_datetime       datetime64[ns]\n",
      " 6   dropoff_datetime      datetime64[ns]\n",
      " 7   PULocationID          int64         \n",
      " 8   DOLocationID          int64         \n",
      " 9   trip_miles            float64       \n",
      " 10  trip_time             int64         \n",
      " 11  base_passenger_fare   float64       \n",
      " 12  tolls                 float64       \n",
      " 13  bcf                   float64       \n",
      " 14  sales_tax             float64       \n",
      " 15  congestion_surcharge  float64       \n",
      " 16  airport_fee           float64       \n",
      " 17  tips                  float64       \n",
      " 18  driver_pay            float64       \n",
      " 19  shared_request_flag   object        \n",
      " 20  shared_match_flag     object        \n",
      " 21  access_a_ride_flag    object        \n",
      " 22  wav_request_flag      object        \n",
      " 23  wav_match_flag        object        \n",
      "dtypes: datetime64[ns](4), float64(9), int64(3), object(8)\n",
      "memory usage: 4.0+ GB\n"
     ]
    }
   ],
   "source": [
    "fhv_2019_48.info()"
   ]
  },
  {
   "cell_type": "markdown",
   "metadata": {},
   "source": [
    "Considerar eliminar:\n",
    "* Hvfhs_license_num (referencia a los negocios o bases HVFHS, Juno, Uber, Via, Lyft).\n",
    "* Dispatching_base_num (Número de licencia de la base que envió el viaje).\n",
    "* originating_base_num (Número de la base que recibió la solicitud de viaje original).\n",
    "* request_datetime (fecha/hora cuando el pasajero pidió ser recogido).\n",
    "* on_scene_datetime (fecha/hora cuando el conductor llegó al lugar).\n",
    "* shared_request_flag (Si el pasajero aceptó un viaje compartido).\n",
    "* shared_match_flag (Si el pasajero compartió el vehículo con otro pasajero que reservó por separado).\n",
    "* access_a_ride_flag (Si se gestionó el viaje en nombre de la MTA).\n",
    "* wav_request_flag (Si el pasajero solicitó un vehículo accesible en silla de ruedas).\n",
    "* wav_match_flag (Si se realizó el viaje en un vehículo accesible en silla de ruedas)."
   ]
  },
  {
   "cell_type": "code",
   "execution_count": 5,
   "metadata": {},
   "outputs": [],
   "source": [
    "#Eliminar columnas indeseadas.\n",
    "fhv_2019_48.drop(columns = ['hvfhs_license_num', 'dispatching_base_num', 'originating_base_num', 'request_datetime', 'on_scene_datetime', 'shared_request_flag', 'shared_match_flag', 'access_a_ride_flag', 'wav_request_flag', 'wav_match_flag'], inplace = True)"
   ]
  },
  {
   "cell_type": "markdown",
   "metadata": {},
   "source": [
    "Separar:\n",
    "* pickup_datetime\n",
    "* dropoff_datetime"
   ]
  },
  {
   "cell_type": "code",
   "execution_count": 6,
   "metadata": {},
   "outputs": [],
   "source": [
    "#Insertar 'pickup_day'.\n",
    "fhv_2019_48.insert(0, 'pickup_day', fhv_2019_48['pickup_datetime'].dt.date)"
   ]
  },
  {
   "cell_type": "code",
   "execution_count": 7,
   "metadata": {},
   "outputs": [],
   "source": [
    "#Insertar 'pickup_time'.\n",
    "fhv_2019_48.insert(1, 'pickup_time', fhv_2019_48['pickup_datetime'].dt.time)"
   ]
  },
  {
   "cell_type": "code",
   "execution_count": 8,
   "metadata": {},
   "outputs": [],
   "source": [
    "#Insertar 'dropoff_day'.\n",
    "fhv_2019_48.insert(2, 'dropoff_day', fhv_2019_48['dropoff_datetime'].dt.date)"
   ]
  },
  {
   "cell_type": "code",
   "execution_count": 9,
   "metadata": {},
   "outputs": [],
   "source": [
    "#Insertar 'dropoff_time'.\n",
    "fhv_2019_48.insert(3, 'dropoff_time', fhv_2019_48['dropoff_datetime'].dt.time)"
   ]
  },
  {
   "cell_type": "code",
   "execution_count": 10,
   "metadata": {},
   "outputs": [],
   "source": [
    "#Eliminar 'pickup_datetime' y 'dropoff_datetime'.\n",
    "fhv_2019_48.drop(columns = ['pickup_datetime', 'dropoff_datetime'], inplace = True)"
   ]
  },
  {
   "cell_type": "markdown",
   "metadata": {},
   "source": [
    "Identificar valores faltantes."
   ]
  },
  {
   "cell_type": "code",
   "execution_count": 11,
   "metadata": {},
   "outputs": [
    {
     "data": {
      "text/plain": [
       "pickup_day                     0\n",
       "pickup_time                    0\n",
       "dropoff_day                    0\n",
       "dropoff_time                   0\n",
       "PULocationID                   0\n",
       "DOLocationID                   0\n",
       "trip_miles                     0\n",
       "trip_time                      0\n",
       "base_passenger_fare            0\n",
       "tolls                          0\n",
       "bcf                            0\n",
       "sales_tax                      0\n",
       "congestion_surcharge           0\n",
       "airport_fee             22243779\n",
       "tips                           0\n",
       "driver_pay                     0\n",
       "dtype: int64"
      ]
     },
     "execution_count": 11,
     "metadata": {},
     "output_type": "execute_result"
    }
   ],
   "source": [
    "#Encontrar null.\n",
    "fhv_2019_48.isnull().sum()"
   ]
  },
  {
   "cell_type": "code",
   "execution_count": 12,
   "metadata": {},
   "outputs": [
    {
     "name": "stderr",
     "output_type": "stream",
     "text": [
      "/var/folders/wj/7dw3knds339_chh5zsqxn0wm0000gn/T/ipykernel_8105/940530197.py:2: SettingWithCopyWarning: \n",
      "A value is trying to be set on a copy of a slice from a DataFrame\n",
      "\n",
      "See the caveats in the documentation: https://pandas.pydata.org/pandas-docs/stable/user_guide/indexing.html#returning-a-view-versus-a-copy\n",
      "  fhv_2019_48[['bcf', 'congestion_surcharge', 'airport_fee', 'tips']].fillna(value = 0, inplace = True)\n"
     ]
    }
   ],
   "source": [
    "#Sustituir nulos por '0'.\n",
    "fhv_2019_48[['bcf', 'congestion_surcharge', 'airport_fee', 'tips']].fillna(value = 0, inplace = True)"
   ]
  },
  {
   "cell_type": "markdown",
   "metadata": {},
   "source": [
    "Para el resto de los numéricos que pueden tener nulos en otras tablas hay que usar otro método."
   ]
  },
  {
   "cell_type": "code",
   "execution_count": 13,
   "metadata": {},
   "outputs": [],
   "source": [
    "#Calcular medias.\n",
    "media_miles = np.around(fhv_2019_48['trip_miles'].mean(), decimals = 0)\n",
    "media_time = np.around(fhv_2019_48['trip_time'].mean(), decimals = 0)\n",
    "media_fare = np.around(fhv_2019_48['base_passenger_fare'].mean(), decimals = 0)\n",
    "media_tolls = np.around(fhv_2019_48['tolls'].mean(), decimals = 0)\n",
    "media_tax = np.around(fhv_2019_48['sales_tax'].mean(), decimals = 0)\n",
    "media_driver_pay = np.around(fhv_2019_48['driver_pay'].mean(), decimals = 0)"
   ]
  },
  {
   "cell_type": "code",
   "execution_count": 16,
   "metadata": {},
   "outputs": [],
   "source": [
    "#Sustituir nulos por medias.\n",
    "fhv_2019_48['trip_miles'].fillna(value = media_miles, inplace = True)\n",
    "fhv_2019_48['trip_time'].fillna(value = media_time, inplace = True)\n",
    "fhv_2019_48['base_passenger_fare'].fillna(value = media_fare, inplace = True)\n",
    "fhv_2019_48['tolls'].fillna(value = media_tolls, inplace = True)\n",
    "fhv_2019_48['sales_tax'].fillna(value = media_tax, inplace = True)\n",
    "fhv_2019_48['driver_pay'].fillna(value = media_driver_pay, inplace = True)"
   ]
  }
 ],
 "metadata": {
  "kernelspec": {
   "display_name": "Python 3 (ipykernel)",
   "language": "python",
   "name": "python3"
  },
  "language_info": {
   "codemirror_mode": {
    "name": "ipython",
    "version": 3
   },
   "file_extension": ".py",
   "mimetype": "text/x-python",
   "name": "python",
   "nbconvert_exporter": "python",
   "pygments_lexer": "ipython3",
   "version": "3.9.13"
  }
 },
 "nbformat": 4,
 "nbformat_minor": 2
}
