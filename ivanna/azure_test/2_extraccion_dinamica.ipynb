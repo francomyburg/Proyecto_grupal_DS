{
 "cells": [
  {
   "cell_type": "markdown",
   "metadata": {
    "application/vnd.databricks.v1+cell": {
     "cellMetadata": {
      "byteLimit": 2048000,
      "rowLimit": 10000
     },
     "inputWidgets": {},
     "nuid": "431f8f4a-d2b8-4711-934c-93b889e89c88",
     "showTitle": false,
     "title": ""
    }
   },
   "source": [
    "## Extracción de datos automática"
   ]
  },
  {
   "cell_type": "markdown",
   "metadata": {
    "application/vnd.databricks.v1+cell": {
     "cellMetadata": {
      "byteLimit": 2048000,
      "rowLimit": 10000
     },
     "inputWidgets": {},
     "nuid": "97f3a3e7-e74a-4d60-b1a9-6cf508a37478",
     "showTitle": false,
     "title": ""
    }
   },
   "source": [
    "### Acceso al sitio"
   ]
  },
  {
   "cell_type": "code",
   "execution_count": 0,
   "metadata": {
    "application/vnd.databricks.v1+cell": {
     "cellMetadata": {
      "byteLimit": 2048000,
      "rowLimit": 10000
     },
     "inputWidgets": {},
     "nuid": "03105333-5d05-4bdf-b711-f53090f66141",
     "showTitle": false,
     "title": ""
    }
   },
   "outputs": [
    {
     "output_type": "stream",
     "name": "stdout",
     "output_type": "stream",
     "text": [
      "Python interpreter will be restarted.\nRequirement already satisfied: beautifulsoup4 in /local_disk0/.ephemeral_nfs/envs/pythonEnv-c006f04d-452b-4fe2-81e7-e9ab655749c5/lib/python3.9/site-packages (4.12.2)\nRequirement already satisfied: soupsieve>1.2 in /local_disk0/.ephemeral_nfs/envs/pythonEnv-c006f04d-452b-4fe2-81e7-e9ab655749c5/lib/python3.9/site-packages (from beautifulsoup4) (2.4.1)\nPython interpreter will be restarted.\n"
     ]
    }
   ],
   "source": [
    "%pip install beautifulsoup4"
   ]
  },
  {
   "cell_type": "code",
   "execution_count": 0,
   "metadata": {
    "application/vnd.databricks.v1+cell": {
     "cellMetadata": {
      "byteLimit": 2048000,
      "rowLimit": 10000
     },
     "inputWidgets": {},
     "nuid": "07e171ab-ba46-4d3b-9d02-2153772b99be",
     "showTitle": false,
     "title": ""
    }
   },
   "outputs": [
    {
     "output_type": "display_data",
     "data": {
      "application/vnd.databricks.v1+bamboolib_hint": "{\"pd.DataFrames\": [], \"version\": \"0.0.1\"}",
      "text/plain": []
     },
     "metadata": {
      "application/vnd.databricks.v1+output": {
       "addedWidgets": {},
       "arguments": {},
       "data": {
        "application/vnd.databricks.v1+bamboolib_hint": "{\"pd.DataFrames\": [], \"version\": \"0.0.1\"}",
        "text/plain": ""
       },
       "datasetInfos": [],
       "executionCount": null,
       "metadata": {
        "kernelSessionId": "a2262a15-0d1cd184945e77abc710d85c"
       },
       "removedWidgets": [],
       "type": "mimeBundle"
      }
     },
     "output_type": "display_data"
    }
   ],
   "source": [
    "#Importar librerías.\n",
    "import numpy as np\n",
    "import pandas as pd\n",
    "\n",
    "from bs4 import BeautifulSoup\n",
    "import requests\n",
    "import datetime\n",
    "import pickle"
   ]
  },
  {
   "cell_type": "code",
   "execution_count": 0,
   "metadata": {
    "application/vnd.databricks.v1+cell": {
     "cellMetadata": {
      "byteLimit": 2048000,
      "rowLimit": 10000
     },
     "inputWidgets": {},
     "nuid": "80e6febe-abce-411f-a6c7-936169c0719a",
     "showTitle": false,
     "title": ""
    }
   },
   "outputs": [],
   "source": [
    "#URL de Fuente: TLC Trip Record Data\n",
    "tlc_url = \"https://www.nyc.gov/site/tlc/about/tlc-trip-record-data.page\"\n",
    "\n",
    "#Solicitar URL y obtener objeto de respuesta.\n",
    "tlc_respuesta = requests.get(tlc_url)\n",
    "\n",
    "#Analizar el texto obtenido.\n",
    "tlc_sopa = BeautifulSoup(tlc_respuesta.text, 'html.parser')\n",
    "\n",
    "#Encontrar todos los hipervínculos presentes en la página web.\n",
    "tlc_vinculos = tlc_sopa.find_all('a')"
   ]
  },
  {
   "cell_type": "code",
   "execution_count": 0,
   "metadata": {
    "application/vnd.databricks.v1+cell": {
     "cellMetadata": {
      "byteLimit": 2048000,
      "rowLimit": 10000
     },
     "inputWidgets": {},
     "nuid": "627fa2b6-3d5e-4713-814c-4c8e06bfb9f0",
     "showTitle": false,
     "title": ""
    }
   },
   "outputs": [],
   "source": [
    "#Leer diccionarios de referencia.\n",
    "directorio_diccionarios = \"/dbfs/d_amarillo.pickle\"\n",
    "d_amarillo = pd.read_pickle(directorio_diccionarios)"
   ]
  },
  {
   "cell_type": "markdown",
   "metadata": {
    "application/vnd.databricks.v1+cell": {
     "cellMetadata": {
      "byteLimit": 2048000,
      "rowLimit": 10000
     },
     "inputWidgets": {},
     "nuid": "9a9c22fb-a907-434a-bda9-1a8aac4fafe1",
     "showTitle": false,
     "title": ""
    }
   },
   "source": [
    "### Descarga de nuevos archivos"
   ]
  },
  {
   "cell_type": "markdown",
   "metadata": {
    "application/vnd.databricks.v1+cell": {
     "cellMetadata": {
      "byteLimit": 2048000,
      "rowLimit": 10000
     },
     "inputWidgets": {},
     "nuid": "4df39193-de80-4bf1-9d91-c4ae4429882b",
     "showTitle": false,
     "title": ""
    }
   },
   "source": [
    "Acceso a Blob Storage"
   ]
  },
  {
   "cell_type": "code",
   "execution_count": 0,
   "metadata": {
    "application/vnd.databricks.v1+cell": {
     "cellMetadata": {
      "byteLimit": 2048000,
      "rowLimit": 10000
     },
     "inputWidgets": {},
     "nuid": "af58b900-96c1-4217-a0b3-71420ce5b711",
     "showTitle": false,
     "title": ""
    }
   },
   "outputs": [],
   "source": [
    "#Datos de acceso\n",
    "storage_account_name = \"pfcrudo\"\n",
    "storage_account_key = \"ASY9nV2+pddQN2Y8AUZef5m4JtdidWOa5RW+fNIkj2HE60F5s95ueJraFC2/Jv1KulbyL5hwcYk6+AStCn7cjw==\"\n",
    "container = \"yellowtaxis\""
   ]
  },
  {
   "cell_type": "code",
   "execution_count": 0,
   "metadata": {
    "application/vnd.databricks.v1+cell": {
     "cellMetadata": {
      "byteLimit": 2048000,
      "rowLimit": 10000
     },
     "inputWidgets": {},
     "nuid": "393a2723-e836-4173-b5e9-1e6dc888f0df",
     "showTitle": false,
     "title": ""
    }
   },
   "outputs": [],
   "source": [
    "#Variable de configuración Spark\n",
    "spark.conf.set(f\"fs.azure.account.key.{storage_account_name}.blob.core.windows.net\", storage_account_key)"
   ]
  },
  {
   "cell_type": "markdown",
   "metadata": {
    "application/vnd.databricks.v1+cell": {
     "cellMetadata": {
      "byteLimit": 2048000,
      "rowLimit": 10000
     },
     "inputWidgets": {},
     "nuid": "6f4bae86-2feb-4190-bfc9-4dcb6992c4b4",
     "showTitle": false,
     "title": ""
    }
   },
   "source": [
    "Descarga"
   ]
  },
  {
   "cell_type": "code",
   "execution_count": 0,
   "metadata": {
    "application/vnd.databricks.v1+cell": {
     "cellMetadata": {
      "byteLimit": 2048000,
      "rowLimit": 10000
     },
     "inputWidgets": {},
     "nuid": "99b14861-e9ba-4494-952c-58ee250acfc9",
     "showTitle": false,
     "title": ""
    }
   },
   "outputs": [],
   "source": [
    "#Permitir a Apache Arrow convertir Pandas a pySpark DF:\n",
    "spark.conf.set(\"spark.sql.execution.arrow.enabled\", \"true\")"
   ]
  },
  {
   "cell_type": "code",
   "execution_count": 0,
   "metadata": {
    "application/vnd.databricks.v1+cell": {
     "cellMetadata": {
      "byteLimit": 2048000,
      "rowLimit": 10000
     },
     "inputWidgets": {},
     "nuid": "a8a4666f-adb9-4e4c-9938-fc462a08abac",
     "showTitle": false,
     "title": ""
    }
   },
   "outputs": [],
   "source": [
    "#Obtener el año en curso.\n",
    "date = datetime.date.today()\n",
    "año = '{0}'.format(date.year)"
   ]
  },
  {
   "cell_type": "code",
   "execution_count": 0,
   "metadata": {
    "application/vnd.databricks.v1+cell": {
     "cellMetadata": {
      "byteLimit": 2048000,
      "rowLimit": 10000
     },
     "inputWidgets": {},
     "nuid": "0dcc9be4-b6e3-4d93-ad8d-8f1c471e570a",
     "showTitle": false,
     "title": ""
    }
   },
   "outputs": [
    {
     "output_type": "display_data",
     "data": {
      "text/plain": [
       "\u001B[0;31m---------------------------------------------------------------------------\u001B[0m\n",
       "\u001B[0;31mNameError\u001B[0m                                 Traceback (most recent call last)\n",
       "\u001B[0;32m<command-3007146002323698>\u001B[0m in \u001B[0;36m<cell line: 2>\u001B[0;34m()\u001B[0m\n",
       "\u001B[1;32m     45\u001B[0m                 \u001B[0mdataframe\u001B[0m \u001B[0;34m=\u001B[0m \u001B[0mspark\u001B[0m\u001B[0;34m.\u001B[0m\u001B[0mcreateDataFrame\u001B[0m\u001B[0;34m(\u001B[0m\u001B[0mvars\u001B[0m\u001B[0;34m(\u001B[0m\u001B[0;34m)\u001B[0m\u001B[0;34m[\u001B[0m\u001B[0mlist\u001B[0m\u001B[0;34m(\u001B[0m\u001B[0md_amarillo\u001B[0m\u001B[0;34m)\u001B[0m\u001B[0;34m[\u001B[0m\u001B[0;34m-\u001B[0m\u001B[0;36m1\u001B[0m\u001B[0;34m]\u001B[0m\u001B[0;34m]\u001B[0m\u001B[0;34m)\u001B[0m\u001B[0;34m\u001B[0m\u001B[0;34m\u001B[0m\u001B[0m\n",
       "\u001B[1;32m     46\u001B[0m \u001B[0;34m\u001B[0m\u001B[0m\n",
       "\u001B[0;32m---> 47\u001B[0;31m                 \u001B[0mdataframe\u001B[0m\u001B[0;34m.\u001B[0m\u001B[0mwrite\u001B[0m\u001B[0;34m.\u001B[0m\u001B[0mformat\u001B[0m\u001B[0;34m(\u001B[0m\u001B[0;34m\"parquet\"\u001B[0m\u001B[0;34m)\u001B[0m\u001B[0;34m.\u001B[0m\u001B[0msave\u001B[0m\u001B[0;34m(\u001B[0m\u001B[0;34mf\"wasbs://{container}@{storage_account_name}.blob.core.windows.net/yellow_{año}_{mes}.parquet\"\u001B[0m\u001B[0;34m)\u001B[0m\u001B[0;34m\u001B[0m\u001B[0;34m\u001B[0m\u001B[0m\n",
       "\u001B[0m\n",
       "\u001B[0;31mNameError\u001B[0m: name 'container' is not defined"
      ]
     },
     "metadata": {
      "application/vnd.databricks.v1+output": {
       "arguments": {},
       "data": "\u001B[0;31m---------------------------------------------------------------------------\u001B[0m\n\u001B[0;31mNameError\u001B[0m                                 Traceback (most recent call last)\n\u001B[0;32m<command-3007146002323698>\u001B[0m in \u001B[0;36m<cell line: 2>\u001B[0;34m()\u001B[0m\n\u001B[1;32m     45\u001B[0m                 \u001B[0mdataframe\u001B[0m \u001B[0;34m=\u001B[0m \u001B[0mspark\u001B[0m\u001B[0;34m.\u001B[0m\u001B[0mcreateDataFrame\u001B[0m\u001B[0;34m(\u001B[0m\u001B[0mvars\u001B[0m\u001B[0;34m(\u001B[0m\u001B[0;34m)\u001B[0m\u001B[0;34m[\u001B[0m\u001B[0mlist\u001B[0m\u001B[0;34m(\u001B[0m\u001B[0md_amarillo\u001B[0m\u001B[0;34m)\u001B[0m\u001B[0;34m[\u001B[0m\u001B[0;34m-\u001B[0m\u001B[0;36m1\u001B[0m\u001B[0;34m]\u001B[0m\u001B[0;34m]\u001B[0m\u001B[0;34m)\u001B[0m\u001B[0;34m\u001B[0m\u001B[0;34m\u001B[0m\u001B[0m\n\u001B[1;32m     46\u001B[0m \u001B[0;34m\u001B[0m\u001B[0m\n\u001B[0;32m---> 47\u001B[0;31m                 \u001B[0mdataframe\u001B[0m\u001B[0;34m.\u001B[0m\u001B[0mwrite\u001B[0m\u001B[0;34m.\u001B[0m\u001B[0mformat\u001B[0m\u001B[0;34m(\u001B[0m\u001B[0;34m\"parquet\"\u001B[0m\u001B[0;34m)\u001B[0m\u001B[0;34m.\u001B[0m\u001B[0msave\u001B[0m\u001B[0;34m(\u001B[0m\u001B[0;34mf\"wasbs://{container}@{storage_account_name}.blob.core.windows.net/yellow_{año}_{mes}.parquet\"\u001B[0m\u001B[0;34m)\u001B[0m\u001B[0;34m\u001B[0m\u001B[0;34m\u001B[0m\u001B[0m\n\u001B[0m\n\u001B[0;31mNameError\u001B[0m: name 'container' is not defined",
       "errorSummary": "<span class='ansi-red-fg'>NameError</span>: name 'container' is not defined",
       "errorTraceType": "ansi",
       "metadata": {},
       "type": "ipynbError"
      }
     },
     "output_type": "display_data"
    }
   ],
   "source": [
    "#Comparar con diccionario actual. Agregar (y exportar) sólo nueva variable.\n",
    "for vinculo in tlc_vinculos:\n",
    "    if(\n",
    "        'yellow' in vinculo.get('href', []) and\n",
    "        '.parquet' in vinculo.get('href', [])\n",
    "    ):\n",
    "        if (\n",
    "            año in vinculo.get('href', [])\n",
    "        ):\n",
    "            hipervinculo = vinculo.get('href', [])\n",
    "            mes = hipervinculo[69]+hipervinculo[70]\n",
    "\n",
    "            #Leer el vínculo y compararlo con las otras entradas del diccionario.\n",
    "\n",
    "            for clave, valor in d_amarillo.items():\n",
    "                valor_año = valor[7]+valor[8]+valor[9]+valor[10]\n",
    "                valor_mes = valor[13]+valor[14]\n",
    "                \n",
    "                if (\n",
    "                    (año == valor_año) and\n",
    "                    (mes == valor_mes)\n",
    "                ):\n",
    "                    equal = True\n",
    "                    break\n",
    "                else:\n",
    "                    equal = False\n",
    "\n",
    "            if (equal == False):\n",
    "                #Agregar entrada nueva al diccionario.\n",
    "                d_amarillo[\"yellow_{0}_{1}\".format(año, mes)] = \"yellow_{0}_{1} = pd.read_parquet('{2}')\".format(año, mes, hipervinculo)\n",
    "\n",
    "                #Exportar diccionario actualizado a almacenamiento conveniente.\n",
    "\n",
    "                amarillo = open(directorio_diccionarios, 'wb')\n",
    "                pickle.dump(d_amarillo, amarillo)\n",
    "                amarillo.close()\n",
    "\n",
    "                #Exportar nuevo archivo parquet (tabla) a almacenamiento previo (raw).\n",
    "\n",
    "                #Ejecutar el comando\n",
    "                exec(d_amarillo[\"yellow_{0}_{1}\".format(año, mes)])\n",
    "\n",
    "                #Pasar dataframe a parquet en la ubicación\n",
    "\n",
    "                dataframe = spark.createDataFrame(vars()[list(d_amarillo)[-1]])\n",
    "\n",
    "                dataframe.write.format(\"parquet\").save(f\"wasbs://{container}@{storage_account_name}.blob.core.windows.net/yellow_{año}_{mes}.parquet\")"
   ]
  }
 ],
 "metadata": {
  "application/vnd.databricks.v1+notebook": {
   "dashboards": [],
   "language": "python",
   "notebookMetadata": {
    "pythonIndentUnit": 4
   },
   "notebookName": "2_extraccion_dinamica",
   "notebookOrigID": 3007146002323690,
   "widgets": {}
  }
 },
 "nbformat": 4,
 "nbformat_minor": 0
}
