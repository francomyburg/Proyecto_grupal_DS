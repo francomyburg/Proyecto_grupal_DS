{
 "cells": [
  {
   "cell_type": "markdown",
   "metadata": {
    "application/vnd.databricks.v1+cell": {
     "cellMetadata": {
      "byteLimit": 2048000,
      "rowLimit": 10000
     },
     "inputWidgets": {},
     "nuid": "ccaa3a81-a555-495a-b63a-e50641ce7c76",
     "showTitle": false,
     "title": ""
    }
   },
   "source": [
    "## Tubería con Auto Loader"
   ]
  },
  {
   "cell_type": "markdown",
   "metadata": {
    "application/vnd.databricks.v1+cell": {
     "cellMetadata": {
      "byteLimit": 2048000,
      "rowLimit": 10000
     },
     "inputWidgets": {},
     "nuid": "a2086bfb-c79d-4567-b167-d28803f01510",
     "showTitle": false,
     "title": ""
    }
   },
   "source": [
    "###Acceso a Blob Storage:"
   ]
  },
  {
   "cell_type": "code",
   "execution_count": 0,
   "metadata": {
    "application/vnd.databricks.v1+cell": {
     "cellMetadata": {
      "byteLimit": 2048000,
      "rowLimit": 10000
     },
     "inputWidgets": {},
     "nuid": "f79534cb-c2bc-4516-b28c-bfaf7722bea0",
     "showTitle": false,
     "title": ""
    }
   },
   "outputs": [],
   "source": [
    "import pyspark"
   ]
  },
  {
   "cell_type": "code",
   "execution_count": 0,
   "metadata": {
    "application/vnd.databricks.v1+cell": {
     "cellMetadata": {
      "byteLimit": 2048000,
      "rowLimit": 10000
     },
     "inputWidgets": {},
     "nuid": "6838a79b-150b-4ad9-be7e-8e6b1538b6ac",
     "showTitle": false,
     "title": ""
    }
   },
   "outputs": [],
   "source": [
    "storage_account_name = \"pfcrudo\"\n",
    "storage_account_key = \"ASY9nV2+pddQN2Y8AUZef5m4JtdidWOa5RW+fNIkj2HE60F5s95ueJraFC2/Jv1KulbyL5hwcYk6+AStCn7cjw==\""
   ]
  },
  {
   "cell_type": "code",
   "execution_count": 0,
   "metadata": {
    "application/vnd.databricks.v1+cell": {
     "cellMetadata": {
      "byteLimit": 2048000,
      "rowLimit": 10000
     },
     "inputWidgets": {},
     "nuid": "0bd0c6f4-f1eb-4f95-89b1-fce8df105e58",
     "showTitle": false,
     "title": ""
    }
   },
   "outputs": [],
   "source": [
    "spark.conf.set(f\"fs.azure.account.key.{storage_account_name}.blob.core.windows.net\", storage_account_key)"
   ]
  },
  {
   "cell_type": "code",
   "execution_count": 0,
   "metadata": {
    "application/vnd.databricks.v1+cell": {
     "cellMetadata": {
      "byteLimit": 2048000,
      "rowLimit": 10000
     },
     "inputWidgets": {},
     "nuid": "2589bbeb-e08a-4426-ad42-042a1d2878e0",
     "showTitle": false,
     "title": ""
    }
   },
   "outputs": [
    {
     "output_type": "display_data",
     "data": {
      "text/html": [
       "<style scoped>\n",
       "  .table-result-container {\n",
       "    max-height: 300px;\n",
       "    overflow: auto;\n",
       "  }\n",
       "  table, th, td {\n",
       "    border: 1px solid black;\n",
       "    border-collapse: collapse;\n",
       "  }\n",
       "  th, td {\n",
       "    padding: 5px;\n",
       "  }\n",
       "  th {\n",
       "    text-align: left;\n",
       "  }\n",
       "</style><div class='table-result-container'><table class='table-result'><thead style='background-color: white'><tr><th>path</th><th>name</th><th>size</th><th>modificationTime</th></tr></thead><tbody><tr><td>wasbs://yellowtaxis@pfcrudo.blob.core.windows.net/yellow_2021_12.parquet</td><td>yellow_2021_12.parquet</td><td>49639052</td><td>1681847938000</td></tr></tbody></table></div>"
      ]
     },
     "metadata": {
      "application/vnd.databricks.v1+output": {
       "addedWidgets": {},
       "aggData": [],
       "aggError": "",
       "aggOverflow": false,
       "aggSchema": [],
       "aggSeriesLimitReached": false,
       "aggType": "",
       "arguments": {},
       "columnCustomDisplayInfos": {},
       "data": [
        [
         "wasbs://yellowtaxis@pfcrudo.blob.core.windows.net/yellow_2021_12.parquet",
         "yellow_2021_12.parquet",
         49639052,
         1681847938000
        ]
       ],
       "datasetInfos": [],
       "dbfsResultPath": null,
       "isJsonSchema": true,
       "metadata": {
        "isDbfsCommandResult": false
       },
       "overflow": false,
       "plotOptions": {
        "customPlotOptions": {},
        "displayType": "table",
        "pivotAggregation": null,
        "pivotColumns": null,
        "xColumns": null,
        "yColumns": null
       },
       "removedWidgets": [],
       "schema": [
        {
         "metadata": "{}",
         "name": "path",
         "type": "\"string\""
        },
        {
         "metadata": "{}",
         "name": "name",
         "type": "\"string\""
        },
        {
         "metadata": "{}",
         "name": "size",
         "type": "\"long\""
        },
        {
         "metadata": "{}",
         "name": "modificationTime",
         "type": "\"long\""
        }
       ],
       "type": "table"
      }
     },
     "output_type": "display_data"
    }
   ],
   "source": [
    "%fs ls wasbs://yellowtaxis@pfcrudo.blob.core.windows.net/"
   ]
  },
  {
   "cell_type": "markdown",
   "metadata": {
    "application/vnd.databricks.v1+cell": {
     "cellMetadata": {
      "byteLimit": 2048000,
      "rowLimit": 10000
     },
     "inputWidgets": {},
     "nuid": "ce45c027-860b-4f46-a1fe-1b7eca5cc770",
     "showTitle": false,
     "title": ""
    }
   },
   "source": [
    "###Leer archivo y obtener el esquema general"
   ]
  },
  {
   "cell_type": "code",
   "execution_count": 0,
   "metadata": {
    "application/vnd.databricks.v1+cell": {
     "cellMetadata": {
      "byteLimit": 2048000,
      "rowLimit": 10000
     },
     "inputWidgets": {},
     "nuid": "2e266092-fa10-47c7-aa93-f4ed816709fd",
     "showTitle": false,
     "title": ""
    }
   },
   "outputs": [],
   "source": [
    "container = \"yellowtaxis\"\n",
    "dataframe = spark.read.parquet(f\"wasbs://{container}@{storage_account_name}.blob.core.windows.net/yellow_2021_12.parquet\")"
   ]
  },
  {
   "cell_type": "code",
   "execution_count": 0,
   "metadata": {
    "application/vnd.databricks.v1+cell": {
     "cellMetadata": {
      "byteLimit": 2048000,
      "rowLimit": 10000
     },
     "inputWidgets": {},
     "nuid": "e3f38b15-47b2-4b8e-b82e-f68aeedd0fff",
     "showTitle": false,
     "title": ""
    }
   },
   "outputs": [
    {
     "output_type": "stream",
     "name": "stdout",
     "output_type": "stream",
     "text": [
      "Out[257]: StructType([StructField('VendorID', LongType(), True), StructField('tpep_pickup_datetime', TimestampType(), True), StructField('tpep_dropoff_datetime', TimestampType(), True), StructField('passenger_count', DoubleType(), True), StructField('trip_distance', DoubleType(), True), StructField('RatecodeID', DoubleType(), True), StructField('store_and_fwd_flag', StringType(), True), StructField('PULocationID', LongType(), True), StructField('DOLocationID', LongType(), True), StructField('payment_type', LongType(), True), StructField('fare_amount', DoubleType(), True), StructField('extra', DoubleType(), True), StructField('mta_tax', DoubleType(), True), StructField('tip_amount', DoubleType(), True), StructField('tolls_amount', DoubleType(), True), StructField('improvement_surcharge', DoubleType(), True), StructField('total_amount', DoubleType(), True), StructField('congestion_surcharge', DoubleType(), True), StructField('airport_fee', DoubleType(), True)])"
     ]
    }
   ],
   "source": [
    "#Probar si se ve el esquema\n",
    "dataframe.schema"
   ]
  },
  {
   "cell_type": "code",
   "execution_count": 0,
   "metadata": {
    "application/vnd.databricks.v1+cell": {
     "cellMetadata": {
      "byteLimit": 2048000,
      "rowLimit": 10000
     },
     "inputWidgets": {},
     "nuid": "8c7394d0-afd5-4727-b84d-3ef2463a177c",
     "showTitle": false,
     "title": ""
    }
   },
   "outputs": [
    {
     "output_type": "stream",
     "name": "stdout",
     "output_type": "stream",
     "text": [
      "Out[258]: pyspark.sql.types.StructType"
     ]
    }
   ],
   "source": [
    "#Probar si se ve el tipo de objeto\n",
    "type(dataframe.schema)"
   ]
  },
  {
   "cell_type": "markdown",
   "metadata": {
    "application/vnd.databricks.v1+cell": {
     "cellMetadata": {
      "byteLimit": 2048000,
      "rowLimit": 10000
     },
     "inputWidgets": {},
     "nuid": "a6312ebf-b21e-413a-9fac-90b16399d9e1",
     "showTitle": false,
     "title": ""
    }
   },
   "source": [
    "Establecer el esquema deseado (para reducir memoria):"
   ]
  },
  {
   "cell_type": "code",
   "execution_count": 0,
   "metadata": {
    "application/vnd.databricks.v1+cell": {
     "cellMetadata": {
      "byteLimit": 2048000,
      "rowLimit": 10000
     },
     "inputWidgets": {},
     "nuid": "d8baaebf-523f-4a04-b523-759f546fcbee",
     "showTitle": false,
     "title": ""
    }
   },
   "outputs": [],
   "source": [
    "from pyspark.sql.types import StructType, StructField, ByteType, TimestampType, ShortType, StringType, FloatType"
   ]
  },
  {
   "cell_type": "markdown",
   "metadata": {
    "application/vnd.databricks.v1+cell": {
     "cellMetadata": {
      "byteLimit": 2048000,
      "rowLimit": 10000
     },
     "inputWidgets": {},
     "nuid": "da6a8818-3379-4d9a-95cb-91181d90cede",
     "showTitle": false,
     "title": ""
    }
   },
   "source": [
    "Exportar el esquema del archivo a JSON:"
   ]
  },
  {
   "cell_type": "code",
   "execution_count": 0,
   "metadata": {
    "application/vnd.databricks.v1+cell": {
     "cellMetadata": {
      "byteLimit": 2048000,
      "rowLimit": 10000
     },
     "inputWidgets": {},
     "nuid": "a8f72741-efc9-4125-8abc-88e6dc1b9f84",
     "showTitle": false,
     "title": ""
    }
   },
   "outputs": [],
   "source": [
    "#Guardar el schema a un archivo JSON en el almacenamiento de Databricks.\n",
    "import json\n",
    "with open(\"/dbfs/taxischema.json\", \"w\") as f: \n",
    "    json.dump(dataframe.schema.jsonValue(), f)"
   ]
  },
  {
   "cell_type": "code",
   "execution_count": 0,
   "metadata": {
    "application/vnd.databricks.v1+cell": {
     "cellMetadata": {
      "byteLimit": 2048000,
      "rowLimit": 10000
     },
     "inputWidgets": {},
     "nuid": "717b686a-a980-4df8-b7a9-a5e222af2138",
     "showTitle": false,
     "title": ""
    }
   },
   "outputs": [
    {
     "output_type": "stream",
     "name": "stdout",
     "output_type": "stream",
     "text": [
      "Out[261]: StructType([StructField('VendorID', LongType(), True), StructField('tpep_pickup_datetime', TimestampType(), True), StructField('tpep_dropoff_datetime', TimestampType(), True), StructField('passenger_count', DoubleType(), True), StructField('trip_distance', DoubleType(), True), StructField('RatecodeID', DoubleType(), True), StructField('store_and_fwd_flag', StringType(), True), StructField('PULocationID', LongType(), True), StructField('DOLocationID', LongType(), True), StructField('payment_type', LongType(), True), StructField('fare_amount', DoubleType(), True), StructField('extra', DoubleType(), True), StructField('mta_tax', DoubleType(), True), StructField('tip_amount', DoubleType(), True), StructField('tolls_amount', DoubleType(), True), StructField('improvement_surcharge', DoubleType(), True), StructField('total_amount', DoubleType(), True), StructField('congestion_surcharge', DoubleType(), True), StructField('airport_fee', DoubleType(), True)])"
     ]
    }
   ],
   "source": [
    "#Probar si se lee el esquema desde el archivo JSON.\n",
    "with open(\"/dbfs/taxischema.json\") as sch_file:\n",
    "    dataset_schema = StructType.fromJson(json.load(sch_file))\n",
    "    #print(dataset_schema.simpleString())\n",
    "dataset_schema"
   ]
  },
  {
   "cell_type": "markdown",
   "metadata": {
    "application/vnd.databricks.v1+cell": {
     "cellMetadata": {
      "byteLimit": 2048000,
      "rowLimit": 10000
     },
     "inputWidgets": {},
     "nuid": "07f10377-7175-4a8a-92bd-7e9c46ec363a",
     "showTitle": false,
     "title": ""
    }
   },
   "source": [
    "###Lectura"
   ]
  },
  {
   "cell_type": "markdown",
   "metadata": {
    "application/vnd.databricks.v1+cell": {
     "cellMetadata": {
      "byteLimit": 2048000,
      "rowLimit": 10000
     },
     "inputWidgets": {},
     "nuid": "3801f95b-7d86-4299-97ea-42b30d69f69d",
     "showTitle": false,
     "title": ""
    }
   },
   "source": [
    "Auto Loader"
   ]
  },
  {
   "cell_type": "code",
   "execution_count": 0,
   "metadata": {
    "application/vnd.databricks.v1+cell": {
     "cellMetadata": {
      "byteLimit": 2048000,
      "rowLimit": 10000
     },
     "inputWidgets": {},
     "nuid": "684d0cea-1761-41c4-b6a4-779215eac8c3",
     "showTitle": false,
     "title": ""
    }
   },
   "outputs": [],
   "source": [
    "stream_in = (spark.readStream\n",
    "                .format(\"cloudFiles\")\n",
    "                .option(\"cloudFiles.useNotifications\", False)\n",
    "                .option(\"cloudFiles.format\", \"parquet\")\n",
    "                .schema(dataset_schema)\n",
    "                .load(\"wasbs://yellowtaxis@pfcrudo.blob.core.windows.net/\"))"
   ]
  },
  {
   "cell_type": "markdown",
   "metadata": {
    "application/vnd.databricks.v1+cell": {
     "cellMetadata": {
      "byteLimit": 2048000,
      "rowLimit": 10000
     },
     "inputWidgets": {},
     "nuid": "a392edc4-2461-49c9-b4a2-5d858616b2a1",
     "showTitle": false,
     "title": ""
    }
   },
   "source": [
    "###Transformación"
   ]
  },
  {
   "cell_type": "code",
   "execution_count": 0,
   "metadata": {
    "application/vnd.databricks.v1+cell": {
     "cellMetadata": {
      "byteLimit": 2048000,
      "rowLimit": 10000
     },
     "inputWidgets": {},
     "nuid": "a4e7c5dd-71fe-42fd-8ec9-93557f3ac34c",
     "showTitle": false,
     "title": ""
    }
   },
   "outputs": [],
   "source": [
    "from pyspark.sql.functions import col, year, mode, abs"
   ]
  },
  {
   "cell_type": "code",
   "execution_count": 0,
   "metadata": {
    "application/vnd.databricks.v1+cell": {
     "cellMetadata": {
      "byteLimit": 2048000,
      "rowLimit": 10000
     },
     "inputWidgets": {},
     "nuid": "c5b565f6-a705-41ff-a464-0cc6cb4809e8",
     "showTitle": false,
     "title": ""
    }
   },
   "outputs": [],
   "source": [
    "#Eliminar columnas indeseadas y rellenar nulos.\n",
    "df = (\n",
    "    stream_in\n",
    "    .drop(\"VendorID\", \"RatecodeID\", \"store_and_fwd_flag\")\n",
    "    .na.fill(value = 0, subset = [\"fare_amount\", \"extra\", \"mta_tax\", \"tolls_amount\", \"improvement_surcharge\", \"congestion_surcharge\"])\n",
    ")"
   ]
  },
  {
   "cell_type": "code",
   "execution_count": 0,
   "metadata": {
    "application/vnd.databricks.v1+cell": {
     "cellMetadata": {
      "byteLimit": 2048000,
      "rowLimit": 10000
     },
     "inputWidgets": {},
     "nuid": "472b0e35-1b72-49fd-946c-006fd6a18b10",
     "showTitle": false,
     "title": ""
    }
   },
   "outputs": [],
   "source": [
    "#Ignorar filas con ID de ubicación desconocida (\"PULocationID\", \"DOLocationID\", 264, 265).\n",
    "df = df.filter(\n",
    "    (col(\"PULocationID\") != 264) & \n",
    "    (col(\"PULocationID\") != 265) & \n",
    "    (col(\"DOLocationID\") != 264) & \n",
    "    (col(\"DOLocationID\") != 265)\n",
    ")"
   ]
  },
  {
   "cell_type": "code",
   "execution_count": 0,
   "metadata": {
    "application/vnd.databricks.v1+cell": {
     "cellMetadata": {
      "byteLimit": 2048000,
      "rowLimit": 10000
     },
     "inputWidgets": {},
     "nuid": "65a5c6b9-b9d8-4477-9f5c-58038840e387",
     "showTitle": false,
     "title": ""
    }
   },
   "outputs": [],
   "source": [
    "#Usar valores absolutos para columnas numéricas.\n",
    "df = df.withColumn(\"passenger_count\", abs(col(\"passenger_count\")))\n",
    "df = df.withColumn(\"trip_distance\", abs(col(\"trip_distance\")))\n",
    "df = df.withColumn(\"fare_amount\", abs(col(\"fare_amount\")))\n",
    "df = df.withColumn(\"total_amount\", abs(col(\"total_amount\")))\n",
    "df = df.withColumn(\"extra\", abs(col(\"extra\")))\n",
    "df = df.withColumn(\"mta_tax\", abs(col(\"mta_tax\")))\n",
    "df = df.withColumn(\"tip_amount\", abs(col(\"tip_amount\")))\n",
    "df = df.withColumn(\"tolls_amount\", abs(col(\"tolls_amount\")))\n",
    "df = df.withColumn(\"improvement_surcharge\", abs(col(\"improvement_surcharge\")))\n",
    "df = df.withColumn(\"congestion_surcharge\", abs(col(\"congestion_surcharge\")))\n",
    "df = df.withColumn(\"airport_fee\", abs(col(\"airport_fee\")))"
   ]
  },
  {
   "cell_type": "markdown",
   "metadata": {
    "application/vnd.databricks.v1+cell": {
     "cellMetadata": {
      "byteLimit": 2048000,
      "rowLimit": 10000
     },
     "inputWidgets": {},
     "nuid": "9ec1db39-3da5-44ea-969b-f5ae5101819a",
     "showTitle": false,
     "title": ""
    }
   },
   "source": [
    "###Carga a SQL Database"
   ]
  },
  {
   "cell_type": "markdown",
   "metadata": {
    "application/vnd.databricks.v1+cell": {
     "cellMetadata": {
      "byteLimit": 2048000,
      "rowLimit": 10000
     },
     "inputWidgets": {},
     "nuid": "e9c31fd3-f928-4a8e-a7a4-f9783ba01b44",
     "showTitle": false,
     "title": ""
    }
   },
   "source": [
    "Conexión a SQL Database:"
   ]
  },
  {
   "cell_type": "code",
   "execution_count": 0,
   "metadata": {
    "application/vnd.databricks.v1+cell": {
     "cellMetadata": {
      "byteLimit": 2048000,
      "rowLimit": 10000
     },
     "inputWidgets": {},
     "nuid": "9e4e5c5f-e355-4b85-b733-9d61222ec91e",
     "showTitle": false,
     "title": ""
    }
   },
   "outputs": [],
   "source": [
    "def output_sqldb(batch_df, batch_id):\n",
    "    #Unas últimas transformaciones.\n",
    "    right_year = batch_df.select(mode(year('tpep_pickup_datetime'))).head()[0]\n",
    "    batch_df = batch_df.filter(year(\"tpep_pickup_datetime\") == right_year)\n",
    "\n",
    "    #Propiedades para la conexión.\n",
    "    jdbcHostname = \"pfservidor.database.windows.net\"\n",
    "    jdbcPort = 1433\n",
    "    jdbcDatabase = \"yellowtaxis\"\n",
    "    jdbcUsername = \"ivnng\"\n",
    "    jdbcPassword = \"henryPF2023\"\n",
    "    jdbcDriver = \"com.microsoft.sqlserver.jdbc.SQLServerDriver\"\n",
    "\n",
    "    jdbcUrl = f\"jdbc:sqlserver://{jdbcHostname}:{jdbcPort};databaseName={jdbcDatabase};user={jdbcUsername};password={jdbcPassword}\"\n",
    "\n",
    "    dbtable = \"trips\"\n",
    "\n",
    "    #Convertir de PySpark DataFrame a Azure DW...\n",
    "    batch_df.write.format(\"jdbc\").mode(\"append\").option(\"url\", jdbcUrl).option(\"dbtable\", dbtable).save()\n"
   ]
  },
  {
   "cell_type": "markdown",
   "metadata": {
    "application/vnd.databricks.v1+cell": {
     "cellMetadata": {
      "byteLimit": 2048000,
      "rowLimit": 10000
     },
     "inputWidgets": {},
     "nuid": "bddbaf71-24f6-4bd7-9908-870edd760e77",
     "showTitle": false,
     "title": ""
    }
   },
   "source": [
    "Auto Loader"
   ]
  },
  {
   "cell_type": "code",
   "execution_count": 0,
   "metadata": {
    "application/vnd.databricks.v1+cell": {
     "cellMetadata": {
      "byteLimit": 2048000,
      "rowLimit": 10000
     },
     "inputWidgets": {},
     "nuid": "fc3ca5c5-48c7-4cc6-bb2c-528d3739389a",
     "showTitle": false,
     "title": ""
    }
   },
   "outputs": [],
   "source": [
    "stream_out = (df.writeStream\n",
    "                .trigger(once = True)\n",
    "                .foreachBatch(output_sqldb)\n",
    "                .option(\"checkpointLocation\", \"wasbs://checkpoint@pfcrudo.blob.core.windows.net/\")\n",
    "                .start())"
   ]
  }
 ],
 "metadata": {
  "application/vnd.databricks.v1+notebook": {
   "dashboards": [],
   "language": "python",
   "notebookMetadata": {
    "mostRecentlyExecutedCommandWithImplicitDF": {
     "commandId": 2438231356450073,
     "dataframes": [
      "_sqldf"
     ]
    },
    "pythonIndentUnit": 4
   },
   "notebookName": "3_tuberia",
   "notebookOrigID": 2438231356450067,
   "widgets": {}
  }
 },
 "nbformat": 4,
 "nbformat_minor": 0
}
