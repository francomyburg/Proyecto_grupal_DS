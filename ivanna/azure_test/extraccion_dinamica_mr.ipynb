{
 "cells": [
  {
   "cell_type": "markdown",
   "metadata": {
    "application/vnd.databricks.v1+cell": {
     "cellMetadata": {
      "byteLimit": 2048000,
      "rowLimit": 10000
     },
     "inputWidgets": {},
     "nuid": "e1fcd513-cee3-4e27-a8e9-b62185c28330",
     "showTitle": false,
     "title": ""
    }
   },
   "source": [
    "## Extracción de datos dinámica del sitio de TLC con reporte mensual."
   ]
  },
  {
   "cell_type": "markdown",
   "metadata": {
    "application/vnd.databricks.v1+cell": {
     "cellMetadata": {
      "byteLimit": 2048000,
      "rowLimit": 10000
     },
     "inputWidgets": {},
     "nuid": "54780c1c-d9f0-4cdb-97c9-740bda58a7ef",
     "showTitle": false,
     "title": ""
    }
   },
   "source": [
    "De este sitio no hay vinculos nuevos cada cierto tiempo, sino que se usa el mismo vinculo para un nuevo archivo con más datos (suponiendo que el nombre del archivo siempre es el mismo).\n",
    "\n",
    "Se puede descargar siempre del mismo link y con las transformaciones mantener los datos del mes nuevo exclusivamente para subirlos al Blob Storage como archivo nuevo."
   ]
  },
  {
   "cell_type": "code",
   "execution_count": 0,
   "metadata": {
    "application/vnd.databricks.v1+cell": {
     "cellMetadata": {
      "byteLimit": 2048000,
      "rowLimit": 10000
     },
     "inputWidgets": {},
     "nuid": "3db2cef4-fe7c-448d-b69e-895fa5d11e57",
     "showTitle": false,
     "title": ""
    }
   },
   "outputs": [
    {
     "output_type": "stream",
     "name": "stdout",
     "output_type": "stream",
     "text": [
      "Python interpreter will be restarted.\nRequirement already satisfied: fsspec in /local_disk0/.ephemeral_nfs/envs/pythonEnv-71e875f9-f07b-4a1c-8822-342e85aad76e/lib/python3.9/site-packages (2023.4.0)\nPython interpreter will be restarted.\n"
     ]
    }
   ],
   "source": [
    "%pip install fsspec"
   ]
  },
  {
   "cell_type": "code",
   "execution_count": 0,
   "metadata": {
    "application/vnd.databricks.v1+cell": {
     "cellMetadata": {
      "byteLimit": 2048000,
      "rowLimit": 10000
     },
     "inputWidgets": {},
     "nuid": "74c224ce-5bed-42cf-9723-55480a5c331f",
     "showTitle": false,
     "title": ""
    }
   },
   "outputs": [
    {
     "output_type": "display_data",
     "data": {
      "application/vnd.databricks.v1+bamboolib_hint": "{\"pd.DataFrames\": [], \"version\": \"0.0.1\"}",
      "text/plain": []
     },
     "metadata": {
      "application/vnd.databricks.v1+output": {
       "addedWidgets": {},
       "arguments": {},
       "data": {
        "application/vnd.databricks.v1+bamboolib_hint": "{\"pd.DataFrames\": [], \"version\": \"0.0.1\"}",
        "text/plain": ""
       },
       "datasetInfos": [],
       "executionCount": null,
       "metadata": {
        "kernelSessionId": "eab2b45e-179fb55ea6d9610a5f28a68a"
       },
       "removedWidgets": [],
       "type": "mimeBundle"
      }
     },
     "output_type": "display_data"
    }
   ],
   "source": [
    "#Importar librerías.\n",
    "import pandas as pd\n",
    "import datetime\n",
    "import pyspark"
   ]
  },
  {
   "cell_type": "code",
   "execution_count": 0,
   "metadata": {
    "application/vnd.databricks.v1+cell": {
     "cellMetadata": {
      "byteLimit": 2048000,
      "rowLimit": 10000
     },
     "inputWidgets": {},
     "nuid": "ed3d848b-9112-436b-9951-20744055a267",
     "showTitle": false,
     "title": ""
    }
   },
   "outputs": [],
   "source": [
    "#Activar transferencia de datos columnares Arrow.\n",
    "spark.conf.set(\"spark.sql.execution.arrow.pyspark.enabled\", \"true\")"
   ]
  },
  {
   "cell_type": "code",
   "execution_count": 0,
   "metadata": {
    "application/vnd.databricks.v1+cell": {
     "cellMetadata": {
      "byteLimit": 2048000,
      "rowLimit": 10000
     },
     "inputWidgets": {},
     "nuid": "41d480fa-5379-46e8-9a4a-6e6724638fa6",
     "showTitle": false,
     "title": ""
    }
   },
   "outputs": [],
   "source": [
    "#URL del archivo que interesa.\n",
    "url = \"https://www1.nyc.gov/assets/tlc/downloads/csv/data_reports_monthly.csv\""
   ]
  },
  {
   "cell_type": "markdown",
   "metadata": {
    "application/vnd.databricks.v1+cell": {
     "cellMetadata": {
      "byteLimit": 2048000,
      "rowLimit": 10000
     },
     "inputWidgets": {},
     "nuid": "ec4a516a-1f8f-4fae-8852-1ba9d825991d",
     "showTitle": false,
     "title": ""
    }
   },
   "source": [
    "### Acceso a Blob Storage"
   ]
  },
  {
   "cell_type": "code",
   "execution_count": 0,
   "metadata": {
    "application/vnd.databricks.v1+cell": {
     "cellMetadata": {
      "byteLimit": 2048000,
      "rowLimit": 10000
     },
     "inputWidgets": {},
     "nuid": "ee7c0ffe-5253-49f4-9129-318351c0fb64",
     "showTitle": false,
     "title": ""
    }
   },
   "outputs": [],
   "source": [
    "#Datos de acceso.\n",
    "storage_account_name = \"pfcrudo\"\n",
    "storage_account_key = \"ASY9nV2+pddQN2Y8AUZef5m4JtdidWOa5RW+fNIkj2HE60F5s95ueJraFC2/Jv1KulbyL5hwcYk6+AStCn7cjw==\"\n",
    "container = \"monthlyreports\""
   ]
  },
  {
   "cell_type": "code",
   "execution_count": 0,
   "metadata": {
    "application/vnd.databricks.v1+cell": {
     "cellMetadata": {
      "byteLimit": 2048000,
      "rowLimit": 10000
     },
     "inputWidgets": {},
     "nuid": "dfcb9ce0-c25e-4cc9-9d15-65c23b154610",
     "showTitle": false,
     "title": ""
    }
   },
   "outputs": [],
   "source": [
    "#Variable de configuración Spark.\n",
    "spark.conf.set(f\"fs.azure.account.key.{storage_account_name}.blob.core.windows.net\", storage_account_key)"
   ]
  },
  {
   "cell_type": "code",
   "execution_count": 0,
   "metadata": {
    "application/vnd.databricks.v1+cell": {
     "cellMetadata": {
      "byteLimit": 2048000,
      "rowLimit": 10000
     },
     "inputWidgets": {},
     "nuid": "44e0df0b-aeaf-4ff4-83c7-471db1a82e65",
     "showTitle": false,
     "title": ""
    }
   },
   "outputs": [],
   "source": [
    "#Lista de archivos ya en el almacenamiento.\n",
    "file_list = dbutils.fs.ls(f\"wasbs://{container}@{storage_account_name}.blob.core.windows.net/\")"
   ]
  },
  {
   "cell_type": "code",
   "execution_count": 0,
   "metadata": {
    "application/vnd.databricks.v1+cell": {
     "cellMetadata": {
      "byteLimit": 2048000,
      "rowLimit": 10000
     },
     "inputWidgets": {},
     "nuid": "7752cd60-eafe-4002-8367-77bfa5b4f64e",
     "showTitle": false,
     "title": ""
    }
   },
   "outputs": [
    {
     "output_type": "stream",
     "name": "stdout",
     "output_type": "stream",
     "text": [
      "Out[7]: [FileInfo(path='wasbs://monthlyreports@pfcrudo.blob.core.windows.net/monthlyreports_2023_01.csv', name='monthlyreports_2023_01.csv', size=71781, modificationTime=1682120062000)]"
     ]
    }
   ],
   "source": [
    "file_list"
   ]
  },
  {
   "cell_type": "markdown",
   "metadata": {
    "application/vnd.databricks.v1+cell": {
     "cellMetadata": {
      "byteLimit": 2048000,
      "rowLimit": 10000
     },
     "inputWidgets": {},
     "nuid": "f4a11420-6c16-4c63-af18-9bd1526c4a9b",
     "showTitle": false,
     "title": ""
    }
   },
   "source": [
    "Acceso al archivo más reciente de Azure Blob Storage:"
   ]
  },
  {
   "cell_type": "code",
   "execution_count": 0,
   "metadata": {
    "application/vnd.databricks.v1+cell": {
     "cellMetadata": {
      "byteLimit": 2048000,
      "rowLimit": 10000
     },
     "inputWidgets": {},
     "nuid": "154ae1f8-50de-4d8d-8d2f-48c360252233",
     "showTitle": false,
     "title": ""
    }
   },
   "outputs": [],
   "source": [
    "#El índice de las listas de año y de mes deben coincidir con los de la file_list.\n",
    "date_list = []\n",
    "\n",
    "for file in file_list:\n",
    "    year = file.name[15]+file.name[16]+file.name[17]+file.name[18]\n",
    "    month = file.name[20]+file.name[21]\n",
    "    date = year+month\n",
    "    date_list.append(int(year+month))\n",
    "\n",
    "#Año-mes mayor de la lista. Para obtener índice del elemento de file_list.\n",
    "max = 0\n",
    "i = 0\n",
    "\n",
    "for date in date_list:\n",
    "    if date > max:\n",
    "        max = date\n",
    "        index = i\n",
    "    i += 1\n",
    "\n",
    "max_date = max\n",
    "date_index = index"
   ]
  },
  {
   "cell_type": "code",
   "execution_count": 0,
   "metadata": {
    "application/vnd.databricks.v1+cell": {
     "cellMetadata": {
      "byteLimit": 2048000,
      "rowLimit": 10000
     },
     "inputWidgets": {},
     "nuid": "a70b43d9-58f3-49e9-9869-1653fbbbc044",
     "showTitle": false,
     "title": ""
    }
   },
   "outputs": [],
   "source": [
    "#Dirección del archivo de Azure Blob Storage más reciente.\n",
    "storage_url = file_list[date_index].path"
   ]
  },
  {
   "cell_type": "code",
   "execution_count": 0,
   "metadata": {
    "application/vnd.databricks.v1+cell": {
     "cellMetadata": {
      "byteLimit": 2048000,
      "rowLimit": 10000
     },
     "inputWidgets": {},
     "nuid": "44c7c538-5e00-4aa2-87ff-9200477fe8c3",
     "showTitle": false,
     "title": ""
    }
   },
   "outputs": [],
   "source": [
    "#Leer y descargar archivo del almacenamiento.\n",
    "storage_df = (spark.read.option(\"delimiter\", \",\").option(\"header\", \"true\").csv(storage_url))\n",
    "\n",
    "storage_df = storage_df.toPandas()"
   ]
  },
  {
   "cell_type": "markdown",
   "metadata": {
    "application/vnd.databricks.v1+cell": {
     "cellMetadata": {
      "byteLimit": 2048000,
      "rowLimit": 10000
     },
     "inputWidgets": {},
     "nuid": "06575b62-98f6-485b-9b18-d6cc4dc742d0",
     "showTitle": false,
     "title": ""
    }
   },
   "source": [
    "### Comparación de archivos"
   ]
  },
  {
   "cell_type": "code",
   "execution_count": 0,
   "metadata": {
    "application/vnd.databricks.v1+cell": {
     "cellMetadata": {
      "byteLimit": 2048000,
      "rowLimit": 10000
     },
     "inputWidgets": {},
     "nuid": "935a20c8-445b-4114-9e56-7a3cb316923c",
     "showTitle": false,
     "title": ""
    }
   },
   "outputs": [],
   "source": [
    "#Convertir de pandas dataframe a spark dataframe.\n",
    "comparing_df = pd.read_csv(url)"
   ]
  },
  {
   "cell_type": "code",
   "execution_count": 0,
   "metadata": {
    "application/vnd.databricks.v1+cell": {
     "cellMetadata": {
      "byteLimit": 2048000,
      "rowLimit": 10000
     },
     "inputWidgets": {},
     "nuid": "2099499a-97e8-4b96-9902-35d3df59d6f6",
     "showTitle": false,
     "title": ""
    }
   },
   "outputs": [
    {
     "output_type": "display_data",
     "data": {
      "text/html": [
       "<div>\n",
       "<style scoped>\n",
       "    .dataframe tbody tr th:only-of-type {\n",
       "        vertical-align: middle;\n",
       "    }\n",
       "\n",
       "    .dataframe tbody tr th {\n",
       "        vertical-align: top;\n",
       "    }\n",
       "\n",
       "    .dataframe thead th {\n",
       "        text-align: right;\n",
       "    }\n",
       "</style>\n",
       "<table border=\"1\" class=\"dataframe\">\n",
       "  <thead>\n",
       "    <tr style=\"text-align: right;\">\n",
       "      <th></th>\n",
       "      <th>Month/Year</th>\n",
       "      <th>License Class</th>\n",
       "      <th>Trips Per Day</th>\n",
       "      <th>Farebox Per Day</th>\n",
       "      <th>Unique Drivers</th>\n",
       "      <th>Unique Vehicles</th>\n",
       "      <th>Vehicles Per Day</th>\n",
       "      <th>Avg Days Vehicles on Road</th>\n",
       "      <th>Avg Hours Per Day Per Vehicle</th>\n",
       "      <th>Avg Days Drivers on Road</th>\n",
       "      <th>Avg Hours Per Day Per Driver</th>\n",
       "      <th>Avg Minutes Per Trip</th>\n",
       "      <th>Percent of Trips Paid with Credit Card</th>\n",
       "      <th>Trips Per Day Shared</th>\n",
       "    </tr>\n",
       "  </thead>\n",
       "  <tbody>\n",
       "    <tr>\n",
       "      <th>0</th>\n",
       "      <td>2023-01</td>\n",
       "      <td>Green</td>\n",
       "      <td>2,199</td>\n",
       "      <td>43,733</td>\n",
       "      <td>960</td>\n",
       "      <td>911</td>\n",
       "      <td>488</td>\n",
       "      <td>16.6</td>\n",
       "      <td>3.5</td>\n",
       "      <td>16.1</td>\n",
       "      <td>3.5</td>\n",
       "      <td>13.8</td>\n",
       "      <td>66%</td>\n",
       "      <td>-</td>\n",
       "    </tr>\n",
       "    <tr>\n",
       "      <th>1</th>\n",
       "      <td>2023-01</td>\n",
       "      <td>FHV - High Volume</td>\n",
       "      <td>596,095</td>\n",
       "      <td>-</td>\n",
       "      <td>77,641</td>\n",
       "      <td>74,553</td>\n",
       "      <td>50,996</td>\n",
       "      <td>21.2</td>\n",
       "      <td>6.4</td>\n",
       "      <td>20.7</td>\n",
       "      <td>6.3</td>\n",
       "      <td>18</td>\n",
       "      <td>-</td>\n",
       "      <td>9,998</td>\n",
       "    </tr>\n",
       "    <tr>\n",
       "      <th>2</th>\n",
       "      <td>2023-01</td>\n",
       "      <td>FHV - Black Car</td>\n",
       "      <td>15,978</td>\n",
       "      <td>-</td>\n",
       "      <td>7,197</td>\n",
       "      <td>6,809</td>\n",
       "      <td>2,877</td>\n",
       "      <td>13.1</td>\n",
       "      <td>4.3</td>\n",
       "      <td>12.8</td>\n",
       "      <td>4.2</td>\n",
       "      <td>25</td>\n",
       "      <td>-</td>\n",
       "      <td>-</td>\n",
       "    </tr>\n",
       "    <tr>\n",
       "      <th>3</th>\n",
       "      <td>2023-01</td>\n",
       "      <td>FHV - Livery</td>\n",
       "      <td>18,853</td>\n",
       "      <td>-</td>\n",
       "      <td>4,778</td>\n",
       "      <td>4,614</td>\n",
       "      <td>2,791</td>\n",
       "      <td>18.8</td>\n",
       "      <td>4.9</td>\n",
       "      <td>18.5</td>\n",
       "      <td>4.8</td>\n",
       "      <td>18</td>\n",
       "      <td>-</td>\n",
       "      <td>-</td>\n",
       "    </tr>\n",
       "    <tr>\n",
       "      <th>4</th>\n",
       "      <td>2023-01</td>\n",
       "      <td>FHV - Lux Limo</td>\n",
       "      <td>1,060</td>\n",
       "      <td>-</td>\n",
       "      <td>1,501</td>\n",
       "      <td>1,468</td>\n",
       "      <td>532</td>\n",
       "      <td>11.3</td>\n",
       "      <td>2.0</td>\n",
       "      <td>11.3</td>\n",
       "      <td>1.9</td>\n",
       "      <td>63</td>\n",
       "      <td>-</td>\n",
       "      <td>-</td>\n",
       "    </tr>\n",
       "    <tr>\n",
       "      <th>...</th>\n",
       "      <td>...</td>\n",
       "      <td>...</td>\n",
       "      <td>...</td>\n",
       "      <td>...</td>\n",
       "      <td>...</td>\n",
       "      <td>...</td>\n",
       "      <td>...</td>\n",
       "      <td>...</td>\n",
       "      <td>...</td>\n",
       "      <td>...</td>\n",
       "      <td>...</td>\n",
       "      <td>...</td>\n",
       "      <td>...</td>\n",
       "      <td>...</td>\n",
       "    </tr>\n",
       "    <tr>\n",
       "      <th>654</th>\n",
       "      <td>2010-05</td>\n",
       "      <td>Yellow</td>\n",
       "      <td>499,374</td>\n",
       "      <td>5,561,218</td>\n",
       "      <td>30,950</td>\n",
       "      <td>13,309</td>\n",
       "      <td>12,729</td>\n",
       "      <td>29.6</td>\n",
       "      <td>14.8</td>\n",
       "      <td>22.7</td>\n",
       "      <td>8.3</td>\n",
       "      <td>-</td>\n",
       "      <td>35%</td>\n",
       "      <td>-</td>\n",
       "    </tr>\n",
       "    <tr>\n",
       "      <th>655</th>\n",
       "      <td>2010-04</td>\n",
       "      <td>Yellow</td>\n",
       "      <td>504,798</td>\n",
       "      <td>5,502,545</td>\n",
       "      <td>30,827</td>\n",
       "      <td>13,326</td>\n",
       "      <td>12,856</td>\n",
       "      <td>28.9</td>\n",
       "      <td>14.8</td>\n",
       "      <td>22.3</td>\n",
       "      <td>8.3</td>\n",
       "      <td>-</td>\n",
       "      <td>35%</td>\n",
       "      <td>-</td>\n",
       "    </tr>\n",
       "    <tr>\n",
       "      <th>656</th>\n",
       "      <td>2010-03</td>\n",
       "      <td>Yellow</td>\n",
       "      <td>415,567</td>\n",
       "      <td>3,011,750</td>\n",
       "      <td>28,709</td>\n",
       "      <td>12,183</td>\n",
       "      <td>10,382</td>\n",
       "      <td>26.4</td>\n",
       "      <td>15.1</td>\n",
       "      <td>20.4</td>\n",
       "      <td>8.3</td>\n",
       "      <td>11.5</td>\n",
       "      <td>35%</td>\n",
       "      <td>-</td>\n",
       "    </tr>\n",
       "    <tr>\n",
       "      <th>657</th>\n",
       "      <td>2010-02</td>\n",
       "      <td>Yellow</td>\n",
       "      <td>397,969</td>\n",
       "      <td>3,392,416</td>\n",
       "      <td>28,255</td>\n",
       "      <td>12,171</td>\n",
       "      <td>10,045</td>\n",
       "      <td>23.1</td>\n",
       "      <td>14.6</td>\n",
       "      <td>17.6</td>\n",
       "      <td>8.3</td>\n",
       "      <td>11.1</td>\n",
       "      <td>35%</td>\n",
       "      <td>-</td>\n",
       "    </tr>\n",
       "    <tr>\n",
       "      <th>658</th>\n",
       "      <td>2010-01</td>\n",
       "      <td>Yellow</td>\n",
       "      <td>479,376</td>\n",
       "      <td>4,968,817</td>\n",
       "      <td>30,659</td>\n",
       "      <td>13,305</td>\n",
       "      <td>12,727</td>\n",
       "      <td>29.7</td>\n",
       "      <td>14.3</td>\n",
       "      <td>22.5</td>\n",
       "      <td>8.2</td>\n",
       "      <td>-</td>\n",
       "      <td>32%</td>\n",
       "      <td>-</td>\n",
       "    </tr>\n",
       "  </tbody>\n",
       "</table>\n",
       "<p>659 rows × 14 columns</p>\n",
       "</div>"
      ]
     },
     "metadata": {
      "application/vnd.databricks.v1+output": {
       "addedWidgets": {},
       "arguments": {},
       "data": "<div>\n<style scoped>\n    .dataframe tbody tr th:only-of-type {\n        vertical-align: middle;\n    }\n\n    .dataframe tbody tr th {\n        vertical-align: top;\n    }\n\n    .dataframe thead th {\n        text-align: right;\n    }\n</style>\n<table border=\"1\" class=\"dataframe\">\n  <thead>\n    <tr style=\"text-align: right;\">\n      <th></th>\n      <th>Month/Year</th>\n      <th>License Class</th>\n      <th>Trips Per Day</th>\n      <th>Farebox Per Day</th>\n      <th>Unique Drivers</th>\n      <th>Unique Vehicles</th>\n      <th>Vehicles Per Day</th>\n      <th>Avg Days Vehicles on Road</th>\n      <th>Avg Hours Per Day Per Vehicle</th>\n      <th>Avg Days Drivers on Road</th>\n      <th>Avg Hours Per Day Per Driver</th>\n      <th>Avg Minutes Per Trip</th>\n      <th>Percent of Trips Paid with Credit Card</th>\n      <th>Trips Per Day Shared</th>\n    </tr>\n  </thead>\n  <tbody>\n    <tr>\n      <th>0</th>\n      <td>2023-01</td>\n      <td>Green</td>\n      <td>2,199</td>\n      <td>43,733</td>\n      <td>960</td>\n      <td>911</td>\n      <td>488</td>\n      <td>16.6</td>\n      <td>3.5</td>\n      <td>16.1</td>\n      <td>3.5</td>\n      <td>13.8</td>\n      <td>66%</td>\n      <td>-</td>\n    </tr>\n    <tr>\n      <th>1</th>\n      <td>2023-01</td>\n      <td>FHV - High Volume</td>\n      <td>596,095</td>\n      <td>-</td>\n      <td>77,641</td>\n      <td>74,553</td>\n      <td>50,996</td>\n      <td>21.2</td>\n      <td>6.4</td>\n      <td>20.7</td>\n      <td>6.3</td>\n      <td>18</td>\n      <td>-</td>\n      <td>9,998</td>\n    </tr>\n    <tr>\n      <th>2</th>\n      <td>2023-01</td>\n      <td>FHV - Black Car</td>\n      <td>15,978</td>\n      <td>-</td>\n      <td>7,197</td>\n      <td>6,809</td>\n      <td>2,877</td>\n      <td>13.1</td>\n      <td>4.3</td>\n      <td>12.8</td>\n      <td>4.2</td>\n      <td>25</td>\n      <td>-</td>\n      <td>-</td>\n    </tr>\n    <tr>\n      <th>3</th>\n      <td>2023-01</td>\n      <td>FHV - Livery</td>\n      <td>18,853</td>\n      <td>-</td>\n      <td>4,778</td>\n      <td>4,614</td>\n      <td>2,791</td>\n      <td>18.8</td>\n      <td>4.9</td>\n      <td>18.5</td>\n      <td>4.8</td>\n      <td>18</td>\n      <td>-</td>\n      <td>-</td>\n    </tr>\n    <tr>\n      <th>4</th>\n      <td>2023-01</td>\n      <td>FHV - Lux Limo</td>\n      <td>1,060</td>\n      <td>-</td>\n      <td>1,501</td>\n      <td>1,468</td>\n      <td>532</td>\n      <td>11.3</td>\n      <td>2.0</td>\n      <td>11.3</td>\n      <td>1.9</td>\n      <td>63</td>\n      <td>-</td>\n      <td>-</td>\n    </tr>\n    <tr>\n      <th>...</th>\n      <td>...</td>\n      <td>...</td>\n      <td>...</td>\n      <td>...</td>\n      <td>...</td>\n      <td>...</td>\n      <td>...</td>\n      <td>...</td>\n      <td>...</td>\n      <td>...</td>\n      <td>...</td>\n      <td>...</td>\n      <td>...</td>\n      <td>...</td>\n    </tr>\n    <tr>\n      <th>654</th>\n      <td>2010-05</td>\n      <td>Yellow</td>\n      <td>499,374</td>\n      <td>5,561,218</td>\n      <td>30,950</td>\n      <td>13,309</td>\n      <td>12,729</td>\n      <td>29.6</td>\n      <td>14.8</td>\n      <td>22.7</td>\n      <td>8.3</td>\n      <td>-</td>\n      <td>35%</td>\n      <td>-</td>\n    </tr>\n    <tr>\n      <th>655</th>\n      <td>2010-04</td>\n      <td>Yellow</td>\n      <td>504,798</td>\n      <td>5,502,545</td>\n      <td>30,827</td>\n      <td>13,326</td>\n      <td>12,856</td>\n      <td>28.9</td>\n      <td>14.8</td>\n      <td>22.3</td>\n      <td>8.3</td>\n      <td>-</td>\n      <td>35%</td>\n      <td>-</td>\n    </tr>\n    <tr>\n      <th>656</th>\n      <td>2010-03</td>\n      <td>Yellow</td>\n      <td>415,567</td>\n      <td>3,011,750</td>\n      <td>28,709</td>\n      <td>12,183</td>\n      <td>10,382</td>\n      <td>26.4</td>\n      <td>15.1</td>\n      <td>20.4</td>\n      <td>8.3</td>\n      <td>11.5</td>\n      <td>35%</td>\n      <td>-</td>\n    </tr>\n    <tr>\n      <th>657</th>\n      <td>2010-02</td>\n      <td>Yellow</td>\n      <td>397,969</td>\n      <td>3,392,416</td>\n      <td>28,255</td>\n      <td>12,171</td>\n      <td>10,045</td>\n      <td>23.1</td>\n      <td>14.6</td>\n      <td>17.6</td>\n      <td>8.3</td>\n      <td>11.1</td>\n      <td>35%</td>\n      <td>-</td>\n    </tr>\n    <tr>\n      <th>658</th>\n      <td>2010-01</td>\n      <td>Yellow</td>\n      <td>479,376</td>\n      <td>4,968,817</td>\n      <td>30,659</td>\n      <td>13,305</td>\n      <td>12,727</td>\n      <td>29.7</td>\n      <td>14.3</td>\n      <td>22.5</td>\n      <td>8.2</td>\n      <td>-</td>\n      <td>32%</td>\n      <td>-</td>\n    </tr>\n  </tbody>\n</table>\n<p>659 rows × 14 columns</p>\n</div>",
       "datasetInfos": [],
       "metadata": {},
       "removedWidgets": [],
       "textData": null,
       "type": "htmlSandbox"
      }
     },
     "output_type": "display_data"
    }
   ],
   "source": [
    "storage_df"
   ]
  },
  {
   "cell_type": "code",
   "execution_count": 0,
   "metadata": {
    "application/vnd.databricks.v1+cell": {
     "cellMetadata": {
      "byteLimit": 2048000,
      "rowLimit": 10000
     },
     "inputWidgets": {},
     "nuid": "7397eef8-8108-4794-a064-875b5f70d5b4",
     "showTitle": false,
     "title": ""
    }
   },
   "outputs": [
    {
     "output_type": "stream",
     "name": "stdout",
     "output_type": "stream",
     "text": [
      "Out[18]: 0      True\n1      True\n2      True\n3      True\n4      True\n       ... \n654    True\n655    True\n656    True\n657    True\n658    True\nLength: 659, dtype: bool"
     ]
    }
   ],
   "source": [
    "tuple_a = comparing_df.apply(tuple, 1)\n",
    "tuple_b = storage_df.apply(tuple, 1)\n",
    "\n",
    "#Cuáles tuplas se encuentran en el nuevo dataframe (True = Sí están, False = No están).\n",
    "~tuple_a.isin(tuple_b)"
   ]
  },
  {
   "cell_type": "code",
   "execution_count": 0,
   "metadata": {
    "application/vnd.databricks.v1+cell": {
     "cellMetadata": {
      "byteLimit": 2048000,
      "rowLimit": 10000
     },
     "inputWidgets": {},
     "nuid": "799d98a9-bc79-42e2-956e-50d628ecd945",
     "showTitle": false,
     "title": ""
    }
   },
   "outputs": [],
   "source": [
    "#Obtener las filas que discrepan.\n",
    "result = comparing_df[tuple_a.isin(tuple_b)]"
   ]
  },
  {
   "cell_type": "code",
   "execution_count": 0,
   "metadata": {
    "application/vnd.databricks.v1+cell": {
     "cellMetadata": {
      "byteLimit": 2048000,
      "rowLimit": 10000
     },
     "inputWidgets": {},
     "nuid": "b942a8d5-ccf9-44ed-ba97-bd4787d214f2",
     "showTitle": false,
     "title": ""
    }
   },
   "outputs": [],
   "source": [
    "#Número de filas del resultado.\n",
    "rows = len(result.index)"
   ]
  },
  {
   "cell_type": "code",
   "execution_count": 0,
   "metadata": {
    "application/vnd.databricks.v1+cell": {
     "cellMetadata": {
      "byteLimit": 2048000,
      "rowLimit": 10000
     },
     "inputWidgets": {},
     "nuid": "e50d4b31-fc3b-4b14-9f0f-67b4f0b6bc65",
     "showTitle": false,
     "title": ""
    }
   },
   "outputs": [
    {
     "output_type": "display_data",
     "data": {
      "text/html": [
       "<div>\n",
       "<style scoped>\n",
       "    .dataframe tbody tr th:only-of-type {\n",
       "        vertical-align: middle;\n",
       "    }\n",
       "\n",
       "    .dataframe tbody tr th {\n",
       "        vertical-align: top;\n",
       "    }\n",
       "\n",
       "    .dataframe thead th {\n",
       "        text-align: right;\n",
       "    }\n",
       "</style>\n",
       "<table border=\"1\" class=\"dataframe\">\n",
       "  <thead>\n",
       "    <tr style=\"text-align: right;\">\n",
       "      <th></th>\n",
       "      <th>Month/Year</th>\n",
       "      <th>License Class</th>\n",
       "      <th>Trips Per Day</th>\n",
       "      <th>Farebox Per Day</th>\n",
       "      <th>Unique Drivers</th>\n",
       "      <th>Unique Vehicles</th>\n",
       "      <th>Vehicles Per Day</th>\n",
       "      <th>Avg Days Vehicles on Road</th>\n",
       "      <th>Avg Hours Per Day Per Vehicle</th>\n",
       "      <th>Avg Days Drivers on Road</th>\n",
       "      <th>Avg Hours Per Day Per Driver</th>\n",
       "      <th>Avg Minutes Per Trip</th>\n",
       "      <th>Percent of Trips Paid with Credit Card</th>\n",
       "      <th>Trips Per Day Shared</th>\n",
       "    </tr>\n",
       "  </thead>\n",
       "  <tbody>\n",
       "    <tr>\n",
       "      <th>0</th>\n",
       "      <td>2023-01</td>\n",
       "      <td>Green</td>\n",
       "      <td>2,199</td>\n",
       "      <td>43,733</td>\n",
       "      <td>960</td>\n",
       "      <td>911</td>\n",
       "      <td>488</td>\n",
       "      <td>16.6</td>\n",
       "      <td>3.5</td>\n",
       "      <td>16.1</td>\n",
       "      <td>3.5</td>\n",
       "      <td>13.8</td>\n",
       "      <td>66%</td>\n",
       "      <td>-</td>\n",
       "    </tr>\n",
       "    <tr>\n",
       "      <th>1</th>\n",
       "      <td>2023-01</td>\n",
       "      <td>FHV - High Volume</td>\n",
       "      <td>596,095</td>\n",
       "      <td>-</td>\n",
       "      <td>77,641</td>\n",
       "      <td>74,553</td>\n",
       "      <td>50,996</td>\n",
       "      <td>21.2</td>\n",
       "      <td>6.4</td>\n",
       "      <td>20.7</td>\n",
       "      <td>6.3</td>\n",
       "      <td>18</td>\n",
       "      <td>-</td>\n",
       "      <td>9,998</td>\n",
       "    </tr>\n",
       "    <tr>\n",
       "      <th>2</th>\n",
       "      <td>2023-01</td>\n",
       "      <td>FHV - Black Car</td>\n",
       "      <td>15,978</td>\n",
       "      <td>-</td>\n",
       "      <td>7,197</td>\n",
       "      <td>6,809</td>\n",
       "      <td>2,877</td>\n",
       "      <td>13.1</td>\n",
       "      <td>4.3</td>\n",
       "      <td>12.8</td>\n",
       "      <td>4.2</td>\n",
       "      <td>25</td>\n",
       "      <td>-</td>\n",
       "      <td>-</td>\n",
       "    </tr>\n",
       "    <tr>\n",
       "      <th>3</th>\n",
       "      <td>2023-01</td>\n",
       "      <td>FHV - Livery</td>\n",
       "      <td>18,853</td>\n",
       "      <td>-</td>\n",
       "      <td>4,778</td>\n",
       "      <td>4,614</td>\n",
       "      <td>2,791</td>\n",
       "      <td>18.8</td>\n",
       "      <td>4.9</td>\n",
       "      <td>18.5</td>\n",
       "      <td>4.8</td>\n",
       "      <td>18</td>\n",
       "      <td>-</td>\n",
       "      <td>-</td>\n",
       "    </tr>\n",
       "    <tr>\n",
       "      <th>4</th>\n",
       "      <td>2023-01</td>\n",
       "      <td>FHV - Lux Limo</td>\n",
       "      <td>1,060</td>\n",
       "      <td>-</td>\n",
       "      <td>1,501</td>\n",
       "      <td>1,468</td>\n",
       "      <td>532</td>\n",
       "      <td>11.3</td>\n",
       "      <td>2.0</td>\n",
       "      <td>11.3</td>\n",
       "      <td>1.9</td>\n",
       "      <td>63</td>\n",
       "      <td>-</td>\n",
       "      <td>-</td>\n",
       "    </tr>\n",
       "    <tr>\n",
       "      <th>...</th>\n",
       "      <td>...</td>\n",
       "      <td>...</td>\n",
       "      <td>...</td>\n",
       "      <td>...</td>\n",
       "      <td>...</td>\n",
       "      <td>...</td>\n",
       "      <td>...</td>\n",
       "      <td>...</td>\n",
       "      <td>...</td>\n",
       "      <td>...</td>\n",
       "      <td>...</td>\n",
       "      <td>...</td>\n",
       "      <td>...</td>\n",
       "      <td>...</td>\n",
       "    </tr>\n",
       "    <tr>\n",
       "      <th>654</th>\n",
       "      <td>2010-05</td>\n",
       "      <td>Yellow</td>\n",
       "      <td>499,374</td>\n",
       "      <td>5,561,218</td>\n",
       "      <td>30,950</td>\n",
       "      <td>13,309</td>\n",
       "      <td>12,729</td>\n",
       "      <td>29.6</td>\n",
       "      <td>14.8</td>\n",
       "      <td>22.7</td>\n",
       "      <td>8.3</td>\n",
       "      <td>-</td>\n",
       "      <td>35%</td>\n",
       "      <td>-</td>\n",
       "    </tr>\n",
       "    <tr>\n",
       "      <th>655</th>\n",
       "      <td>2010-04</td>\n",
       "      <td>Yellow</td>\n",
       "      <td>504,798</td>\n",
       "      <td>5,502,545</td>\n",
       "      <td>30,827</td>\n",
       "      <td>13,326</td>\n",
       "      <td>12,856</td>\n",
       "      <td>28.9</td>\n",
       "      <td>14.8</td>\n",
       "      <td>22.3</td>\n",
       "      <td>8.3</td>\n",
       "      <td>-</td>\n",
       "      <td>35%</td>\n",
       "      <td>-</td>\n",
       "    </tr>\n",
       "    <tr>\n",
       "      <th>656</th>\n",
       "      <td>2010-03</td>\n",
       "      <td>Yellow</td>\n",
       "      <td>415,567</td>\n",
       "      <td>3,011,750</td>\n",
       "      <td>28,709</td>\n",
       "      <td>12,183</td>\n",
       "      <td>10,382</td>\n",
       "      <td>26.4</td>\n",
       "      <td>15.1</td>\n",
       "      <td>20.4</td>\n",
       "      <td>8.3</td>\n",
       "      <td>11.5</td>\n",
       "      <td>35%</td>\n",
       "      <td>-</td>\n",
       "    </tr>\n",
       "    <tr>\n",
       "      <th>657</th>\n",
       "      <td>2010-02</td>\n",
       "      <td>Yellow</td>\n",
       "      <td>397,969</td>\n",
       "      <td>3,392,416</td>\n",
       "      <td>28,255</td>\n",
       "      <td>12,171</td>\n",
       "      <td>10,045</td>\n",
       "      <td>23.1</td>\n",
       "      <td>14.6</td>\n",
       "      <td>17.6</td>\n",
       "      <td>8.3</td>\n",
       "      <td>11.1</td>\n",
       "      <td>35%</td>\n",
       "      <td>-</td>\n",
       "    </tr>\n",
       "    <tr>\n",
       "      <th>658</th>\n",
       "      <td>2010-01</td>\n",
       "      <td>Yellow</td>\n",
       "      <td>479,376</td>\n",
       "      <td>4,968,817</td>\n",
       "      <td>30,659</td>\n",
       "      <td>13,305</td>\n",
       "      <td>12,727</td>\n",
       "      <td>29.7</td>\n",
       "      <td>14.3</td>\n",
       "      <td>22.5</td>\n",
       "      <td>8.2</td>\n",
       "      <td>-</td>\n",
       "      <td>32%</td>\n",
       "      <td>-</td>\n",
       "    </tr>\n",
       "  </tbody>\n",
       "</table>\n",
       "<p>659 rows × 14 columns</p>\n",
       "</div>"
      ]
     },
     "metadata": {
      "application/vnd.databricks.v1+output": {
       "addedWidgets": {},
       "arguments": {},
       "data": "<div>\n<style scoped>\n    .dataframe tbody tr th:only-of-type {\n        vertical-align: middle;\n    }\n\n    .dataframe tbody tr th {\n        vertical-align: top;\n    }\n\n    .dataframe thead th {\n        text-align: right;\n    }\n</style>\n<table border=\"1\" class=\"dataframe\">\n  <thead>\n    <tr style=\"text-align: right;\">\n      <th></th>\n      <th>Month/Year</th>\n      <th>License Class</th>\n      <th>Trips Per Day</th>\n      <th>Farebox Per Day</th>\n      <th>Unique Drivers</th>\n      <th>Unique Vehicles</th>\n      <th>Vehicles Per Day</th>\n      <th>Avg Days Vehicles on Road</th>\n      <th>Avg Hours Per Day Per Vehicle</th>\n      <th>Avg Days Drivers on Road</th>\n      <th>Avg Hours Per Day Per Driver</th>\n      <th>Avg Minutes Per Trip</th>\n      <th>Percent of Trips Paid with Credit Card</th>\n      <th>Trips Per Day Shared</th>\n    </tr>\n  </thead>\n  <tbody>\n    <tr>\n      <th>0</th>\n      <td>2023-01</td>\n      <td>Green</td>\n      <td>2,199</td>\n      <td>43,733</td>\n      <td>960</td>\n      <td>911</td>\n      <td>488</td>\n      <td>16.6</td>\n      <td>3.5</td>\n      <td>16.1</td>\n      <td>3.5</td>\n      <td>13.8</td>\n      <td>66%</td>\n      <td>-</td>\n    </tr>\n    <tr>\n      <th>1</th>\n      <td>2023-01</td>\n      <td>FHV - High Volume</td>\n      <td>596,095</td>\n      <td>-</td>\n      <td>77,641</td>\n      <td>74,553</td>\n      <td>50,996</td>\n      <td>21.2</td>\n      <td>6.4</td>\n      <td>20.7</td>\n      <td>6.3</td>\n      <td>18</td>\n      <td>-</td>\n      <td>9,998</td>\n    </tr>\n    <tr>\n      <th>2</th>\n      <td>2023-01</td>\n      <td>FHV - Black Car</td>\n      <td>15,978</td>\n      <td>-</td>\n      <td>7,197</td>\n      <td>6,809</td>\n      <td>2,877</td>\n      <td>13.1</td>\n      <td>4.3</td>\n      <td>12.8</td>\n      <td>4.2</td>\n      <td>25</td>\n      <td>-</td>\n      <td>-</td>\n    </tr>\n    <tr>\n      <th>3</th>\n      <td>2023-01</td>\n      <td>FHV - Livery</td>\n      <td>18,853</td>\n      <td>-</td>\n      <td>4,778</td>\n      <td>4,614</td>\n      <td>2,791</td>\n      <td>18.8</td>\n      <td>4.9</td>\n      <td>18.5</td>\n      <td>4.8</td>\n      <td>18</td>\n      <td>-</td>\n      <td>-</td>\n    </tr>\n    <tr>\n      <th>4</th>\n      <td>2023-01</td>\n      <td>FHV - Lux Limo</td>\n      <td>1,060</td>\n      <td>-</td>\n      <td>1,501</td>\n      <td>1,468</td>\n      <td>532</td>\n      <td>11.3</td>\n      <td>2.0</td>\n      <td>11.3</td>\n      <td>1.9</td>\n      <td>63</td>\n      <td>-</td>\n      <td>-</td>\n    </tr>\n    <tr>\n      <th>...</th>\n      <td>...</td>\n      <td>...</td>\n      <td>...</td>\n      <td>...</td>\n      <td>...</td>\n      <td>...</td>\n      <td>...</td>\n      <td>...</td>\n      <td>...</td>\n      <td>...</td>\n      <td>...</td>\n      <td>...</td>\n      <td>...</td>\n      <td>...</td>\n    </tr>\n    <tr>\n      <th>654</th>\n      <td>2010-05</td>\n      <td>Yellow</td>\n      <td>499,374</td>\n      <td>5,561,218</td>\n      <td>30,950</td>\n      <td>13,309</td>\n      <td>12,729</td>\n      <td>29.6</td>\n      <td>14.8</td>\n      <td>22.7</td>\n      <td>8.3</td>\n      <td>-</td>\n      <td>35%</td>\n      <td>-</td>\n    </tr>\n    <tr>\n      <th>655</th>\n      <td>2010-04</td>\n      <td>Yellow</td>\n      <td>504,798</td>\n      <td>5,502,545</td>\n      <td>30,827</td>\n      <td>13,326</td>\n      <td>12,856</td>\n      <td>28.9</td>\n      <td>14.8</td>\n      <td>22.3</td>\n      <td>8.3</td>\n      <td>-</td>\n      <td>35%</td>\n      <td>-</td>\n    </tr>\n    <tr>\n      <th>656</th>\n      <td>2010-03</td>\n      <td>Yellow</td>\n      <td>415,567</td>\n      <td>3,011,750</td>\n      <td>28,709</td>\n      <td>12,183</td>\n      <td>10,382</td>\n      <td>26.4</td>\n      <td>15.1</td>\n      <td>20.4</td>\n      <td>8.3</td>\n      <td>11.5</td>\n      <td>35%</td>\n      <td>-</td>\n    </tr>\n    <tr>\n      <th>657</th>\n      <td>2010-02</td>\n      <td>Yellow</td>\n      <td>397,969</td>\n      <td>3,392,416</td>\n      <td>28,255</td>\n      <td>12,171</td>\n      <td>10,045</td>\n      <td>23.1</td>\n      <td>14.6</td>\n      <td>17.6</td>\n      <td>8.3</td>\n      <td>11.1</td>\n      <td>35%</td>\n      <td>-</td>\n    </tr>\n    <tr>\n      <th>658</th>\n      <td>2010-01</td>\n      <td>Yellow</td>\n      <td>479,376</td>\n      <td>4,968,817</td>\n      <td>30,659</td>\n      <td>13,305</td>\n      <td>12,727</td>\n      <td>29.7</td>\n      <td>14.3</td>\n      <td>22.5</td>\n      <td>8.2</td>\n      <td>-</td>\n      <td>32%</td>\n      <td>-</td>\n    </tr>\n  </tbody>\n</table>\n<p>659 rows × 14 columns</p>\n</div>",
       "datasetInfos": [],
       "metadata": {},
       "removedWidgets": [],
       "textData": null,
       "type": "htmlSandbox"
      }
     },
     "output_type": "display_data"
    }
   ],
   "source": [
    "comparing_df"
   ]
  },
  {
   "cell_type": "code",
   "execution_count": 0,
   "metadata": {
    "application/vnd.databricks.v1+cell": {
     "cellMetadata": {
      "byteLimit": 2048000,
      "rowLimit": 10000
     },
     "inputWidgets": {},
     "nuid": "72f4cd31-a371-4d61-b83c-8e6a1a502847",
     "showTitle": false,
     "title": ""
    }
   },
   "outputs": [],
   "source": [
    "#Obtener la fecha de los nuevos datos, usando la moda de esa columna (Month/Year).\n",
    "new_date = list(comparing_df[\"Month/Year\"].mode())[0]\n",
    "\n",
    "#Nombrar el archivo que se guardará.\n",
    "name_year = new_date[0]+new_date[1]+new_date[2]+new_date[3]\n",
    "name_month = new_date[5]+new_date[6]\n",
    "file_name = (f\"monthlyreports_{name_year}_{name_month}\")"
   ]
  },
  {
   "cell_type": "markdown",
   "metadata": {
    "application/vnd.databricks.v1+cell": {
     "cellMetadata": {},
     "inputWidgets": {},
     "nuid": "6c0253fe-f477-49f1-89a3-da1167a61386",
     "showTitle": false,
     "title": ""
    }
   },
   "source": [
    "### Exportación a Blob Storage"
   ]
  },
  {
   "cell_type": "code",
   "execution_count": 0,
   "metadata": {
    "application/vnd.databricks.v1+cell": {
     "cellMetadata": {
      "byteLimit": 2048000,
      "rowLimit": 10000
     },
     "inputWidgets": {},
     "nuid": "b2b0f5c4-89bc-4291-a061-7cab11abd715",
     "showTitle": false,
     "title": ""
    }
   },
   "outputs": [],
   "source": [
    "#Si el resultado tiene filas, exportarlo a almacenamiento.\n",
    "if rows > 0:\n",
    "    result_df = spark.createDataFrame(result)\n",
    "    result_df.write.format(\"csv\").save(f\"wasbs://{container}@{storage_account_name}.blob.core.windows.net/{file_name}\")\n",
    "else:\n",
    "    print(\"No hay diferencias en los datos.\")"
   ]
  }
 ],
 "metadata": {
  "application/vnd.databricks.v1+notebook": {
   "dashboards": [],
   "language": "python",
   "notebookMetadata": {
    "pythonIndentUnit": 4
   },
   "notebookName": "extraccion_estatica_mr",
   "notebookOrigID": 2759346011910554,
   "widgets": {}
  },
  "kernelspec": {
   "display_name": ".venv",
   "language": "python",
   "name": "python3"
  },
  "language_info": {
   "codemirror_mode": {
    "name": "ipython",
    "version": 3
   },
   "file_extension": ".py",
   "mimetype": "text/x-python",
   "name": "python",
   "nbconvert_exporter": "python",
   "pygments_lexer": "ipython3",
   "version": "3.11.1"
  },
  "orig_nbformat": 4
 },
 "nbformat": 4,
 "nbformat_minor": 0
}
